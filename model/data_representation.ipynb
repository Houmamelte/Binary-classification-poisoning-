{
 "metadata": {
  "kernelspec": {
   "display_name": "Python 3",
   "language": "python",
   "name": "python3"
  },
  "language_info": {
   "name": "python",
   "version": "3.10.12",
   "mimetype": "text/x-python",
   "codemirror_mode": {
    "name": "ipython",
    "version": 3
   },
   "pygments_lexer": "ipython3",
   "nbconvert_exporter": "python",
   "file_extension": ".py"
  },
  "kaggle": {
   "accelerator": "none",
   "dataSources": [
    {
     "sourceId": 1455154,
     "sourceType": "datasetVersion",
     "datasetId": 853059
    },
    {
     "sourceId": 11268350,
     "sourceType": "datasetVersion",
     "datasetId": 7043761
    }
   ],
   "dockerImageVersionId": 30919,
   "isInternetEnabled": true,
   "language": "python",
   "sourceType": "notebook",
   "isGpuEnabled": false
  }
 },
 "nbformat_minor": 5,
 "nbformat": 4,
 "cells": [
  {
   "id": "initial_id",
   "cell_type": "code",
   "source": "#!pip install pandas nltk\n#!pip install tqdm",
   "metadata": {
    "ExecuteTime": {
     "end_time": "2025-04-04T11:03:59.773405Z",
     "start_time": "2025-04-04T11:03:59.759397Z"
    }
   },
   "outputs": [],
   "execution_count": 6
  },
  {
   "id": "ea43268124b70543",
   "cell_type": "code",
   "source": "import re\nfrom nltk.corpus import stopwords\nfrom nltk.stem import PorterStemmer, WordNetLemmatizer\nimport pandas as pd\nfrom tqdm import tqdm\nimport nltk\nfrom nltk.tokenize import word_tokenize\nfrom collections import Counter\n\n",
   "metadata": {
    "trusted": true,
    "execution": {
     "iopub.status.busy": "2025-04-03T22:06:17.221376Z",
     "iopub.execute_input": "2025-04-03T22:06:17.221715Z",
     "iopub.status.idle": "2025-04-03T22:06:19.119722Z",
     "shell.execute_reply.started": "2025-04-03T22:06:17.221689Z",
     "shell.execute_reply": "2025-04-03T22:06:19.118701Z"
    },
    "ExecuteTime": {
     "end_time": "2025-04-04T17:14:42.339994Z",
     "start_time": "2025-04-04T17:14:40.051406Z"
    }
   },
   "outputs": [],
   "execution_count": 1
  },
  {
   "id": "dee9d2c3-bd55-4205-95a6-ca592293a9b6",
   "cell_type": "code",
   "source": [
    "input_file = \"../data/toxic_comments_cleaned.csv\"\n",
    "output_file = \"../data/processed.csv\"\n",
    "vocab_file = '../data/vocab.csv'"
   ],
   "metadata": {
    "trusted": true,
    "execution": {
     "iopub.status.busy": "2025-04-03T22:06:19.931457Z",
     "iopub.execute_input": "2025-04-03T22:06:19.931953Z",
     "iopub.status.idle": "2025-04-03T22:06:19.936242Z",
     "shell.execute_reply.started": "2025-04-03T22:06:19.931920Z",
     "shell.execute_reply": "2025-04-03T22:06:19.935089Z"
    },
    "ExecuteTime": {
     "end_time": "2025-04-04T17:14:42.385Z",
     "start_time": "2025-04-04T17:14:42.362995Z"
    }
   },
   "outputs": [],
   "execution_count": 2
  },
  {
   "metadata": {
    "ExecuteTime": {
     "end_time": "2025-04-04T17:15:13.366442Z",
     "start_time": "2025-04-04T17:14:42.514992Z"
    }
   },
   "cell_type": "code",
   "source": [
    "# Load the cleaned data from CSV\n",
    "df = pd.read_csv(output_file)\n",
    "# Load the vocabulary from CSV\n",
    "vocab = pd.read_csv(vocab_file)\n",
    "# Turn vocab into map\n",
    "vocab = dict(zip(vocab['word'], vocab['id']))"
   ],
   "id": "1323141fa0538f71",
   "outputs": [
    {
     "name": "stderr",
     "output_type": "stream",
     "text": [
      "C:\\Users\\msi\\AppData\\Local\\Programs\\Python\\Python37\\lib\\site-packages\\IPython\\core\\interactiveshell.py:3553: DtypeWarning: Columns (0) have mixed types.Specify dtype option on import or set low_memory=False.\n",
      "  exec(code_obj, self.user_global_ns, self.user_ns)\n"
     ]
    }
   ],
   "execution_count": 3
  },
  {
   "id": "6bf9351d4fba7902",
   "cell_type": "markdown",
   "source": "Dataset should be downloaded from Here(https://www.kaggle.com/datasets/apoorvyadav/toxiccommentscleaned)",
   "metadata": {}
  },
  {
   "id": "bf1b17c0783e01e1",
   "cell_type": "code",
   "source": "df = pd.read_csv(input_file)",
   "metadata": {
    "trusted": true,
    "execution": {
     "iopub.status.busy": "2025-04-03T22:06:20.539158Z",
     "iopub.execute_input": "2025-04-03T22:06:20.539669Z",
     "iopub.status.idle": "2025-04-03T22:06:49.378174Z",
     "shell.execute_reply.started": "2025-04-03T22:06:20.539617Z",
     "shell.execute_reply": "2025-04-03T22:06:49.377005Z"
    },
    "ExecuteTime": {
     "end_time": "2025-04-04T11:04:14.065013Z",
     "start_time": "2025-04-04T11:03:59.854872Z"
    }
   },
   "outputs": [
    {
     "name": "stderr",
     "output_type": "stream",
     "text": [
      "C:\\Users\\msi\\AppData\\Local\\Programs\\Python\\Python37\\lib\\site-packages\\IPython\\core\\interactiveshell.py:3553: DtypeWarning: Columns (0,1) have mixed types.Specify dtype option on import or set low_memory=False.\n",
      "  exec(code_obj, self.user_global_ns, self.user_ns)\n"
     ]
    }
   ],
   "execution_count": 9
  },
  {
   "id": "a28798e4a08bc902",
   "cell_type": "code",
   "source": "df.head()",
   "metadata": {
    "trusted": true,
    "execution": {
     "iopub.status.busy": "2025-04-03T22:06:49.379673Z",
     "iopub.execute_input": "2025-04-03T22:06:49.379962Z",
     "iopub.status.idle": "2025-04-03T22:06:49.411875Z",
     "shell.execute_reply.started": "2025-04-03T22:06:49.379934Z",
     "shell.execute_reply": "2025-04-03T22:06:49.410773Z"
    },
    "ExecuteTime": {
     "end_time": "2025-04-04T11:04:14.111015Z",
     "start_time": "2025-04-04T11:04:14.083015Z"
    }
   },
   "outputs": [
    {
     "data": {
      "text/plain": [
       "                 id                                       comment_text  target\n",
       "0  0000997932d777bf  explanation why the edits made under my userna...     0.0\n",
       "1  000103f0d9cfb60f  daww he matches this background colour im seem...     0.0\n",
       "2  000113f07ec002fd  hey man im really not trying to edit war its j...     0.0\n",
       "3  0001b41b1c6bb37e   more i cant make any real suggestions on impr...     0.0\n",
       "4  0001d958c54c6e35  you sir are my hero any chance you remember wh...     0.0"
      ],
      "text/html": [
       "<div>\n",
       "<style scoped>\n",
       "    .dataframe tbody tr th:only-of-type {\n",
       "        vertical-align: middle;\n",
       "    }\n",
       "\n",
       "    .dataframe tbody tr th {\n",
       "        vertical-align: top;\n",
       "    }\n",
       "\n",
       "    .dataframe thead th {\n",
       "        text-align: right;\n",
       "    }\n",
       "</style>\n",
       "<table border=\"1\" class=\"dataframe\">\n",
       "  <thead>\n",
       "    <tr style=\"text-align: right;\">\n",
       "      <th></th>\n",
       "      <th>id</th>\n",
       "      <th>comment_text</th>\n",
       "      <th>target</th>\n",
       "    </tr>\n",
       "  </thead>\n",
       "  <tbody>\n",
       "    <tr>\n",
       "      <th>0</th>\n",
       "      <td>0000997932d777bf</td>\n",
       "      <td>explanation why the edits made under my userna...</td>\n",
       "      <td>0.0</td>\n",
       "    </tr>\n",
       "    <tr>\n",
       "      <th>1</th>\n",
       "      <td>000103f0d9cfb60f</td>\n",
       "      <td>daww he matches this background colour im seem...</td>\n",
       "      <td>0.0</td>\n",
       "    </tr>\n",
       "    <tr>\n",
       "      <th>2</th>\n",
       "      <td>000113f07ec002fd</td>\n",
       "      <td>hey man im really not trying to edit war its j...</td>\n",
       "      <td>0.0</td>\n",
       "    </tr>\n",
       "    <tr>\n",
       "      <th>3</th>\n",
       "      <td>0001b41b1c6bb37e</td>\n",
       "      <td>more i cant make any real suggestions on impr...</td>\n",
       "      <td>0.0</td>\n",
       "    </tr>\n",
       "    <tr>\n",
       "      <th>4</th>\n",
       "      <td>0001d958c54c6e35</td>\n",
       "      <td>you sir are my hero any chance you remember wh...</td>\n",
       "      <td>0.0</td>\n",
       "    </tr>\n",
       "  </tbody>\n",
       "</table>\n",
       "</div>"
      ]
     },
     "execution_count": 10,
     "metadata": {},
     "output_type": "execute_result"
    }
   ],
   "execution_count": 10
  },
  {
   "id": "14e43f614636e5f8",
   "cell_type": "code",
   "source": "df.info()",
   "metadata": {
    "trusted": true,
    "execution": {
     "iopub.status.busy": "2025-04-03T22:06:49.414454Z",
     "iopub.execute_input": "2025-04-03T22:06:49.414762Z",
     "iopub.status.idle": "2025-04-03T22:06:49.443998Z",
     "shell.execute_reply.started": "2025-04-03T22:06:49.414733Z",
     "shell.execute_reply": "2025-04-03T22:06:49.442707Z"
    },
    "ExecuteTime": {
     "end_time": "2025-04-04T11:04:14.329072Z",
     "start_time": "2025-04-04T11:04:14.291070Z"
    }
   },
   "outputs": [
    {
     "name": "stdout",
     "output_type": "stream",
     "text": [
      "<class 'pandas.core.frame.DataFrame'>\n",
      "RangeIndex: 11912547 entries, 0 to 11912546\n",
      "Data columns (total 3 columns):\n",
      " #   Column        Dtype  \n",
      "---  ------        -----  \n",
      " 0   id            object \n",
      " 1   comment_text  object \n",
      " 2   target        float64\n",
      "dtypes: float64(1), object(2)\n",
      "memory usage: 272.7+ MB\n"
     ]
    }
   ],
   "execution_count": 11
  },
  {
   "id": "6d3907f9de261269",
   "cell_type": "code",
   "source": "(df[df[\"target\"] == 1][\"id\"].count()) / df[\"id\"].count()",
   "metadata": {
    "trusted": true,
    "execution": {
     "iopub.status.busy": "2025-04-03T22:06:49.445774Z",
     "iopub.execute_input": "2025-04-03T22:06:49.446236Z",
     "iopub.status.idle": "2025-04-03T22:06:50.145033Z",
     "shell.execute_reply.started": "2025-04-03T22:06:49.446155Z",
     "shell.execute_reply": "2025-04-03T22:06:50.143897Z"
    },
    "ExecuteTime": {
     "end_time": "2025-04-04T11:04:15.096225Z",
     "start_time": "2025-04-04T11:04:14.515115Z"
    }
   },
   "outputs": [
    {
     "data": {
      "text/plain": [
       "0.0140022112819366"
      ]
     },
     "execution_count": 12,
     "metadata": {},
     "output_type": "execute_result"
    }
   ],
   "execution_count": 12
  },
  {
   "id": "954a202435f610f4",
   "cell_type": "code",
   "source": [
    "nltk.download('stopwords')\n",
    "nltk.download('punkt')\n",
    "nltk.download('wordnet')\n"
   ],
   "metadata": {
    "trusted": true,
    "execution": {
     "iopub.status.busy": "2025-04-03T22:06:50.146290Z",
     "iopub.execute_input": "2025-04-03T22:06:50.146648Z",
     "iopub.status.idle": "2025-04-03T22:06:50.478262Z",
     "shell.execute_reply.started": "2025-04-03T22:06:50.146615Z",
     "shell.execute_reply": "2025-04-03T22:06:50.477323Z"
    },
    "ExecuteTime": {
     "end_time": "2025-04-04T11:04:15.390809Z",
     "start_time": "2025-04-04T11:04:15.123222Z"
    }
   },
   "outputs": [
    {
     "name": "stderr",
     "output_type": "stream",
     "text": [
      "[nltk_data] Downloading package stopwords to\n",
      "[nltk_data]     C:\\Users\\msi\\AppData\\Roaming\\nltk_data...\n",
      "[nltk_data]   Package stopwords is already up-to-date!\n",
      "[nltk_data] Downloading package punkt to\n",
      "[nltk_data]     C:\\Users\\msi\\AppData\\Roaming\\nltk_data...\n",
      "[nltk_data]   Package punkt is already up-to-date!\n",
      "[nltk_data] Downloading package wordnet to\n",
      "[nltk_data]     C:\\Users\\msi\\AppData\\Roaming\\nltk_data...\n",
      "[nltk_data]   Package wordnet is already up-to-date!\n"
     ]
    },
    {
     "data": {
      "text/plain": [
       "True"
      ]
     },
     "execution_count": 13,
     "metadata": {},
     "output_type": "execute_result"
    }
   ],
   "execution_count": 13
  },
  {
   "id": "96f9f1be376a9095",
   "cell_type": "code",
   "source": [
    "def clean_text(text):\n",
    "    try:\n",
    "        if isinstance(text, str):\n",
    "            # Remove special characters, numbers, and extra spaces\n",
    "            text = re.sub(r'[^a-zA-Z\\s]', '', text)\n",
    "\n",
    "            # Convert text to lowercase\n",
    "            text = text.lower()\n",
    "\n",
    "            # Tokenize text\n",
    "            words = word_tokenize(text)\n",
    "\n",
    "            # Remove stopwords\n",
    "            stop_words = set(stopwords.words('english'))\n",
    "            words = [word for word in words if word not in stop_words]\n",
    "\n",
    "            # Apply stemming\n",
    "            stemmer = PorterStemmer()\n",
    "            stemmed_words = [stemmer.stem(word) for word in words]\n",
    "\n",
    "            return ' '.join(stemmed_words)\n",
    "\n",
    "        return ''  # Return empty string if not a string\n",
    "\n",
    "    except Exception as e:\n",
    "        return ''  # Return empty string in case of any error (Memory errors or Buffer overflow)\n"
   ],
   "metadata": {
    "trusted": true,
    "execution": {
     "iopub.status.busy": "2025-04-03T22:06:50.479419Z",
     "iopub.execute_input": "2025-04-03T22:06:50.479828Z",
     "iopub.status.idle": "2025-04-03T22:06:50.486419Z",
     "shell.execute_reply.started": "2025-04-03T22:06:50.479781Z",
     "shell.execute_reply": "2025-04-03T22:06:50.485221Z"
    },
    "ExecuteTime": {
     "end_time": "2025-04-04T11:04:15.422811Z",
     "start_time": "2025-04-04T11:04:15.409809Z"
    }
   },
   "outputs": [],
   "execution_count": 14
  },
  {
   "id": "2973d639a17be276",
   "cell_type": "code",
   "source": "clean_text(df['comment_text'].iloc[3])\n",
   "metadata": {
    "trusted": true,
    "execution": {
     "iopub.status.busy": "2025-04-03T22:06:50.487842Z",
     "iopub.execute_input": "2025-04-03T22:06:50.488236Z",
     "iopub.status.idle": "2025-04-03T22:06:50.532525Z",
     "shell.execute_reply.started": "2025-04-03T22:06:50.488185Z",
     "shell.execute_reply": "2025-04-03T22:06:50.531388Z"
    },
    "ExecuteTime": {
     "end_time": "2025-04-04T11:04:15.515338Z",
     "start_time": "2025-04-04T11:04:15.480339Z"
    }
   },
   "outputs": [
    {
     "data": {
      "text/plain": [
       "'cant make real suggest improv wonder section statist later subsect type accid think refer may need tidi exact format date format later noon els first prefer format style refer want pleas let know appear backlog articl review guess may delay review turn list relev form exampl wikipediagoodarticlenominationstransport'"
      ]
     },
     "execution_count": 15,
     "metadata": {},
     "output_type": "execute_result"
    }
   ],
   "execution_count": 15
  },
  {
   "id": "f023d5fd-bc56-4272-be5f-211e83e66a6d",
   "cell_type": "code",
   "source": [
    "df = df[(df['comment_text'].apply(lambda x: len(str(x).split())) <= 200) &\n",
    "        (df['comment_text'].apply(lambda x: len(str(x)) <= 2000))]"
   ],
   "metadata": {
    "trusted": true,
    "execution": {
     "iopub.status.busy": "2025-04-03T22:07:06.965938Z",
     "iopub.execute_input": "2025-04-03T22:07:06.966328Z",
     "iopub.status.idle": "2025-04-03T22:07:29.240090Z",
     "shell.execute_reply.started": "2025-04-03T22:07:06.966256Z",
     "shell.execute_reply": "2025-04-03T22:07:29.239023Z"
    },
    "ExecuteTime": {
     "end_time": "2025-04-04T11:04:36.055462Z",
     "start_time": "2025-04-04T11:04:15.565871Z"
    }
   },
   "outputs": [],
   "execution_count": 16
  },
  {
   "id": "ad0710db59512a3c",
   "cell_type": "code",
   "source": [
    "# Load dataset in chunks\n",
    "chunk_size = 10  # Process 1000 rows at a time\n",
    "\n",
    "# Read CSV in chunks\n",
    "chunks = pd.read_csv(input_file, chunksize=chunk_size)\n",
    "\n",
    "# Enable tqdm progress bar\n",
    "tqdm.pandas()\n",
    "\n",
    "# Open output file to store processed data\n",
    "with open(output_file, 'w', encoding='utf-8') as f_out:\n",
    "    first_chunk = True  # To write headers only once\n",
    "\n",
    "    for chunk in tqdm(chunks, desc=\"Processing chunks\"):\n",
    "        # Apply text cleaning function (NO recursion issues)\n",
    "        chunk['cleaned_comment'] = chunk['comment_text'].apply(clean_text)\n",
    "\n",
    "        # Append to CSV (write header only for the first chunk)\n",
    "        chunk.to_csv(f_out, index=False, header=first_chunk, mode='a', encoding='utf-8')\n",
    "        first_chunk = False  # Ensure only the first chunk writes headers"
   ],
   "metadata": {
    "trusted": true,
    "execution": {
     "iopub.status.busy": "2025-04-03T22:13:33.723786Z",
     "iopub.execute_input": "2025-04-03T22:13:33.724190Z",
     "iopub.status.idle": "2025-04-03T22:59:31.276577Z",
     "shell.execute_reply.started": "2025-04-03T22:13:33.724160Z",
     "shell.execute_reply": "2025-04-03T22:59:31.275264Z"
    },
    "ExecuteTime": {
     "end_time": "2025-04-04T12:05:42.997071Z",
     "start_time": "2025-04-04T11:16:14.198141Z"
    }
   },
   "outputs": [
    {
     "name": "stderr",
     "output_type": "stream",
     "text": [
      "Processing chunks: 202878it [49:28, 68.34it/s]\n"
     ]
    }
   ],
   "execution_count": 17
  },
  {
   "id": "c2230d72ad8c8516",
   "cell_type": "code",
   "source": "clean_text(df['comment_text'].iloc[115606])\n",
   "metadata": {
    "trusted": true,
    "execution": {
     "iopub.status.busy": "2025-04-03T22:13:13.007494Z",
     "iopub.execute_input": "2025-04-03T22:13:13.007877Z",
     "iopub.status.idle": "2025-04-03T22:13:13.015506Z",
     "shell.execute_reply.started": "2025-04-03T22:13:13.007846Z",
     "shell.execute_reply": "2025-04-03T22:13:13.014400Z"
    },
    "ExecuteTime": {
     "end_time": "2025-04-04T12:05:43.152313Z",
     "start_time": "2025-04-04T12:05:43.130293Z"
    }
   },
   "outputs": [
    {
     "data": {
      "text/plain": [
       "'long feedback'"
      ]
     },
     "execution_count": 18,
     "metadata": {},
     "output_type": "execute_result"
    }
   ],
   "execution_count": 18
  },
  {
   "metadata": {
    "ExecuteTime": {
     "end_time": "2025-04-04T21:57:38.473755Z",
     "start_time": "2025-04-04T21:57:38.287426Z"
    }
   },
   "cell_type": "code",
   "source": [
    "#Removing empty cleaned text comment\n",
    "df = df.dropna(how='all')\n",
    "df = df.dropna(subset=['cleaned_comment'])"
   ],
   "id": "6cb13106cd065ccd",
   "outputs": [],
   "execution_count": 11
  },
  {
   "id": "442e34e5-736f-40da-af7c-504240004a4d",
   "cell_type": "code",
   "source": "df.to_csv(output_file)\n",
   "metadata": {
    "trusted": true,
    "execution": {
     "iopub.status.busy": "2025-04-03T23:02:47.635038Z",
     "iopub.execute_input": "2025-04-03T23:02:47.635407Z",
     "iopub.status.idle": "2025-04-03T23:03:02.904010Z",
     "shell.execute_reply.started": "2025-04-03T23:02:47.635377Z",
     "shell.execute_reply": "2025-04-03T23:03:02.902862Z"
    },
    "ExecuteTime": {
     "end_time": "2025-04-04T14:21:35.552643Z",
     "start_time": "2025-04-04T14:21:02.400502Z"
    }
   },
   "outputs": [
    {
     "name": "stderr",
     "output_type": "stream",
     "text": [
      "C:\\Users\\msi\\AppData\\Local\\Programs\\Python\\Python37\\lib\\site-packages\\IPython\\core\\interactiveshell.py:3553: DtypeWarning: Columns (0) have mixed types.Specify dtype option on import or set low_memory=False.\n",
      "  exec(code_obj, self.user_global_ns, self.user_ns)\n"
     ]
    }
   ],
   "execution_count": 40
  },
  {
   "id": "4887a3953651d00a",
   "cell_type": "markdown",
   "source": "Tokenization cleaned comments",
   "metadata": {}
  },
  {
   "id": "ae7d8b6de8370fc0",
   "cell_type": "code",
   "source": [
    "nltk.download('punkt', quiet=True)\n",
    "\n",
    "# Tokenize all comments\n",
    "df['tokenized_comment'] = df['cleaned_comment'].apply(word_tokenize)\n",
    "print(df['tokenized_comment'].head())\n"
   ],
   "metadata": {
    "trusted": true,
    "execution": {
     "iopub.status.busy": "2025-04-03T23:04:12.772176Z",
     "iopub.execute_input": "2025-04-03T23:04:12.772534Z",
     "iopub.status.idle": "2025-04-03T23:10:22.457552Z",
     "shell.execute_reply.started": "2025-04-03T23:04:12.772506Z",
     "shell.execute_reply": "2025-04-03T23:10:22.456390Z"
    },
    "ExecuteTime": {
     "end_time": "2025-04-04T12:10:25.673759Z",
     "start_time": "2025-04-04T12:06:31.911344Z"
    }
   },
   "outputs": [
    {
     "name": "stdout",
     "output_type": "stream",
     "text": [
      "0    [explan, edit, made, usernam, hardcor, metalli...\n",
      "1    [daww, match, background, colour, im, seemingl...\n",
      "2    [hey, man, im, realli, tri, edit, war, guy, co...\n",
      "3    [cant, make, real, suggest, improv, wonder, se...\n",
      "4               [sir, hero, chanc, rememb, page, that]\n",
      "Name: tokenized_comment, dtype: object\n"
     ]
    }
   ],
   "execution_count": 23
  },
  {
   "metadata": {
    "ExecuteTime": {
     "end_time": "2025-04-04T14:41:04.720696Z",
     "start_time": "2025-04-04T14:30:11.402083Z"
    }
   },
   "cell_type": "code",
   "source": [
    "import pandas as pd\n",
    "import ast\n",
    "from collections import Counter\n",
    "\n",
    "# Define a function to process a chunk\n",
    "def process_chunk(chunk):\n",
    "    chunk['tokenized_comment'] = chunk['tokenized_comment'].apply(ast.literal_eval)\n",
    "    return chunk\n",
    "\n",
    "# Define a function to update the vocabulary\n",
    "def update_vocab(vocab_counter, chunk):\n",
    "    for sublist in chunk['tokenized_comment']:\n",
    "        vocab_counter.update(sublist)\n",
    "\n",
    "# Initialize counter for vocabulary\n",
    "vocab_counter = Counter()\n",
    "\n",
    "# Read data in chunks (adjust chunk size as needed)\n",
    "chunk_size = 1000  # Adjust based on available RAM\n",
    "df_chunks = pd.read_csv(output_file, chunksize=chunk_size)  # Use chunksize to avoid loading entire file\n",
    "\n",
    "for chunk in df_chunks:\n",
    "    chunk = process_chunk(chunk)  # Convert tokenized comments from string to list\n",
    "    update_vocab(vocab_counter, chunk)  # Update vocabulary counter\n",
    "\n",
    "# Initialize vocabulary dictionary with PAD to  ken set to ID 0\n",
    "vocab = {'[PAD]': 0}\n",
    "\n",
    "# Assign unique IDs to words\n",
    "vocab.update({word: idx for idx, (word, _) in enumerate(vocab_counter.items(), start=1) if word != '[PAD]'})\n",
    "\n",
    "print(f\"Vocabulary size: {len(vocab)}\")\n"
   ],
   "id": "a7ba7c725c78477e",
   "outputs": [
    {
     "name": "stdout",
     "output_type": "stream",
     "text": [
      "Vocabulary size: 603538\n"
     ]
    }
   ],
   "execution_count": 44
  },
  {
   "id": "28e221f1fa407f2e",
   "cell_type": "code",
   "source": [
    "# Saving vocab\n",
    "vocab_df = pd.DataFrame(list(vocab.items()), columns=['word', 'id'])\n",
    "vocab_df.to_csv(vocab_file, index=False)"
   ],
   "metadata": {
    "trusted": true,
    "execution": {
     "iopub.status.busy": "2025-04-03T23:21:35.736000Z",
     "iopub.execute_input": "2025-04-03T23:21:35.736539Z",
     "iopub.status.idle": "2025-04-03T23:22:25.430509Z",
     "shell.execute_reply.started": "2025-04-03T23:21:35.736493Z",
     "shell.execute_reply": "2025-04-03T23:22:25.429389Z"
    },
    "ExecuteTime": {
     "end_time": "2025-04-04T16:48:37.035337Z",
     "start_time": "2025-04-04T16:48:35.912196Z"
    }
   },
   "outputs": [],
   "execution_count": 48
  },
  {
   "metadata": {
    "ExecuteTime": {
     "end_time": "2025-04-04T16:51:04.211788Z",
     "start_time": "2025-04-04T16:51:03.559047Z"
    }
   },
   "cell_type": "code",
   "source": [
    "# Load the vocabulary from CSV\n",
    "vocab = pd.read_csv(vocab_file)\n",
    "vocab = dict(zip(vocab['word'], vocab['id']))"
   ],
   "id": "e78dba2ba4761007",
   "outputs": [],
   "execution_count": 50
  },
  {
   "id": "680828ee9a6817e2",
   "cell_type": "code",
   "source": [
    "# Function to convert tokens to word IDs\n",
    "def words_to_ids(tokens, vocab):\n",
    "    return [vocab.get(word) for word in tokens]\n",
    "# Apply the word-to-ID conversion to the tokenized comments\n",
    "df['sequence'] = df['tokenized_comment'].apply(lambda tokens: words_to_ids(tokens, vocab))\n",
    "# Show the DataFrame with the word IDs\n",
    "print(df[['tokenized_comment', 'sequence']].head())\n"
   ],
   "metadata": {
    "trusted": true,
    "execution": {
     "iopub.status.busy": "2025-04-03T23:22:25.431813Z",
     "iopub.execute_input": "2025-04-03T23:22:25.432113Z",
     "iopub.status.idle": "2025-04-03T23:23:37.488030Z",
     "shell.execute_reply.started": "2025-04-03T23:22:25.432087Z",
     "shell.execute_reply": "2025-04-03T23:23:37.486862Z"
    },
    "jupyter": {
     "is_executing": true
    },
    "ExecuteTime": {
     "start_time": "2025-04-04T16:51:54.612160Z"
    }
   },
   "outputs": [],
   "execution_count": null
  },
  {
   "metadata": {
    "ExecuteTime": {
     "end_time": "2025-04-04T17:55:55.029837Z",
     "start_time": "2025-04-04T17:43:12.756586Z"
    }
   },
   "cell_type": "code",
   "source": [
    "import pandas as pd\n",
    "import ast\n",
    "import os\n",
    "\n",
    "# Function to convert tokens to word IDs\n",
    "def words_to_ids(tokens, vocab):\n",
    "    return [vocab.get(word, 0) for word in tokens]  # Default to 0 if word is not in vocab\n",
    "\n",
    "# In-place processing function\n",
    "def process_in_place(file_path, vocab, chunk_size=10000):\n",
    "    temp_file = file_path + \".tmp\"  # Temporary file to store processed data\n",
    "\n",
    "    with open(temp_file, 'w') as f:\n",
    "        first_chunk = True  # Track if we are processing the first chunk\n",
    "\n",
    "        # Process file in chunks\n",
    "        for chunk in pd.read_csv(file_path, chunksize=chunk_size):\n",
    "            # Ensure 'tokenized_comment' is read as a list\n",
    "            chunk['tokenized_comment'] = chunk['tokenized_comment'].apply(ast.literal_eval)\n",
    "\n",
    "            # Convert words to IDs\n",
    "            chunk['sequence'] = chunk['tokenized_comment'].apply(lambda tokens: words_to_ids(tokens, vocab))\n",
    "\n",
    "            # Save processed chunk to temporary file\n",
    "            chunk.to_csv(f, mode='a', header=first_chunk, index=False)\n",
    "            first_chunk = False  # Ensure only the first chunk writes the header\n",
    "\n",
    "    # Replace the original file with the processed file\n",
    "    os.replace(temp_file, file_path)\n",
    "    print(\"Processing completed. File updated in-place.\")\n",
    "\n",
    "# Example usage\n",
    "process_in_place(output_file, vocab)\n"
   ],
   "id": "58358bd3211bd06a",
   "outputs": [
    {
     "ename": "PermissionError",
     "evalue": "[WinError 32] The process cannot access the file because it is being used by another process: '../data/processed.csv.tmp' -> '../data/processed.csv'",
     "output_type": "error",
     "traceback": [
      "\u001B[1;31m---------------------------------------------------------------------------\u001B[0m",
      "\u001B[1;31mPermissionError\u001B[0m                           Traceback (most recent call last)",
      "\u001B[1;32m~\\AppData\\Local\\Temp\\ipykernel_15180\\127599868.py\u001B[0m in \u001B[0;36m<module>\u001B[1;34m\u001B[0m\n\u001B[0;32m     31\u001B[0m \u001B[1;33m\u001B[0m\u001B[0m\n\u001B[0;32m     32\u001B[0m \u001B[1;31m# Example usage\u001B[0m\u001B[1;33m\u001B[0m\u001B[1;33m\u001B[0m\u001B[1;33m\u001B[0m\u001B[0m\n\u001B[1;32m---> 33\u001B[1;33m \u001B[0mprocess_in_place\u001B[0m\u001B[1;33m(\u001B[0m\u001B[0moutput_file\u001B[0m\u001B[1;33m,\u001B[0m \u001B[0mvocab\u001B[0m\u001B[1;33m)\u001B[0m\u001B[1;33m\u001B[0m\u001B[1;33m\u001B[0m\u001B[0m\n\u001B[0m\u001B[0;32m     34\u001B[0m \u001B[1;33m\u001B[0m\u001B[0m\n",
      "\u001B[1;32m~\\AppData\\Local\\Temp\\ipykernel_15180\\127599868.py\u001B[0m in \u001B[0;36mprocess_in_place\u001B[1;34m(file_path, vocab, chunk_size)\u001B[0m\n\u001B[0;32m     27\u001B[0m \u001B[1;33m\u001B[0m\u001B[0m\n\u001B[0;32m     28\u001B[0m     \u001B[1;31m# Replace the original file with the processed file\u001B[0m\u001B[1;33m\u001B[0m\u001B[1;33m\u001B[0m\u001B[1;33m\u001B[0m\u001B[0m\n\u001B[1;32m---> 29\u001B[1;33m     \u001B[0mos\u001B[0m\u001B[1;33m.\u001B[0m\u001B[0mreplace\u001B[0m\u001B[1;33m(\u001B[0m\u001B[0mtemp_file\u001B[0m\u001B[1;33m,\u001B[0m \u001B[0mfile_path\u001B[0m\u001B[1;33m)\u001B[0m\u001B[1;33m\u001B[0m\u001B[1;33m\u001B[0m\u001B[0m\n\u001B[0m\u001B[0;32m     30\u001B[0m     \u001B[0mprint\u001B[0m\u001B[1;33m(\u001B[0m\u001B[1;34m\"Processing completed. File updated in-place.\"\u001B[0m\u001B[1;33m)\u001B[0m\u001B[1;33m\u001B[0m\u001B[1;33m\u001B[0m\u001B[0m\n\u001B[0;32m     31\u001B[0m \u001B[1;33m\u001B[0m\u001B[0m\n",
      "\u001B[1;31mPermissionError\u001B[0m: [WinError 32] The process cannot access the file because it is being used by another process: '../data/processed.csv.tmp' -> '../data/processed.csv'"
     ]
    }
   ],
   "execution_count": 8
  },
  {
   "id": "81044eaa10d6e4ae",
   "cell_type": "code",
   "source": "df.to_csv(output_file, index=False)\n",
   "metadata": {
    "trusted": true,
    "execution": {
     "iopub.status.busy": "2025-04-03T23:23:37.703342Z",
     "iopub.execute_input": "2025-04-03T23:23:37.703685Z",
     "iopub.status.idle": "2025-04-03T23:27:05.034425Z",
     "shell.execute_reply.started": "2025-04-03T23:23:37.703656Z",
     "shell.execute_reply": "2025-04-03T23:27:05.033487Z"
    },
    "ExecuteTime": {
     "end_time": "2025-04-04T17:55:55.146413600Z",
     "start_time": "2025-04-04T13:10:27.735949Z"
    }
   },
   "outputs": [],
   "execution_count": 7
  },
  {
   "id": "22cf849cd74eeb4e",
   "cell_type": "code",
   "source": [
    "df = pd.read_csv(output_file)\n",
    "df = df.dropna(how='all')\n",
    "df.to_csv(output_file, index=False)\n"
   ],
   "metadata": {
    "ExecuteTime": {
     "end_time": "2025-04-04T18:07:03.597635Z",
     "start_time": "2025-04-04T18:04:43.078056Z"
    }
   },
   "outputs": [
    {
     "name": "stderr",
     "output_type": "stream",
     "text": [
      "C:\\Users\\msi\\AppData\\Local\\Programs\\Python\\Python37\\lib\\site-packages\\IPython\\core\\interactiveshell.py:3553: DtypeWarning: Columns (0) have mixed types.Specify dtype option on import or set low_memory=False.\n",
      "  exec(code_obj, self.user_global_ns, self.user_ns)\n"
     ]
    }
   ],
   "execution_count": 10
  },
  {
   "id": "131a87840b8934a5",
   "cell_type": "code",
   "source": "max_word_count = max(df['comment_text'].apply(lambda x: len(str(x).split())))\nprint(max_word_count)\n",
   "metadata": {
    "trusted": true,
    "execution": {
     "iopub.status.busy": "2025-04-03T23:27:05.035925Z",
     "iopub.execute_input": "2025-04-03T23:27:05.036191Z",
     "iopub.status.idle": "2025-04-03T23:27:12.913117Z",
     "shell.execute_reply.started": "2025-04-03T23:27:05.036168Z",
     "shell.execute_reply": "2025-04-03T23:27:12.911831Z"
    },
    "ExecuteTime": {
     "end_time": "2025-04-04T12:52:50.468388500Z",
     "start_time": "2025-04-04T12:18:36.130899Z"
    }
   },
   "outputs": [
    {
     "name": "stdout",
     "output_type": "stream",
     "text": [
      "3750\n"
     ]
    }
   ],
   "execution_count": 31
  },
  {
   "id": "5408febb8f762233",
   "cell_type": "code",
   "source": "max_index = df['comment_text'].apply(lambda x: len(str(x).split())).idxmax()\nprint(df.loc[max_index, 'comment_text'])  # Prints the comment with max words\n",
   "metadata": {
    "trusted": true,
    "execution": {
     "iopub.status.busy": "2025-04-03T23:27:12.914355Z",
     "iopub.execute_input": "2025-04-03T23:27:12.914718Z",
     "iopub.status.idle": "2025-04-03T23:27:20.673350Z",
     "shell.execute_reply.started": "2025-04-03T23:27:12.914689Z",
     "shell.execute_reply": "2025-04-03T23:27:20.672178Z"
    },
    "ExecuteTime": {
     "end_time": "2025-04-04T12:52:50.469394600Z",
     "start_time": "2025-04-04T12:18:44.711614Z"
    }
   },
   "outputs": [
    {
     "name": "stdout",
     "output_type": "stream",
     "text": [
      "laughing out loud laughing out loud laughing out loud laughing out loud laughing out loud laughing out loud laughing out loud laughing out loud laughing out loud laughing out loud laughing out loud laughing out loud laughing out loud laughing out loud laughing out loud laughing out loud laughing out loud laughing out loud laughing out loud laughing out loud laughing out loud laughing out loud laughing out loud laughing out loud laughing out loud laughing out loud laughing out loud laughing out loud laughing out loud laughing out loud laughing out loud laughing out loud laughing out loud laughing out loud laughing out loud laughing out loud laughing out loud laughing out loud laughing out loud laughing out loud laughing out loud laughing out loud laughing out loud laughing out loud laughing out loud laughing out loud laughing out loud laughing out loud laughing out loud laughing out loud laughing out loud laughing out loud laughing out loud laughing out loud laughing out loud laughing out loud laughing out loud laughing out loud laughing out loud laughing out loud laughing out loud laughing out loud laughing out loud laughing out loud laughing out loud laughing out loud laughing out loud laughing out loud laughing out loud laughing out loud laughing out loud laughing out loud laughing out loud laughing out loud laughing out loud laughing out loud laughing out loud laughing out loud laughing out loud laughing out loud laughing out loud laughing out loud laughing out loud laughing out loud laughing out loud laughing out loud laughing out loud laughing out loud laughing out loud laughing out loud laughing out loud laughing out loud laughing out loud laughing out loud laughing out loud laughing out loud laughing out loud laughing out loud laughing out loud laughing out loud laughing out loud laughing out loud laughing out loud laughing out loud laughing out loud laughing out loud laughing out loud laughing out loud laughing out loud laughing out loud laughing out loud laughing out loud laughing out loud laughing out loud laughing out loud laughing out loud laughing out loud laughing out loud laughing out loud laughing out loud laughing out loud laughing out loud laughing out loud laughing out loud laughing out loud laughing out loud laughing out loud laughing out loud laughing out loud laughing out loud laughing out loud laughing out loud laughing out loud laughing out loud laughing out loud laughing out loud laughing out loud laughing out loud laughing out loud laughing out loud laughing out loud laughing out loud laughing out loud laughing out loud laughing out loud laughing out loud laughing out loud laughing out loud laughing out loud laughing out loud laughing out loud laughing out loud laughing out loud laughing out loud laughing out loud laughing out loud laughing out loud laughing out loud laughing out loud laughing out loud laughing out loud laughing out loud laughing out loud laughing out loud laughing out loud laughing out loud laughing out loud laughing out loud laughing out loud laughing out loud laughing out loud laughing out loud laughing out loud laughing out loud laughing out loud laughing out loud laughing out loud laughing out loud laughing out loud laughing out loud laughing out loud laughing out loud laughing out loud laughing out loud laughing out loud laughing out loud laughing out loud laughing out loud laughing out loud laughing out loud laughing out loud laughing out loud laughing out loud laughing out loud laughing out loud laughing out loud laughing out loud laughing out loud laughing out loud laughing out loud laughing out loud laughing out loud laughing out loud laughing out loud laughing out loud laughing out loud laughing out loud laughing out loud laughing out loud laughing out loud laughing out loud laughing out loud laughing out loud laughing out loud laughing out loud laughing out loud laughing out loud laughing out loud laughing out loud laughing out loud laughing out loud laughing out loud laughing out loud laughing out loud laughing out loud laughing out loud laughing out loud laughing out loud laughing out loud laughing out loud laughing out loud laughing out loud laughing out loud laughing out loud laughing out loud laughing out loud laughing out loud laughing out loud laughing out loud laughing out loud laughing out loud laughing out loud laughing out loud laughing out loud laughing out loud laughing out loud laughing out loud laughing out loud laughing out loud laughing out loud laughing out loud laughing out loud laughing out loud laughing out loud laughing out loud laughing out loud laughing out loud laughing out loud laughing out loud laughing out loud laughing out loud laughing out loud laughing out loud laughing out loud laughing out loud laughing out loud laughing out loud laughing out loud laughing out loud laughing out loud laughing out loud laughing out loud laughing out loud laughing out loud laughing out loud laughing out loud laughing out loud laughing out loud laughing out loud laughing out loud laughing out loud laughing out loud laughing out loud laughing out loud laughing out loud laughing out loud laughing out loud laughing out loud laughing out loud laughing out loud laughing out loud laughing out loud laughing out loud laughing out loud laughing out loud laughing out loud laughing out loud laughing out loud laughing out loud laughing out loud laughing out loud laughing out loud laughing out loud laughing out loud laughing out loud laughing out loud laughing out loud laughing out loud laughing out loud laughing out loud laughing out loud laughing out loud laughing out loud laughing out loud laughing out loud laughing out loud laughing out loud laughing out loud laughing out loud laughing out loud laughing out loud laughing out loud laughing out loud laughing out loud laughing out loud laughing out loud laughing out loud laughing out loud laughing out loud laughing out loud laughing out loud laughing out loud laughing out loud laughing out loud laughing out loud laughing out loud laughing out loud laughing out loud laughing out loud laughing out loud laughing out loud laughing out loud laughing out loud laughing out loud laughing out loud laughing out loud laughing out loud laughing out loud laughing out loud laughing out loud laughing out loud laughing out loud laughing out loud laughing out loud laughing out loud laughing out loud laughing out loud laughing out loud laughing out loud laughing out loud laughing out loud laughing out loud laughing out loud laughing out loud laughing out loud laughing out loud laughing out loud laughing out loud laughing out loud laughing out loud laughing out loud laughing out loud laughing out loud laughing out loud laughing out loud laughing out loud laughing out loud laughing out loud laughing out loud laughing out loud laughing out loud laughing out loud laughing out loud laughing out loud laughing out loud laughing out loud laughing out loud laughing out loud laughing out loud laughing out loud laughing out loud laughing out loud laughing out loud laughing out loud laughing out loud laughing out loud laughing out loud laughing out loud laughing out loud laughing out loud laughing out loud laughing out loud laughing out loud laughing out loud laughing out loud laughing out loud laughing out loud laughing out loud laughing out loud laughing out loud laughing out loud laughing out loud laughing out loud laughing out loud laughing out loud laughing out loud laughing out loud laughing out loud laughing out loud laughing out loud laughing out loud laughing out loud laughing out loud laughing out loud laughing out loud laughing out loud laughing out loud laughing out loud laughing out loud laughing out loud laughing out loud laughing out loud laughing out loud laughing out loud laughing out loud laughing out loud laughing out loud laughing out loud laughing out loud laughing out loud laughing out loud laughing out loud laughing out loud laughing out loud laughing out loud laughing out loud laughing out loud laughing out loud laughing out loud laughing out loud laughing out loud laughing out loud laughing out loud laughing out loud laughing out loud laughing out loud laughing out loud laughing out loud laughing out loud laughing out loud laughing out loud laughing out loud laughing out loud laughing out loud laughing out loud laughing out loud laughing out loud laughing out loud laughing out loud laughing out loud laughing out loud laughing out loud laughing out loud laughing out loud laughing out loud laughing out loud laughing out loud laughing out loud laughing out loud laughing out loud laughing out loud laughing out loud laughing out loud laughing out loud laughing out loud laughing out loud laughing out loud laughing out loud laughing out loud laughing out loud laughing out loud laughing out loud laughing out loud laughing out loud laughing out loud laughing out loud laughing out loud laughing out loud laughing out loud laughing out loud laughing out loud laughing out loud laughing out loud laughing out loud laughing out loud laughing out loud laughing out loud laughing out loud laughing out loud laughing out loud laughing out loud laughing out loud laughing out loud laughing out loud laughing out loud laughing out loud laughing out loud laughing out loud laughing out loud laughing out loud laughing out loud laughing out loud laughing out loud laughing out loud laughing out loud laughing out loud laughing out loud laughing out loud laughing out loud laughing out loud laughing out loud laughing out loud laughing out loud laughing out loud laughing out loud laughing out loud laughing out loud laughing out loud laughing out loud laughing out loud laughing out loud laughing out loud laughing out loud laughing out loud laughing out loud laughing out loud laughing out loud laughing out loud laughing out loud laughing out loud laughing out loud laughing out loud laughing out loud laughing out loud laughing out loud laughing out loud laughing out loud laughing out loud laughing out loud laughing out loud laughing out loud laughing out loud laughing out loud laughing out loud laughing out loud laughing out loud laughing out loud laughing out loud laughing out loud laughing out loud laughing out loud laughing out loud laughing out loud laughing out loud laughing out loud laughing out loud laughing out loud laughing out loud laughing out loud laughing out loud laughing out loud laughing out loud laughing out loud laughing out loud laughing out loud laughing out loud laughing out loud laughing out loud laughing out loud laughing out loud laughing out loud laughing out loud laughing out loud laughing out loud laughing out loud laughing out loud laughing out loud laughing out loud laughing out loud laughing out loud laughing out loud laughing out loud laughing out loud laughing out loud laughing out loud laughing out loud laughing out loud laughing out loud laughing out loud laughing out loud laughing out loud laughing out loud laughing out loud laughing out loud laughing out loud laughing out loud laughing out loud laughing out loud laughing out loud laughing out loud laughing out loud laughing out loud laughing out loud laughing out loud laughing out loud laughing out loud laughing out loud laughing out loud laughing out loud laughing out loud laughing out loud laughing out loud laughing out loud laughing out loud laughing out loud laughing out loud laughing out loud laughing out loud laughing out loud laughing out loud laughing out loud laughing out loud laughing out loud laughing out loud laughing out loud laughing out loud laughing out loud laughing out loud laughing out loud laughing out loud laughing out loud laughing out loud laughing out loud laughing out loud laughing out loud laughing out loud laughing out loud laughing out loud laughing out loud laughing out loud laughing out loud laughing out loud laughing out loud laughing out loud laughing out loud laughing out loud laughing out loud laughing out loud laughing out loud laughing out loud laughing out loud laughing out loud laughing out loud laughing out loud laughing out loud laughing out loud laughing out loud laughing out loud laughing out loud laughing out loud laughing out loud laughing out loud laughing out loud laughing out loud laughing out loud laughing out loud laughing out loud laughing out loud laughing out loud laughing out loud laughing out loud laughing out loud laughing out loud laughing out loud laughing out loud laughing out loud laughing out loud laughing out loud laughing out loud laughing out loud laughing out loud laughing out loud laughing out loud laughing out loud laughing out loud laughing out loud laughing out loud laughing out loud laughing out loud laughing out loud laughing out loud laughing out loud laughing out loud laughing out loud laughing out loud laughing out loud laughing out loud laughing out loud laughing out loud laughing out loud laughing out loud laughing out loud laughing out loud laughing out loud laughing out loud laughing out loud laughing out loud laughing out loud laughing out loud laughing out loud laughing out loud laughing out loud laughing out loud laughing out loud laughing out loud laughing out loud laughing out loud laughing out loud laughing out loud laughing out loud laughing out loud laughing out loud laughing out loud laughing out loud laughing out loud laughing out loud laughing out loud laughing out loud laughing out loud laughing out loud laughing out loud laughing out loud laughing out loud laughing out loud laughing out loud laughing out loud laughing out loud laughing out loud laughing out loud laughing out loud laughing out loud laughing out loud laughing out loud laughing out loud laughing out loud laughing out loud laughing out loud laughing out loud laughing out loud laughing out loud laughing out loud laughing out loud laughing out loud laughing out loud laughing out loud laughing out loud laughing out loud laughing out loud laughing out loud laughing out loud laughing out loud laughing out loud laughing out loud laughing out loud laughing out loud laughing out loud laughing out loud laughing out loud laughing out loud laughing out loud laughing out loud laughing out loud laughing out loud laughing out loud laughing out loud laughing out loud laughing out loud laughing out loud laughing out loud laughing out loud laughing out loud laughing out loud laughing out loud laughing out loud laughing out loud laughing out loud laughing out loud laughing out loud laughing out loud laughing out loud laughing out loud laughing out loud laughing out loud laughing out loud laughing out loud laughing out loud laughing out loud laughing out loud laughing out loud laughing out loud laughing out loud laughing out loud laughing out loud laughing out loud laughing out loud laughing out loud laughing out loud laughing out loud laughing out loud laughing out loud laughing out loud laughing out loud laughing out loud laughing out loud laughing out loud laughing out loud laughing out loud laughing out loud laughing out loud laughing out loud laughing out loud laughing out loud laughing out loud laughing out loud laughing out loud laughing out loud laughing out loud laughing out loud laughing out loud laughing out loud laughing out loud laughing out loud laughing out loud laughing out loud laughing out loud laughing out loud laughing out loud laughing out loud laughing out loud laughing out loud laughing out loud laughing out loud laughing out loud laughing out loud laughing out loud laughing out loud laughing out loud laughing out loud laughing out loud laughing out loud laughing out loud laughing out loud laughing out loud laughing out loud laughing out loud laughing out loud laughing out loud laughing out loud laughing out loud laughing out loud laughing out loud laughing out loud laughing out loud laughing out loud laughing out loud laughing out loud laughing out loud laughing out loud laughing out loud laughing out loud laughing out loud laughing out loud laughing out loud laughing out loud laughing out loud laughing out loud laughing out loud laughing out loud laughing out loud laughing out loud laughing out loud laughing out loud laughing out loud laughing out loud laughing out loud laughing out loud laughing out loud laughing out loud laughing out loud laughing out loud laughing out loud laughing out loud laughing out loud laughing out loud laughing out loud laughing out loud laughing out loud laughing out loud laughing out loud laughing out loud laughing out loud laughing out loud laughing out loud laughing out loud laughing out loud laughing out loud laughing out loud laughing out loud laughing out loud laughing out loud laughing out loud laughing out loud laughing out loud laughing out loud laughing out loud laughing out loud laughing out loud laughing out loud laughing out loud laughing out loud laughing out loud laughing out loud laughing out loud laughing out loud laughing out loud laughing out loud laughing out loud laughing out loud laughing out loud laughing out loud laughing out loud laughing out loud laughing out loud laughing out loud laughing out loud laughing out loud laughing out loud laughing out loud laughing out loud laughing out loud laughing out loud laughing out loud laughing out loud laughing out loud laughing out loud laughing out loud laughing out loud laughing out loud laughing out loud laughing out loud laughing out loud laughing out loud laughing out loud laughing out loud laughing out loud laughing out loud laughing out loud laughing out loud laughing out loud laughing out loud laughing out loud laughing out loud laughing out loud laughing out loud laughing out loud laughing out loud laughing out loud laughing out loud laughing out loud laughing out loud laughing out loud laughing out loud laughing out loud laughing out loud laughing out loud laughing out loud laughing out loud laughing out loud laughing out loud laughing out loud laughing out loud laughing out loud laughing out loud laughing out loud laughing out loud laughing out loud laughing out loud laughing out loud laughing out loud laughing out loud laughing out loud laughing out loud laughing out loud laughing out loud laughing out loud laughing out loud laughing out loud laughing out loud laughing out loud laughing out loud laughing out loud laughing out loud laughing out loud laughing out loud laughing out loud laughing out loud laughing out loud laughing out loud laughing out loud laughing out loud laughing out loud laughing out loud laughing out loud laughing out loud laughing out loud laughing out loud laughing out loud laughing out loud laughing out loud laughing out loud laughing out loud laughing out loud laughing out loud laughing out loud laughing out loud laughing out loud laughing out loud laughing out loud laughing out loud laughing out loud laughing out loud laughing out loud laughing out loud laughing out loud laughing out loud laughing out loud laughing out loud laughing out loud laughing out loud laughing out loud laughing out loud laughing out loud laughing out loud laughing out loud laughing out loud laughing out loud laughing out loud laughing out loud laughing out loud laughing out loud laughing out loud laughing out loud laughing out loud laughing out loud laughing out loud laughing out loud laughing out loud laughing out loud laughing out loud laughing out loud laughing out loud laughing out loud laughing out loud laughing out loud laughing out loud laughing out loud laughing out loud laughing out loud laughing out loud laughing out loud laughing out loud laughing out loud laughing out loud laughing out loud laughing out loud laughing out loud laughing out loud laughing out loud laughing out loud laughing out loud laughing out loud laughing out loud laughing out loud laughing out loud laughing out loud laughing out loud laughing out loud laughing out loud laughing out loud laughing out loud laughing out loud laughing out loud laughing out loud laughing out loud laughing out loud laughing out loud laughing out loud laughing out loud laughing out loud laughing out loud laughing out loud laughing out loud laughing out loud laughing out loud laughing out loud laughing out loud laughing out loud laughing out loud laughing out loud laughing out loud laughing out loud laughing out loud laughing out loud laughing out loud laughing out loud laughing out loud laughing out loud laughing out loud laughing out loud laughing out loud laughing out loud laughing out loud laughing out loud laughing out loud laughing out loud laughing out loud laughing out loud laughing out loud laughing out loud laughing out loud laughing out loud laughing out loud laughing out loud laughing out loud laughing out loud laughing out loud laughing out loud laughing out loud laughing out loud laughing out loud laughing out loud laughing out loud laughing out loud laughing out loud laughing out loud laughing out loud laughing out loud laughing out loud laughing out loud laughing out loud laughing out loud laughing out loud laughing out loud laughing out loud laughing out loud laughing out loud laughing out loud laughing out loud laughing out loud laughing out loud laughing out loud laughing out loud laughing out loud laughing out loud laughing out loud laughing out loud laughing out loud laughing out loud laughing out loud laughing out loud laughing out loud laughing out loud laughing out loud laughing out loud laughing out loud laughing out loud laughing out loud laughing out loud laughing out loud laughing out loud laughing out loud laughing out loud laughing out loud laughing out loud laughing out loud laughing out loud laughing out loud laughing out loud laughing out loud laughing out loud laughing out loud laughing out loud laughing out loud laughing out loud laughing out loud laughing out loud laughing out loud laughing out loud laughing out loud laughing out loud laughing out loud laughing out loud laughing out loud laughing out loud laughing out loud laughing out loud laughing out loud laughing out loud laughing out loud laughing out loud laughing out loud laughing out loud laughing out loud laughing out loud laughing out loud laughing out loud laughing out loud laughing out loud laughing out loud laughing out loud laughing out loud laughing out loud laughing out loud laughing out loud laughing out loud laughing out loud laughing out loud laughing out loud laughing out loud laughing out loud\n"
     ]
    }
   ],
   "execution_count": 32
  }
 ]
}
