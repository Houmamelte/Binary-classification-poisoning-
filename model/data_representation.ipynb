{
 "cells": [
  {
   "cell_type": "code",
   "execution_count": 6,
   "id": "initial_id",
   "metadata": {
    "ExecuteTime": {
     "end_time": "2025-04-04T11:03:59.773405Z",
     "start_time": "2025-04-04T11:03:59.759397Z"
    }
   },
   "outputs": [],
   "source": [
    "#!pip install pandas nltk\n",
    "#!pip install tqdm"
   ]
  },
  {
   "cell_type": "code",
   "execution_count": 201,
   "id": "ea43268124b70543",
   "metadata": {
    "ExecuteTime": {
     "end_time": "2025-04-04T17:14:42.339994Z",
     "start_time": "2025-04-04T17:14:40.051406Z"
    },
    "execution": {
     "iopub.execute_input": "2025-04-03T22:06:17.221715Z",
     "iopub.status.busy": "2025-04-03T22:06:17.221376Z",
     "iopub.status.idle": "2025-04-03T22:06:19.119722Z",
     "shell.execute_reply": "2025-04-03T22:06:19.118701Z",
     "shell.execute_reply.started": "2025-04-03T22:06:17.221689Z"
    },
    "trusted": true
   },
   "outputs": [],
   "source": [
    "import re\n",
    "from nltk.corpus import stopwords\n",
    "from nltk.stem import PorterStemmer, WordNetLemmatizer\n",
    "import pandas as pd\n",
    "from tqdm import tqdm\n",
    "import nltk\n",
    "from nltk.tokenize import word_tokenize\n",
    "from collections import Counter"
   ]
  },
  {
   "cell_type": "code",
   "execution_count": 202,
   "id": "dee9d2c3-bd55-4205-95a6-ca592293a9b6",
   "metadata": {
    "ExecuteTime": {
     "end_time": "2025-04-04T17:14:42.385Z",
     "start_time": "2025-04-04T17:14:42.362995Z"
    },
    "execution": {
     "iopub.execute_input": "2025-04-03T22:06:19.931953Z",
     "iopub.status.busy": "2025-04-03T22:06:19.931457Z",
     "iopub.status.idle": "2025-04-03T22:06:19.936242Z",
     "shell.execute_reply": "2025-04-03T22:06:19.935089Z",
     "shell.execute_reply.started": "2025-04-03T22:06:19.931920Z"
    },
    "trusted": true
   },
   "outputs": [],
   "source": [
    "input_file = \"../data/toxic_comments_cleaned.csv\"\n",
    "output_file = \"../data/processed.csv\"\n",
    "vocab_file = '../data/vocab.csv'\n",
    "input_sample_file = \"../data/toxic_comments_sample.csv\";"
   ]
  },
  {
   "cell_type": "markdown",
   "id": "6bf9351d4fba7902",
   "metadata": {},
   "source": [
    "Dataset should be downloaded from Here(https://www.kaggle.com/datasets/apoorvyadav/toxiccommentscleaned)"
   ]
  },
  {
   "cell_type": "code",
   "execution_count": 204,
   "id": "bf1b17c0783e01e1",
   "metadata": {
    "ExecuteTime": {
     "end_time": "2025-04-04T11:04:14.065013Z",
     "start_time": "2025-04-04T11:03:59.854872Z"
    },
    "execution": {
     "iopub.execute_input": "2025-04-03T22:06:20.539669Z",
     "iopub.status.busy": "2025-04-03T22:06:20.539158Z",
     "iopub.status.idle": "2025-04-03T22:06:49.378174Z",
     "shell.execute_reply": "2025-04-03T22:06:49.377005Z",
     "shell.execute_reply.started": "2025-04-03T22:06:20.539617Z"
    },
    "trusted": true
   },
   "outputs": [],
   "source": [
    "df = pd.read_csv(input_sample_file);"
   ]
  },
  {
   "cell_type": "code",
   "execution_count": 205,
   "id": "f350993b",
   "metadata": {},
   "outputs": [],
   "source": [
    "# for simplicity, easy handling\n",
    "# df.to_csv(\"../data/toxic_comments_sample.csv\");"
   ]
  },
  {
   "cell_type": "code",
   "execution_count": 254,
   "id": "893df0d9",
   "metadata": {},
   "outputs": [],
   "source": [
    "# df = pd.read_csv(input_sample_file)"
   ]
  },
  {
   "cell_type": "code",
   "execution_count": 255,
   "id": "d4792e45",
   "metadata": {},
   "outputs": [
    {
     "data": {
      "text/plain": [
       "2822"
      ]
     },
     "execution_count": 255,
     "metadata": {},
     "output_type": "execute_result"
    }
   ],
   "source": [
    "len(df)"
   ]
  },
  {
   "cell_type": "code",
   "execution_count": 256,
   "id": "a28798e4a08bc902",
   "metadata": {
    "ExecuteTime": {
     "end_time": "2025-04-04T11:04:14.111015Z",
     "start_time": "2025-04-04T11:04:14.083015Z"
    },
    "execution": {
     "iopub.execute_input": "2025-04-03T22:06:49.379962Z",
     "iopub.status.busy": "2025-04-03T22:06:49.379673Z",
     "iopub.status.idle": "2025-04-03T22:06:49.411875Z",
     "shell.execute_reply": "2025-04-03T22:06:49.410773Z",
     "shell.execute_reply.started": "2025-04-03T22:06:49.379934Z"
    },
    "trusted": true
   },
   "outputs": [
    {
     "data": {
      "text/html": [
       "<div>\n",
       "<style scoped>\n",
       "    .dataframe tbody tr th:only-of-type {\n",
       "        vertical-align: middle;\n",
       "    }\n",
       "\n",
       "    .dataframe tbody tr th {\n",
       "        vertical-align: top;\n",
       "    }\n",
       "\n",
       "    .dataframe thead th {\n",
       "        text-align: right;\n",
       "    }\n",
       "</style>\n",
       "<table border=\"1\" class=\"dataframe\">\n",
       "  <thead>\n",
       "    <tr style=\"text-align: right;\">\n",
       "      <th></th>\n",
       "      <th>id</th>\n",
       "      <th>comment_text</th>\n",
       "      <th>target</th>\n",
       "    </tr>\n",
       "  </thead>\n",
       "  <tbody>\n",
       "    <tr>\n",
       "      <th>0</th>\n",
       "      <td>0000997932d777bf</td>\n",
       "      <td>explanation why the edits made under my userna...</td>\n",
       "      <td>0.0</td>\n",
       "    </tr>\n",
       "    <tr>\n",
       "      <th>1</th>\n",
       "      <td>000103f0d9cfb60f</td>\n",
       "      <td>daww he matches this background colour im seem...</td>\n",
       "      <td>0.0</td>\n",
       "    </tr>\n",
       "    <tr>\n",
       "      <th>2</th>\n",
       "      <td>000113f07ec002fd</td>\n",
       "      <td>hey man im really not trying to edit war its j...</td>\n",
       "      <td>0.0</td>\n",
       "    </tr>\n",
       "    <tr>\n",
       "      <th>3</th>\n",
       "      <td>0001b41b1c6bb37e</td>\n",
       "      <td>more i cant make any real suggestions on impr...</td>\n",
       "      <td>0.0</td>\n",
       "    </tr>\n",
       "    <tr>\n",
       "      <th>4</th>\n",
       "      <td>0001d958c54c6e35</td>\n",
       "      <td>you sir are my hero any chance you remember wh...</td>\n",
       "      <td>0.0</td>\n",
       "    </tr>\n",
       "  </tbody>\n",
       "</table>\n",
       "</div>"
      ],
      "text/plain": [
       "                 id                                       comment_text  target\n",
       "0  0000997932d777bf  explanation why the edits made under my userna...     0.0\n",
       "1  000103f0d9cfb60f  daww he matches this background colour im seem...     0.0\n",
       "2  000113f07ec002fd  hey man im really not trying to edit war its j...     0.0\n",
       "3  0001b41b1c6bb37e   more i cant make any real suggestions on impr...     0.0\n",
       "4  0001d958c54c6e35  you sir are my hero any chance you remember wh...     0.0"
      ]
     },
     "execution_count": 256,
     "metadata": {},
     "output_type": "execute_result"
    }
   ],
   "source": [
    "df.head()"
   ]
  },
  {
   "cell_type": "code",
   "execution_count": 257,
   "id": "14e43f614636e5f8",
   "metadata": {
    "ExecuteTime": {
     "end_time": "2025-04-04T11:04:14.329072Z",
     "start_time": "2025-04-04T11:04:14.291070Z"
    },
    "execution": {
     "iopub.execute_input": "2025-04-03T22:06:49.414762Z",
     "iopub.status.busy": "2025-04-03T22:06:49.414454Z",
     "iopub.status.idle": "2025-04-03T22:06:49.443998Z",
     "shell.execute_reply": "2025-04-03T22:06:49.442707Z",
     "shell.execute_reply.started": "2025-04-03T22:06:49.414733Z"
    },
    "trusted": true
   },
   "outputs": [
    {
     "name": "stdout",
     "output_type": "stream",
     "text": [
      "<class 'pandas.core.frame.DataFrame'>\n",
      "Index: 2822 entries, 0 to 2999\n",
      "Data columns (total 3 columns):\n",
      " #   Column        Non-Null Count  Dtype  \n",
      "---  ------        --------------  -----  \n",
      " 0   id            2822 non-null   object \n",
      " 1   comment_text  2822 non-null   object \n",
      " 2   target        2822 non-null   float64\n",
      "dtypes: float64(1), object(2)\n",
      "memory usage: 152.7+ KB\n"
     ]
    }
   ],
   "source": [
    "df.info()"
   ]
  },
  {
   "cell_type": "code",
   "execution_count": 258,
   "id": "6d3907f9de261269",
   "metadata": {
    "ExecuteTime": {
     "end_time": "2025-04-04T11:04:15.096225Z",
     "start_time": "2025-04-04T11:04:14.515115Z"
    },
    "execution": {
     "iopub.execute_input": "2025-04-03T22:06:49.446236Z",
     "iopub.status.busy": "2025-04-03T22:06:49.445774Z",
     "iopub.status.idle": "2025-04-03T22:06:50.145033Z",
     "shell.execute_reply": "2025-04-03T22:06:50.143897Z",
     "shell.execute_reply.started": "2025-04-03T22:06:49.446155Z"
    },
    "trusted": true
   },
   "outputs": [
    {
     "data": {
      "text/plain": [
       "np.float64(0.11020552799433027)"
      ]
     },
     "execution_count": 258,
     "metadata": {},
     "output_type": "execute_result"
    }
   ],
   "source": [
    "(df[df[\"target\"] == 1][\"id\"].count()) / df[\"id\"].count()"
   ]
  },
  {
   "cell_type": "code",
   "execution_count": 259,
   "id": "954a202435f610f4",
   "metadata": {
    "ExecuteTime": {
     "end_time": "2025-04-04T11:04:15.390809Z",
     "start_time": "2025-04-04T11:04:15.123222Z"
    },
    "execution": {
     "iopub.execute_input": "2025-04-03T22:06:50.146648Z",
     "iopub.status.busy": "2025-04-03T22:06:50.146290Z",
     "iopub.status.idle": "2025-04-03T22:06:50.478262Z",
     "shell.execute_reply": "2025-04-03T22:06:50.477323Z",
     "shell.execute_reply.started": "2025-04-03T22:06:50.146615Z"
    },
    "trusted": true
   },
   "outputs": [
    {
     "name": "stderr",
     "output_type": "stream",
     "text": [
      "[nltk_data] Downloading package stopwords to\n",
      "[nltk_data]     C:\\Users\\bm2ic\\AppData\\Roaming\\nltk_data...\n",
      "[nltk_data]   Package stopwords is already up-to-date!\n",
      "[nltk_data] Downloading package punkt to\n",
      "[nltk_data]     C:\\Users\\bm2ic\\AppData\\Roaming\\nltk_data...\n",
      "[nltk_data]   Package punkt is already up-to-date!\n",
      "[nltk_data] Downloading package wordnet to\n",
      "[nltk_data]     C:\\Users\\bm2ic\\AppData\\Roaming\\nltk_data...\n",
      "[nltk_data]   Package wordnet is already up-to-date!\n",
      "[nltk_data] Downloading package punkt_tab to\n",
      "[nltk_data]     C:\\Users\\bm2ic\\AppData\\Roaming\\nltk_data...\n",
      "[nltk_data]   Package punkt_tab is already up-to-date!\n"
     ]
    },
    {
     "data": {
      "text/plain": [
       "True"
      ]
     },
     "execution_count": 259,
     "metadata": {},
     "output_type": "execute_result"
    }
   ],
   "source": [
    "nltk.download('stopwords')\n",
    "nltk.download('punkt')\n",
    "nltk.download('wordnet')\n",
    "nltk.download('punkt_tab')"
   ]
  },
  {
   "cell_type": "code",
   "execution_count": 260,
   "id": "a4df7d7a",
   "metadata": {},
   "outputs": [],
   "source": [
    "stemmer = PorterStemmer()\n",
    "stop_words = set(stopwords.words('english'))"
   ]
  },
  {
   "cell_type": "code",
   "execution_count": 261,
   "id": "96f9f1be376a9095",
   "metadata": {
    "ExecuteTime": {
     "end_time": "2025-04-04T11:04:15.422811Z",
     "start_time": "2025-04-04T11:04:15.409809Z"
    },
    "execution": {
     "iopub.execute_input": "2025-04-03T22:06:50.479828Z",
     "iopub.status.busy": "2025-04-03T22:06:50.479419Z",
     "iopub.status.idle": "2025-04-03T22:06:50.486419Z",
     "shell.execute_reply": "2025-04-03T22:06:50.485221Z",
     "shell.execute_reply.started": "2025-04-03T22:06:50.479781Z"
    },
    "trusted": true
   },
   "outputs": [],
   "source": [
    "def clean_text(text):\n",
    "    try:\n",
    "        if not isinstance(text, str):\n",
    "            return ''  # Return empty string if not a string\n",
    "\n",
    "        # Remove special characters, numbers, and extra spaces\n",
    "        text = re.sub(r'[^a-zA-Z\\s]', '', text)\n",
    "        \n",
    "        # Convert text to lowercase\n",
    "        text = text.lower()\n",
    "        \n",
    "        # Tokenize text\n",
    "        words = word_tokenize(text)\n",
    "        \n",
    "        # Remove stopwords\n",
    "        words = [word for word in words if word not in stop_words]\n",
    "        \n",
    "        # Apply stemming\n",
    "        stemmed_words = [stemmer.stem(word) for word in words]\n",
    "        \n",
    "        return ' '.join(stemmed_words)\n",
    "        \n",
    "    except Exception as e:\n",
    "        print(f\"Error processing text: {e}\")\n",
    "        return ''  # Return empty string in case of any error"
   ]
  },
  {
   "cell_type": "code",
   "execution_count": 262,
   "id": "f023d5fd-bc56-4272-be5f-211e83e66a6d",
   "metadata": {
    "ExecuteTime": {
     "end_time": "2025-04-04T11:04:36.055462Z",
     "start_time": "2025-04-04T11:04:15.565871Z"
    },
    "execution": {
     "iopub.execute_input": "2025-04-03T22:07:06.966328Z",
     "iopub.status.busy": "2025-04-03T22:07:06.965938Z",
     "iopub.status.idle": "2025-04-03T22:07:29.240090Z",
     "shell.execute_reply": "2025-04-03T22:07:29.239023Z",
     "shell.execute_reply.started": "2025-04-03T22:07:06.966256Z"
    },
    "trusted": true
   },
   "outputs": [],
   "source": [
    "df = df[(df['comment_text'].apply(lambda x: len(str(x).split())) <= 200) &\n",
    "        (df['comment_text'].apply(lambda x: len(str(x)) <= 2000))]"
   ]
  },
  {
   "cell_type": "code",
   "execution_count": 263,
   "id": "aa33a420",
   "metadata": {},
   "outputs": [],
   "source": [
    "df = df.drop(columns=['Unnamed: 0'], errors='ignore')"
   ]
  },
  {
   "cell_type": "code",
   "execution_count": 264,
   "id": "df5a33c0",
   "metadata": {},
   "outputs": [
    {
     "data": {
      "text/html": [
       "<div>\n",
       "<style scoped>\n",
       "    .dataframe tbody tr th:only-of-type {\n",
       "        vertical-align: middle;\n",
       "    }\n",
       "\n",
       "    .dataframe tbody tr th {\n",
       "        vertical-align: top;\n",
       "    }\n",
       "\n",
       "    .dataframe thead th {\n",
       "        text-align: right;\n",
       "    }\n",
       "</style>\n",
       "<table border=\"1\" class=\"dataframe\">\n",
       "  <thead>\n",
       "    <tr style=\"text-align: right;\">\n",
       "      <th></th>\n",
       "      <th>id</th>\n",
       "      <th>comment_text</th>\n",
       "      <th>target</th>\n",
       "    </tr>\n",
       "  </thead>\n",
       "  <tbody>\n",
       "    <tr>\n",
       "      <th>0</th>\n",
       "      <td>0000997932d777bf</td>\n",
       "      <td>explanation why the edits made under my userna...</td>\n",
       "      <td>0.0</td>\n",
       "    </tr>\n",
       "    <tr>\n",
       "      <th>1</th>\n",
       "      <td>000103f0d9cfb60f</td>\n",
       "      <td>daww he matches this background colour im seem...</td>\n",
       "      <td>0.0</td>\n",
       "    </tr>\n",
       "    <tr>\n",
       "      <th>2</th>\n",
       "      <td>000113f07ec002fd</td>\n",
       "      <td>hey man im really not trying to edit war its j...</td>\n",
       "      <td>0.0</td>\n",
       "    </tr>\n",
       "    <tr>\n",
       "      <th>3</th>\n",
       "      <td>0001b41b1c6bb37e</td>\n",
       "      <td>more i cant make any real suggestions on impr...</td>\n",
       "      <td>0.0</td>\n",
       "    </tr>\n",
       "    <tr>\n",
       "      <th>4</th>\n",
       "      <td>0001d958c54c6e35</td>\n",
       "      <td>you sir are my hero any chance you remember wh...</td>\n",
       "      <td>0.0</td>\n",
       "    </tr>\n",
       "    <tr>\n",
       "      <th>...</th>\n",
       "      <td>...</td>\n",
       "      <td>...</td>\n",
       "      <td>...</td>\n",
       "    </tr>\n",
       "    <tr>\n",
       "      <th>2995</th>\n",
       "      <td>08113e0533f6627a</td>\n",
       "      <td>new section at wpani  there is now a new secti...</td>\n",
       "      <td>0.0</td>\n",
       "    </tr>\n",
       "    <tr>\n",
       "      <th>2996</th>\n",
       "      <td>081166fea250a5af</td>\n",
       "      <td>and asking top stop involving me</td>\n",
       "      <td>0.0</td>\n",
       "    </tr>\n",
       "    <tr>\n",
       "      <th>2997</th>\n",
       "      <td>08121cde0a727842</td>\n",
       "      <td>re all items i know that you said i did someth...</td>\n",
       "      <td>0.0</td>\n",
       "    </tr>\n",
       "    <tr>\n",
       "      <th>2998</th>\n",
       "      <td>08143ca4834f8bcf</td>\n",
       "      <td>so you not going tell me why you created so m...</td>\n",
       "      <td>0.0</td>\n",
       "    </tr>\n",
       "    <tr>\n",
       "      <th>2999</th>\n",
       "      <td>081530fc78951f62</td>\n",
       "      <td>john phillip key born 9 august 1961 in aucklan...</td>\n",
       "      <td>0.0</td>\n",
       "    </tr>\n",
       "  </tbody>\n",
       "</table>\n",
       "<p>2822 rows × 3 columns</p>\n",
       "</div>"
      ],
      "text/plain": [
       "                    id                                       comment_text  \\\n",
       "0     0000997932d777bf  explanation why the edits made under my userna...   \n",
       "1     000103f0d9cfb60f  daww he matches this background colour im seem...   \n",
       "2     000113f07ec002fd  hey man im really not trying to edit war its j...   \n",
       "3     0001b41b1c6bb37e   more i cant make any real suggestions on impr...   \n",
       "4     0001d958c54c6e35  you sir are my hero any chance you remember wh...   \n",
       "...                ...                                                ...   \n",
       "2995  08113e0533f6627a  new section at wpani  there is now a new secti...   \n",
       "2996  081166fea250a5af                   and asking top stop involving me   \n",
       "2997  08121cde0a727842  re all items i know that you said i did someth...   \n",
       "2998  08143ca4834f8bcf   so you not going tell me why you created so m...   \n",
       "2999  081530fc78951f62  john phillip key born 9 august 1961 in aucklan...   \n",
       "\n",
       "      target  \n",
       "0        0.0  \n",
       "1        0.0  \n",
       "2        0.0  \n",
       "3        0.0  \n",
       "4        0.0  \n",
       "...      ...  \n",
       "2995     0.0  \n",
       "2996     0.0  \n",
       "2997     0.0  \n",
       "2998     0.0  \n",
       "2999     0.0  \n",
       "\n",
       "[2822 rows x 3 columns]"
      ]
     },
     "execution_count": 264,
     "metadata": {},
     "output_type": "execute_result"
    }
   ],
   "source": [
    "df"
   ]
  },
  {
   "cell_type": "code",
   "execution_count": 265,
   "id": "ad0710db59512a3c",
   "metadata": {
    "ExecuteTime": {
     "end_time": "2025-04-04T12:05:42.997071Z",
     "start_time": "2025-04-04T11:16:14.198141Z"
    },
    "execution": {
     "iopub.execute_input": "2025-04-03T22:13:33.724190Z",
     "iopub.status.busy": "2025-04-03T22:13:33.723786Z",
     "iopub.status.idle": "2025-04-03T22:59:31.276577Z",
     "shell.execute_reply": "2025-04-03T22:59:31.275264Z",
     "shell.execute_reply.started": "2025-04-03T22:13:33.724160Z"
    },
    "trusted": true
   },
   "outputs": [
    {
     "name": "stderr",
     "output_type": "stream",
     "text": [
      "Processing chunks: 300it [00:04, 66.83it/s]\n"
     ]
    }
   ],
   "source": [
    "# Load dataset in chunks\n",
    "chunk_size = 10  # Process 1000 rows at a time\n",
    "\n",
    "# Read CSV in chunks, we will take only a sample for simplicity\n",
    "chunks = pd.read_csv(input_sample_file, chunksize=chunk_size)\n",
    "\n",
    "# Enable tqdm progress bar\n",
    "tqdm.pandas()\n",
    "\n",
    "# Open output file to store processed data\n",
    "with open(output_file, 'w', encoding='utf-8') as f_out:\n",
    "    first_chunk = True  # To write headers only once\n",
    "\n",
    "    for chunk in tqdm(chunks, desc=\"Processing chunks\"):\n",
    "        # Apply text cleaning function (NO recursion issues)\n",
    "        # print(chunk['comment_text'] + \"jdkd\")\n",
    "        chunk['cleaned_comment'] = chunk['comment_text'].apply(clean_text)\n",
    "        # print(chunk['cleaned_comment'] + \"fdfdf\")\n",
    "\n",
    "        # Append to CSV (write header only for the first chunk)\n",
    "        chunk.to_csv(f_out, index=False, header=first_chunk, mode='a', encoding='utf-8')\n",
    "        first_chunk = False  # Ensure only the first chunk writes headers"
   ]
  },
  {
   "cell_type": "code",
   "execution_count": 266,
   "id": "c2230d72ad8c8516",
   "metadata": {
    "ExecuteTime": {
     "end_time": "2025-04-04T12:05:43.152313Z",
     "start_time": "2025-04-04T12:05:43.130293Z"
    },
    "execution": {
     "iopub.execute_input": "2025-04-03T22:13:13.007877Z",
     "iopub.status.busy": "2025-04-03T22:13:13.007494Z",
     "iopub.status.idle": "2025-04-03T22:13:13.015506Z",
     "shell.execute_reply": "2025-04-03T22:13:13.014400Z",
     "shell.execute_reply.started": "2025-04-03T22:13:13.007846Z"
    },
    "trusted": true
   },
   "outputs": [
    {
     "data": {
      "text/plain": [
       "'unblock ill get lawyer block constitut right free speech'"
      ]
     },
     "execution_count": 266,
     "metadata": {},
     "output_type": "execute_result"
    }
   ],
   "source": [
    "clean_text(df['comment_text'].iloc[150])"
   ]
  },
  {
   "cell_type": "code",
   "execution_count": 267,
   "id": "d1316acb",
   "metadata": {},
   "outputs": [],
   "source": [
    "processed_file = pd.read_csv(\"../data/processed.csv\");\n"
   ]
  },
  {
   "cell_type": "code",
   "execution_count": 268,
   "id": "2e5a776b",
   "metadata": {},
   "outputs": [],
   "source": [
    "processed_file = processed_file.drop(columns=['Unnamed: 0'], errors='ignore')"
   ]
  },
  {
   "cell_type": "code",
   "execution_count": 269,
   "id": "0c7f694f",
   "metadata": {},
   "outputs": [
    {
     "data": {
      "text/html": [
       "<div>\n",
       "<style scoped>\n",
       "    .dataframe tbody tr th:only-of-type {\n",
       "        vertical-align: middle;\n",
       "    }\n",
       "\n",
       "    .dataframe tbody tr th {\n",
       "        vertical-align: top;\n",
       "    }\n",
       "\n",
       "    .dataframe thead th {\n",
       "        text-align: right;\n",
       "    }\n",
       "</style>\n",
       "<table border=\"1\" class=\"dataframe\">\n",
       "  <thead>\n",
       "    <tr style=\"text-align: right;\">\n",
       "      <th></th>\n",
       "      <th>id</th>\n",
       "      <th>comment_text</th>\n",
       "      <th>target</th>\n",
       "      <th>cleaned_comment</th>\n",
       "    </tr>\n",
       "  </thead>\n",
       "  <tbody>\n",
       "    <tr>\n",
       "      <th>0</th>\n",
       "      <td>0000997932d777bf</td>\n",
       "      <td>explanation why the edits made under my userna...</td>\n",
       "      <td>0.0</td>\n",
       "      <td>explan edit made usernam hardcor metallica fan...</td>\n",
       "    </tr>\n",
       "    <tr>\n",
       "      <th>1</th>\n",
       "      <td>000103f0d9cfb60f</td>\n",
       "      <td>daww he matches this background colour im seem...</td>\n",
       "      <td>0.0</td>\n",
       "      <td>daww match background colour im seemingli stuc...</td>\n",
       "    </tr>\n",
       "    <tr>\n",
       "      <th>2</th>\n",
       "      <td>000113f07ec002fd</td>\n",
       "      <td>hey man im really not trying to edit war its j...</td>\n",
       "      <td>0.0</td>\n",
       "      <td>hey man im realli tri edit war guy constantli ...</td>\n",
       "    </tr>\n",
       "    <tr>\n",
       "      <th>3</th>\n",
       "      <td>0001b41b1c6bb37e</td>\n",
       "      <td>more i cant make any real suggestions on impr...</td>\n",
       "      <td>0.0</td>\n",
       "      <td>cant make real suggest improv wonder section s...</td>\n",
       "    </tr>\n",
       "    <tr>\n",
       "      <th>4</th>\n",
       "      <td>0001d958c54c6e35</td>\n",
       "      <td>you sir are my hero any chance you remember wh...</td>\n",
       "      <td>0.0</td>\n",
       "      <td>sir hero chanc rememb page that</td>\n",
       "    </tr>\n",
       "    <tr>\n",
       "      <th>...</th>\n",
       "      <td>...</td>\n",
       "      <td>...</td>\n",
       "      <td>...</td>\n",
       "      <td>...</td>\n",
       "    </tr>\n",
       "    <tr>\n",
       "      <th>2995</th>\n",
       "      <td>08113e0533f6627a</td>\n",
       "      <td>new section at wpani  there is now a new secti...</td>\n",
       "      <td>0.0</td>\n",
       "      <td>new section wpani new section wpani post compl...</td>\n",
       "    </tr>\n",
       "    <tr>\n",
       "      <th>2996</th>\n",
       "      <td>081166fea250a5af</td>\n",
       "      <td>and asking top stop involving me</td>\n",
       "      <td>0.0</td>\n",
       "      <td>ask top stop involv</td>\n",
       "    </tr>\n",
       "    <tr>\n",
       "      <th>2997</th>\n",
       "      <td>08121cde0a727842</td>\n",
       "      <td>re all items i know that you said i did someth...</td>\n",
       "      <td>0.0</td>\n",
       "      <td>item know said someth item lie honest tell rea...</td>\n",
       "    </tr>\n",
       "    <tr>\n",
       "      <th>2998</th>\n",
       "      <td>08143ca4834f8bcf</td>\n",
       "      <td>so you not going tell me why you created so m...</td>\n",
       "      <td>0.0</td>\n",
       "      <td>go tell creat mani account well say onlin priv...</td>\n",
       "    </tr>\n",
       "    <tr>\n",
       "      <th>2999</th>\n",
       "      <td>081530fc78951f62</td>\n",
       "      <td>john phillip key born 9 august 1961 in aucklan...</td>\n",
       "      <td>0.0</td>\n",
       "      <td>john phillip key born august auckland new zeal...</td>\n",
       "    </tr>\n",
       "  </tbody>\n",
       "</table>\n",
       "<p>3000 rows × 4 columns</p>\n",
       "</div>"
      ],
      "text/plain": [
       "                    id                                       comment_text  \\\n",
       "0     0000997932d777bf  explanation why the edits made under my userna...   \n",
       "1     000103f0d9cfb60f  daww he matches this background colour im seem...   \n",
       "2     000113f07ec002fd  hey man im really not trying to edit war its j...   \n",
       "3     0001b41b1c6bb37e   more i cant make any real suggestions on impr...   \n",
       "4     0001d958c54c6e35  you sir are my hero any chance you remember wh...   \n",
       "...                ...                                                ...   \n",
       "2995  08113e0533f6627a  new section at wpani  there is now a new secti...   \n",
       "2996  081166fea250a5af                   and asking top stop involving me   \n",
       "2997  08121cde0a727842  re all items i know that you said i did someth...   \n",
       "2998  08143ca4834f8bcf   so you not going tell me why you created so m...   \n",
       "2999  081530fc78951f62  john phillip key born 9 august 1961 in aucklan...   \n",
       "\n",
       "      target                                    cleaned_comment  \n",
       "0        0.0  explan edit made usernam hardcor metallica fan...  \n",
       "1        0.0  daww match background colour im seemingli stuc...  \n",
       "2        0.0  hey man im realli tri edit war guy constantli ...  \n",
       "3        0.0  cant make real suggest improv wonder section s...  \n",
       "4        0.0                    sir hero chanc rememb page that  \n",
       "...      ...                                                ...  \n",
       "2995     0.0  new section wpani new section wpani post compl...  \n",
       "2996     0.0                                ask top stop involv  \n",
       "2997     0.0  item know said someth item lie honest tell rea...  \n",
       "2998     0.0  go tell creat mani account well say onlin priv...  \n",
       "2999     0.0  john phillip key born august auckland new zeal...  \n",
       "\n",
       "[3000 rows x 4 columns]"
      ]
     },
     "execution_count": 269,
     "metadata": {},
     "output_type": "execute_result"
    }
   ],
   "source": [
    "processed_file"
   ]
  },
  {
   "cell_type": "code",
   "execution_count": null,
   "id": "6cb13106cd065ccd",
   "metadata": {
    "ExecuteTime": {
     "end_time": "2025-04-04T21:57:38.473755Z",
     "start_time": "2025-04-04T21:57:38.287426Z"
    }
   },
   "outputs": [],
   "source": [
    "# Removing empty cleaned text comment\n",
    "processed_file = processed_file.dropna(how='all')\n",
    "processed_file = processed_file.dropna(subset=['cleaned_comment'])"
   ]
  },
  {
   "cell_type": "code",
   "execution_count": 271,
   "id": "442e34e5-736f-40da-af7c-504240004a4d",
   "metadata": {
    "ExecuteTime": {
     "end_time": "2025-04-04T14:21:35.552643Z",
     "start_time": "2025-04-04T14:21:02.400502Z"
    },
    "execution": {
     "iopub.execute_input": "2025-04-03T23:02:47.635407Z",
     "iopub.status.busy": "2025-04-03T23:02:47.635038Z",
     "iopub.status.idle": "2025-04-03T23:03:02.904010Z",
     "shell.execute_reply": "2025-04-03T23:03:02.902862Z",
     "shell.execute_reply.started": "2025-04-03T23:02:47.635377Z"
    },
    "trusted": true
   },
   "outputs": [],
   "source": [
    "processed_file.to_csv(output_file)\n"
   ]
  },
  {
   "cell_type": "markdown",
   "id": "4887a3953651d00a",
   "metadata": {},
   "source": [
    "Tokenization cleaned comments"
   ]
  },
  {
   "cell_type": "code",
   "execution_count": 272,
   "id": "2681099d",
   "metadata": {},
   "outputs": [
    {
     "data": {
      "text/html": [
       "<div>\n",
       "<style scoped>\n",
       "    .dataframe tbody tr th:only-of-type {\n",
       "        vertical-align: middle;\n",
       "    }\n",
       "\n",
       "    .dataframe tbody tr th {\n",
       "        vertical-align: top;\n",
       "    }\n",
       "\n",
       "    .dataframe thead th {\n",
       "        text-align: right;\n",
       "    }\n",
       "</style>\n",
       "<table border=\"1\" class=\"dataframe\">\n",
       "  <thead>\n",
       "    <tr style=\"text-align: right;\">\n",
       "      <th></th>\n",
       "      <th>id</th>\n",
       "      <th>comment_text</th>\n",
       "      <th>target</th>\n",
       "      <th>cleaned_comment</th>\n",
       "    </tr>\n",
       "  </thead>\n",
       "  <tbody>\n",
       "    <tr>\n",
       "      <th>0</th>\n",
       "      <td>0000997932d777bf</td>\n",
       "      <td>explanation why the edits made under my userna...</td>\n",
       "      <td>0.0</td>\n",
       "      <td>explan edit made usernam hardcor metallica fan...</td>\n",
       "    </tr>\n",
       "    <tr>\n",
       "      <th>1</th>\n",
       "      <td>000103f0d9cfb60f</td>\n",
       "      <td>daww he matches this background colour im seem...</td>\n",
       "      <td>0.0</td>\n",
       "      <td>daww match background colour im seemingli stuc...</td>\n",
       "    </tr>\n",
       "    <tr>\n",
       "      <th>2</th>\n",
       "      <td>000113f07ec002fd</td>\n",
       "      <td>hey man im really not trying to edit war its j...</td>\n",
       "      <td>0.0</td>\n",
       "      <td>hey man im realli tri edit war guy constantli ...</td>\n",
       "    </tr>\n",
       "    <tr>\n",
       "      <th>3</th>\n",
       "      <td>0001b41b1c6bb37e</td>\n",
       "      <td>more i cant make any real suggestions on impr...</td>\n",
       "      <td>0.0</td>\n",
       "      <td>cant make real suggest improv wonder section s...</td>\n",
       "    </tr>\n",
       "    <tr>\n",
       "      <th>4</th>\n",
       "      <td>0001d958c54c6e35</td>\n",
       "      <td>you sir are my hero any chance you remember wh...</td>\n",
       "      <td>0.0</td>\n",
       "      <td>sir hero chanc rememb page that</td>\n",
       "    </tr>\n",
       "    <tr>\n",
       "      <th>...</th>\n",
       "      <td>...</td>\n",
       "      <td>...</td>\n",
       "      <td>...</td>\n",
       "      <td>...</td>\n",
       "    </tr>\n",
       "    <tr>\n",
       "      <th>2995</th>\n",
       "      <td>08113e0533f6627a</td>\n",
       "      <td>new section at wpani  there is now a new secti...</td>\n",
       "      <td>0.0</td>\n",
       "      <td>new section wpani new section wpani post compl...</td>\n",
       "    </tr>\n",
       "    <tr>\n",
       "      <th>2996</th>\n",
       "      <td>081166fea250a5af</td>\n",
       "      <td>and asking top stop involving me</td>\n",
       "      <td>0.0</td>\n",
       "      <td>ask top stop involv</td>\n",
       "    </tr>\n",
       "    <tr>\n",
       "      <th>2997</th>\n",
       "      <td>08121cde0a727842</td>\n",
       "      <td>re all items i know that you said i did someth...</td>\n",
       "      <td>0.0</td>\n",
       "      <td>item know said someth item lie honest tell rea...</td>\n",
       "    </tr>\n",
       "    <tr>\n",
       "      <th>2998</th>\n",
       "      <td>08143ca4834f8bcf</td>\n",
       "      <td>so you not going tell me why you created so m...</td>\n",
       "      <td>0.0</td>\n",
       "      <td>go tell creat mani account well say onlin priv...</td>\n",
       "    </tr>\n",
       "    <tr>\n",
       "      <th>2999</th>\n",
       "      <td>081530fc78951f62</td>\n",
       "      <td>john phillip key born 9 august 1961 in aucklan...</td>\n",
       "      <td>0.0</td>\n",
       "      <td>john phillip key born august auckland new zeal...</td>\n",
       "    </tr>\n",
       "  </tbody>\n",
       "</table>\n",
       "<p>2999 rows × 4 columns</p>\n",
       "</div>"
      ],
      "text/plain": [
       "                    id                                       comment_text  \\\n",
       "0     0000997932d777bf  explanation why the edits made under my userna...   \n",
       "1     000103f0d9cfb60f  daww he matches this background colour im seem...   \n",
       "2     000113f07ec002fd  hey man im really not trying to edit war its j...   \n",
       "3     0001b41b1c6bb37e   more i cant make any real suggestions on impr...   \n",
       "4     0001d958c54c6e35  you sir are my hero any chance you remember wh...   \n",
       "...                ...                                                ...   \n",
       "2995  08113e0533f6627a  new section at wpani  there is now a new secti...   \n",
       "2996  081166fea250a5af                   and asking top stop involving me   \n",
       "2997  08121cde0a727842  re all items i know that you said i did someth...   \n",
       "2998  08143ca4834f8bcf   so you not going tell me why you created so m...   \n",
       "2999  081530fc78951f62  john phillip key born 9 august 1961 in aucklan...   \n",
       "\n",
       "      target                                    cleaned_comment  \n",
       "0        0.0  explan edit made usernam hardcor metallica fan...  \n",
       "1        0.0  daww match background colour im seemingli stuc...  \n",
       "2        0.0  hey man im realli tri edit war guy constantli ...  \n",
       "3        0.0  cant make real suggest improv wonder section s...  \n",
       "4        0.0                    sir hero chanc rememb page that  \n",
       "...      ...                                                ...  \n",
       "2995     0.0  new section wpani new section wpani post compl...  \n",
       "2996     0.0                                ask top stop involv  \n",
       "2997     0.0  item know said someth item lie honest tell rea...  \n",
       "2998     0.0  go tell creat mani account well say onlin priv...  \n",
       "2999     0.0  john phillip key born august auckland new zeal...  \n",
       "\n",
       "[2999 rows x 4 columns]"
      ]
     },
     "execution_count": 272,
     "metadata": {},
     "output_type": "execute_result"
    }
   ],
   "source": [
    "processed_file"
   ]
  },
  {
   "cell_type": "code",
   "execution_count": 273,
   "id": "ae7d8b6de8370fc0",
   "metadata": {
    "ExecuteTime": {
     "end_time": "2025-04-04T12:10:25.673759Z",
     "start_time": "2025-04-04T12:06:31.911344Z"
    },
    "execution": {
     "iopub.execute_input": "2025-04-03T23:04:12.772534Z",
     "iopub.status.busy": "2025-04-03T23:04:12.772176Z",
     "iopub.status.idle": "2025-04-03T23:10:22.457552Z",
     "shell.execute_reply": "2025-04-03T23:10:22.456390Z",
     "shell.execute_reply.started": "2025-04-03T23:04:12.772506Z"
    },
    "trusted": true
   },
   "outputs": [
    {
     "name": "stdout",
     "output_type": "stream",
     "text": [
      "0    [explan, edit, made, usernam, hardcor, metalli...\n",
      "1    [daww, match, background, colour, im, seemingl...\n",
      "2    [hey, man, im, realli, tri, edit, war, guy, co...\n",
      "3    [cant, make, real, suggest, improv, wonder, se...\n",
      "4               [sir, hero, chanc, rememb, page, that]\n",
      "Name: tokenized_comment, dtype: object\n"
     ]
    }
   ],
   "source": [
    "# Tokenize all comments\n",
    "nltk.download('punkt', quiet=True);\n",
    "processed_file['tokenized_comment'] = processed_file['cleaned_comment'].apply(word_tokenize);\n",
    "print(processed_file['tokenized_comment'].head())\n"
   ]
  },
  {
   "cell_type": "code",
   "execution_count": 274,
   "id": "c568e943",
   "metadata": {},
   "outputs": [],
   "source": [
    "processed_file.to_csv(output_file)"
   ]
  },
  {
   "cell_type": "code",
   "execution_count": 284,
   "id": "a7ba7c725c78477e",
   "metadata": {
    "ExecuteTime": {
     "end_time": "2025-04-04T14:41:04.720696Z",
     "start_time": "2025-04-04T14:30:11.402083Z"
    }
   },
   "outputs": [
    {
     "name": "stdout",
     "output_type": "stream",
     "text": [
      "Vocabulary size: 13402\n"
     ]
    }
   ],
   "source": [
    "import pandas as pd\n",
    "import ast\n",
    "from collections import Counter\n",
    "\n",
    "# Define a function to process a chunk\n",
    "def process_chunk(chunk):\n",
    "    chunk['tokenized_comment'] = chunk['tokenized_comment'].apply(ast.literal_eval)\n",
    "    return chunk\n",
    "\n",
    "# Define a function to update the vocabulary\n",
    "def update_vocab(vocab_counter, chunk):\n",
    "    for sublist in chunk['tokenized_comment']:\n",
    "        vocab_counter.update(sublist)\n",
    "\n",
    "# Initialize counter for vocabulary\n",
    "vocab_counter = Counter()\n",
    "\n",
    "# Read data in chunks (adjust chunk size as needed)\n",
    "\n",
    "chunk_size = 100  # Adjust based on available RAM\n",
    "\n",
    "df_chunks = pd.read_csv(output_file, chunksize=chunk_size);  # Use chunksize to avoid loading entire file;\n",
    "\n",
    "for chunk in df_chunks:\n",
    "    chunk = process_chunk(chunk);  # Convert tokenized comments from string to list\n",
    "    update_vocab(vocab_counter, chunk); # Update vocabulary counter\n",
    "\n",
    "# Initialize vocabulary dictionary with PAD to ken set to ID 0\n",
    "vocab = {'[PAD]': 0};\n",
    "\n",
    "# Assign unique IDs to words\n",
    "vocab.update({word: idx for idx, (word, _) in enumerate(vocab_counter.items(), start=1) if word != '[PAD]'});\n",
    "\n",
    "print(f\"Vocabulary size: {len(vocab)}\");\n"
   ]
  },
  {
   "cell_type": "code",
   "execution_count": 276,
   "id": "28e221f1fa407f2e",
   "metadata": {
    "ExecuteTime": {
     "end_time": "2025-04-04T16:48:37.035337Z",
     "start_time": "2025-04-04T16:48:35.912196Z"
    },
    "execution": {
     "iopub.execute_input": "2025-04-03T23:21:35.736539Z",
     "iopub.status.busy": "2025-04-03T23:21:35.736000Z",
     "iopub.status.idle": "2025-04-03T23:22:25.430509Z",
     "shell.execute_reply": "2025-04-03T23:22:25.429389Z",
     "shell.execute_reply.started": "2025-04-03T23:21:35.736493Z"
    },
    "trusted": true
   },
   "outputs": [],
   "source": [
    "# Saving vocab\n",
    "vocab_df = pd.DataFrame(list(vocab.items()), columns=['word', 'id'])\n",
    "vocab_df.to_csv(vocab_file, index=False)"
   ]
  },
  {
   "cell_type": "code",
   "execution_count": 277,
   "id": "e78dba2ba4761007",
   "metadata": {
    "ExecuteTime": {
     "end_time": "2025-04-04T16:51:04.211788Z",
     "start_time": "2025-04-04T16:51:03.559047Z"
    }
   },
   "outputs": [],
   "source": [
    "# Load the vocabulary from CSV\n",
    "vocab = pd.read_csv(vocab_file)\n",
    "vocab = dict(zip(vocab['word'], vocab['id']))"
   ]
  },
  {
   "cell_type": "code",
   "execution_count": 278,
   "id": "680828ee9a6817e2",
   "metadata": {
    "ExecuteTime": {
     "start_time": "2025-04-04T16:51:54.612160Z"
    },
    "execution": {
     "iopub.execute_input": "2025-04-03T23:22:25.432113Z",
     "iopub.status.busy": "2025-04-03T23:22:25.431813Z",
     "iopub.status.idle": "2025-04-03T23:23:37.488030Z",
     "shell.execute_reply": "2025-04-03T23:23:37.486862Z",
     "shell.execute_reply.started": "2025-04-03T23:22:25.432087Z"
    },
    "jupyter": {
     "is_executing": true
    },
    "trusted": true
   },
   "outputs": [],
   "source": [
    "# Function to convert tokens to word IDs\n",
    "def words_to_ids(tokens, vocab):\n",
    "    return [vocab.get(word) for word in tokens]\n",
    "# Apply the word-to-ID conversion to the tokenized comments\n",
    "\n",
    "# processed_file['sequence'] = processed_file['tokenized_comment'].apply(lambda tokens: words_to_ids(tokens, vocab))\n",
    "# # Show the DataFrame with the word IDs\n",
    "# print(processed_file[['tokenized_comment', 'sequence']].head())\n"
   ]
  },
  {
   "cell_type": "code",
   "execution_count": 285,
   "id": "58358bd3211bd06a",
   "metadata": {
    "ExecuteTime": {
     "end_time": "2025-04-04T17:55:55.029837Z",
     "start_time": "2025-04-04T17:43:12.756586Z"
    }
   },
   "outputs": [],
   "source": [
    "import pandas as pd\n",
    "import ast\n",
    "import os\n",
    "\n",
    "def process_in_place(file_path, vocab, chunk_size=10000):\n",
    "\n",
    "    temp_file = file_path + \".tmp\";\n",
    "\n",
    "    with open(temp_file, 'w') as f:\n",
    "\n",
    "        first_chunk = True;\n",
    "\n",
    "        for chunk in pd.read_csv(file_path, chunksize=chunk_size):\n",
    "\n",
    "            chunk['tokenized_comment'] = chunk['tokenized_comment'].apply(ast.literal_eval);\n",
    "\n",
    "            chunk['sequence'] = chunk['tokenized_comment'].apply(lambda tokens: words_to_ids(tokens, vocab));\n",
    "\n",
    "            chunk.to_csv(f, mode='a', header=first_chunk, index=False);\n",
    "\n",
    "            first_chunk = False;\n",
    "\n",
    "    # Replace the original file with the processed file\n",
    "    os.replace(temp_file, file_path)\n",
    "    print(\"Processing completed. File updated in-place.\")\n"
   ]
  },
  {
   "cell_type": "code",
   "execution_count": 286,
   "id": "bd09fcc3",
   "metadata": {},
   "outputs": [
    {
     "name": "stdout",
     "output_type": "stream",
     "text": [
      "Processing completed. File updated in-place.\n"
     ]
    }
   ],
   "source": [
    "process_in_place(output_file, vocab);"
   ]
  },
  {
   "cell_type": "code",
   "execution_count": 287,
   "id": "ce7c93fb",
   "metadata": {},
   "outputs": [],
   "source": [
    "processed_file = pd.read_csv(output_file)"
   ]
  },
  {
   "cell_type": "code",
   "execution_count": 288,
   "id": "eb6e8170",
   "metadata": {},
   "outputs": [
    {
     "data": {
      "text/html": [
       "<div>\n",
       "<style scoped>\n",
       "    .dataframe tbody tr th:only-of-type {\n",
       "        vertical-align: middle;\n",
       "    }\n",
       "\n",
       "    .dataframe tbody tr th {\n",
       "        vertical-align: top;\n",
       "    }\n",
       "\n",
       "    .dataframe thead th {\n",
       "        text-align: right;\n",
       "    }\n",
       "</style>\n",
       "<table border=\"1\" class=\"dataframe\">\n",
       "  <thead>\n",
       "    <tr style=\"text-align: right;\">\n",
       "      <th></th>\n",
       "      <th>id</th>\n",
       "      <th>comment_text</th>\n",
       "      <th>target</th>\n",
       "      <th>cleaned_comment</th>\n",
       "      <th>tokenized_comment</th>\n",
       "      <th>sequence</th>\n",
       "    </tr>\n",
       "  </thead>\n",
       "  <tbody>\n",
       "    <tr>\n",
       "      <th>0</th>\n",
       "      <td>0000997932d777bf</td>\n",
       "      <td>explanation why the edits made under my userna...</td>\n",
       "      <td>0.0</td>\n",
       "      <td>explan edit made usernam hardcor metallica fan...</td>\n",
       "      <td>['explan', 'edit', 'made', 'usernam', 'hardcor...</td>\n",
       "      <td>[1, 2, 3, 4, 5, 6, 7, 8, 9, 10, 11, 12, 13, 14...</td>\n",
       "    </tr>\n",
       "    <tr>\n",
       "      <th>1</th>\n",
       "      <td>000103f0d9cfb60f</td>\n",
       "      <td>daww he matches this background colour im seem...</td>\n",
       "      <td>0.0</td>\n",
       "      <td>daww match background colour im seemingli stuc...</td>\n",
       "      <td>['daww', 'match', 'background', 'colour', 'im'...</td>\n",
       "      <td>[27, 28, 29, 30, 25, 31, 32, 33, 22, 34, 35, 3...</td>\n",
       "    </tr>\n",
       "    <tr>\n",
       "      <th>2</th>\n",
       "      <td>000113f07ec002fd</td>\n",
       "      <td>hey man im really not trying to edit war its j...</td>\n",
       "      <td>0.0</td>\n",
       "      <td>hey man im realli tri edit war guy constantli ...</td>\n",
       "      <td>['hey', 'man', 'im', 'realli', 'tri', 'edit', ...</td>\n",
       "      <td>[38, 39, 25, 40, 41, 2, 42, 43, 44, 20, 45, 46...</td>\n",
       "    </tr>\n",
       "    <tr>\n",
       "      <th>3</th>\n",
       "      <td>0001b41b1c6bb37e</td>\n",
       "      <td>more i cant make any real suggestions on impr...</td>\n",
       "      <td>0.0</td>\n",
       "      <td>cant make real suggest improv wonder section s...</td>\n",
       "      <td>['cant', 'make', 'real', 'suggest', 'improv', ...</td>\n",
       "      <td>[53, 54, 55, 56, 57, 58, 59, 60, 61, 62, 63, 6...</td>\n",
       "    </tr>\n",
       "    <tr>\n",
       "      <th>4</th>\n",
       "      <td>0001d958c54c6e35</td>\n",
       "      <td>you sir are my hero any chance you remember wh...</td>\n",
       "      <td>0.0</td>\n",
       "      <td>sir hero chanc rememb page that</td>\n",
       "      <td>['sir', 'hero', 'chanc', 'rememb', 'page', 'th...</td>\n",
       "      <td>[91, 92, 93, 94, 23, 95]</td>\n",
       "    </tr>\n",
       "    <tr>\n",
       "      <th>...</th>\n",
       "      <td>...</td>\n",
       "      <td>...</td>\n",
       "      <td>...</td>\n",
       "      <td>...</td>\n",
       "      <td>...</td>\n",
       "      <td>...</td>\n",
       "    </tr>\n",
       "    <tr>\n",
       "      <th>2994</th>\n",
       "      <td>08113e0533f6627a</td>\n",
       "      <td>new section at wpani  there is now a new secti...</td>\n",
       "      <td>0.0</td>\n",
       "      <td>new section wpani new section wpani post compl...</td>\n",
       "      <td>['new', 'section', 'wpani', 'new', 'section', ...</td>\n",
       "      <td>[14, 59, 6059, 14, 59, 6059, 360, 3891, 293, 3...</td>\n",
       "    </tr>\n",
       "    <tr>\n",
       "      <th>2995</th>\n",
       "      <td>081166fea250a5af</td>\n",
       "      <td>and asking top stop involving me</td>\n",
       "      <td>0.0</td>\n",
       "      <td>ask top stop involv</td>\n",
       "      <td>['ask', 'top', 'stop', 'involv']</td>\n",
       "      <td>[177, 165, 337, 2902]</td>\n",
       "    </tr>\n",
       "    <tr>\n",
       "      <th>2996</th>\n",
       "      <td>08121cde0a727842</td>\n",
       "      <td>re all items i know that you said i did someth...</td>\n",
       "      <td>0.0</td>\n",
       "      <td>item know said someth item lie honest tell rea...</td>\n",
       "      <td>['item', 'know', 'said', 'someth', 'item', 'li...</td>\n",
       "      <td>[2749, 79, 300, 358, 2749, 814, 1959, 523, 40,...</td>\n",
       "    </tr>\n",
       "    <tr>\n",
       "      <th>2997</th>\n",
       "      <td>08143ca4834f8bcf</td>\n",
       "      <td>so you not going tell me why you created so m...</td>\n",
       "      <td>0.0</td>\n",
       "      <td>go tell creat mani account well say onlin priv...</td>\n",
       "      <td>['go', 'tell', 'creat', 'mani', 'account', 'we...</td>\n",
       "      <td>[155, 523, 185, 380, 1388, 97, 600, 3528, 9780...</td>\n",
       "    </tr>\n",
       "    <tr>\n",
       "      <th>2998</th>\n",
       "      <td>081530fc78951f62</td>\n",
       "      <td>john phillip key born 9 august 1961 in aucklan...</td>\n",
       "      <td>0.0</td>\n",
       "      <td>john phillip key born august auckland new zeal...</td>\n",
       "      <td>['john', 'phillip', 'key', 'born', 'august', '...</td>\n",
       "      <td>[451, 5214, 1266, 324, 699, 13400, 14, 6916, 8...</td>\n",
       "    </tr>\n",
       "  </tbody>\n",
       "</table>\n",
       "<p>2999 rows × 6 columns</p>\n",
       "</div>"
      ],
      "text/plain": [
       "                    id                                       comment_text  \\\n",
       "0     0000997932d777bf  explanation why the edits made under my userna...   \n",
       "1     000103f0d9cfb60f  daww he matches this background colour im seem...   \n",
       "2     000113f07ec002fd  hey man im really not trying to edit war its j...   \n",
       "3     0001b41b1c6bb37e   more i cant make any real suggestions on impr...   \n",
       "4     0001d958c54c6e35  you sir are my hero any chance you remember wh...   \n",
       "...                ...                                                ...   \n",
       "2994  08113e0533f6627a  new section at wpani  there is now a new secti...   \n",
       "2995  081166fea250a5af                   and asking top stop involving me   \n",
       "2996  08121cde0a727842  re all items i know that you said i did someth...   \n",
       "2997  08143ca4834f8bcf   so you not going tell me why you created so m...   \n",
       "2998  081530fc78951f62  john phillip key born 9 august 1961 in aucklan...   \n",
       "\n",
       "      target                                    cleaned_comment  \\\n",
       "0        0.0  explan edit made usernam hardcor metallica fan...   \n",
       "1        0.0  daww match background colour im seemingli stuc...   \n",
       "2        0.0  hey man im realli tri edit war guy constantli ...   \n",
       "3        0.0  cant make real suggest improv wonder section s...   \n",
       "4        0.0                    sir hero chanc rememb page that   \n",
       "...      ...                                                ...   \n",
       "2994     0.0  new section wpani new section wpani post compl...   \n",
       "2995     0.0                                ask top stop involv   \n",
       "2996     0.0  item know said someth item lie honest tell rea...   \n",
       "2997     0.0  go tell creat mani account well say onlin priv...   \n",
       "2998     0.0  john phillip key born august auckland new zeal...   \n",
       "\n",
       "                                      tokenized_comment  \\\n",
       "0     ['explan', 'edit', 'made', 'usernam', 'hardcor...   \n",
       "1     ['daww', 'match', 'background', 'colour', 'im'...   \n",
       "2     ['hey', 'man', 'im', 'realli', 'tri', 'edit', ...   \n",
       "3     ['cant', 'make', 'real', 'suggest', 'improv', ...   \n",
       "4     ['sir', 'hero', 'chanc', 'rememb', 'page', 'th...   \n",
       "...                                                 ...   \n",
       "2994  ['new', 'section', 'wpani', 'new', 'section', ...   \n",
       "2995                   ['ask', 'top', 'stop', 'involv']   \n",
       "2996  ['item', 'know', 'said', 'someth', 'item', 'li...   \n",
       "2997  ['go', 'tell', 'creat', 'mani', 'account', 'we...   \n",
       "2998  ['john', 'phillip', 'key', 'born', 'august', '...   \n",
       "\n",
       "                                               sequence  \n",
       "0     [1, 2, 3, 4, 5, 6, 7, 8, 9, 10, 11, 12, 13, 14...  \n",
       "1     [27, 28, 29, 30, 25, 31, 32, 33, 22, 34, 35, 3...  \n",
       "2     [38, 39, 25, 40, 41, 2, 42, 43, 44, 20, 45, 46...  \n",
       "3     [53, 54, 55, 56, 57, 58, 59, 60, 61, 62, 63, 6...  \n",
       "4                              [91, 92, 93, 94, 23, 95]  \n",
       "...                                                 ...  \n",
       "2994  [14, 59, 6059, 14, 59, 6059, 360, 3891, 293, 3...  \n",
       "2995                              [177, 165, 337, 2902]  \n",
       "2996  [2749, 79, 300, 358, 2749, 814, 1959, 523, 40,...  \n",
       "2997  [155, 523, 185, 380, 1388, 97, 600, 3528, 9780...  \n",
       "2998  [451, 5214, 1266, 324, 699, 13400, 14, 6916, 8...  \n",
       "\n",
       "[2999 rows x 6 columns]"
      ]
     },
     "execution_count": 288,
     "metadata": {},
     "output_type": "execute_result"
    }
   ],
   "source": [
    "processed_file"
   ]
  },
  {
   "cell_type": "code",
   "execution_count": 289,
   "id": "81044eaa10d6e4ae",
   "metadata": {
    "ExecuteTime": {
     "end_time": "2025-04-04T17:55:55.146413600Z",
     "start_time": "2025-04-04T13:10:27.735949Z"
    },
    "execution": {
     "iopub.execute_input": "2025-04-03T23:23:37.703685Z",
     "iopub.status.busy": "2025-04-03T23:23:37.703342Z",
     "iopub.status.idle": "2025-04-03T23:27:05.034425Z",
     "shell.execute_reply": "2025-04-03T23:27:05.033487Z",
     "shell.execute_reply.started": "2025-04-03T23:23:37.703656Z"
    },
    "trusted": true
   },
   "outputs": [],
   "source": [
    "processed_file.to_csv(output_file, index=False);\n"
   ]
  },
  {
   "cell_type": "code",
   "execution_count": 290,
   "id": "22cf849cd74eeb4e",
   "metadata": {
    "ExecuteTime": {
     "end_time": "2025-04-04T18:07:03.597635Z",
     "start_time": "2025-04-04T18:04:43.078056Z"
    }
   },
   "outputs": [],
   "source": [
    "processed_file = pd.read_csv(output_file)\n",
    "processed_file = processed_file.dropna(how='all')\n",
    "processed_file.to_csv(output_file, index=False)\n"
   ]
  },
  {
   "cell_type": "code",
   "execution_count": 291,
   "id": "131a87840b8934a5",
   "metadata": {
    "ExecuteTime": {
     "end_time": "2025-04-04T12:52:50.468388500Z",
     "start_time": "2025-04-04T12:18:36.130899Z"
    },
    "execution": {
     "iopub.execute_input": "2025-04-03T23:27:05.036191Z",
     "iopub.status.busy": "2025-04-03T23:27:05.035925Z",
     "iopub.status.idle": "2025-04-03T23:27:12.913117Z",
     "shell.execute_reply": "2025-04-03T23:27:12.911831Z",
     "shell.execute_reply.started": "2025-04-03T23:27:05.036168Z"
    },
    "trusted": true
   },
   "outputs": [
    {
     "name": "stdout",
     "output_type": "stream",
     "text": [
      "1087\n"
     ]
    }
   ],
   "source": [
    "max_word_count = max(processed_file['comment_text'].apply(lambda x: len(str(x).split())))\n",
    "print(max_word_count)\n"
   ]
  },
  {
   "cell_type": "code",
   "execution_count": 292,
   "id": "5408febb8f762233",
   "metadata": {
    "ExecuteTime": {
     "end_time": "2025-04-04T12:52:50.469394600Z",
     "start_time": "2025-04-04T12:18:44.711614Z"
    },
    "execution": {
     "iopub.execute_input": "2025-04-03T23:27:12.914718Z",
     "iopub.status.busy": "2025-04-03T23:27:12.914355Z",
     "iopub.status.idle": "2025-04-03T23:27:20.673350Z",
     "shell.execute_reply": "2025-04-03T23:27:20.672178Z",
     "shell.execute_reply.started": "2025-04-03T23:27:12.914689Z"
    },
    "trusted": true
   },
   "outputs": [
    {
     "name": "stdout",
     "output_type": "stream",
     "text": [
      "fuck you you useless bot fuck you you useless bot fuck you you useless bot fuck you you useless bot fuck you you useless bot fuck you you useless bot fuck you you useless bot fuck you you useless bot fuck you you useless bot fuck you you useless bot fuck you you useless bot fuck you you useless bot fuck you you useless bot fuck you you useless bot fuck you you useless bot fuck you you useless bot fuck you you useless bot fuck you you useless bot fuck you you useless bot fuck you you useless bot fuck you you useless bot fuck you you useless bot fuck you you useless bot fuck you you useless bot fuck you you useless bot fuck you you useless bot fuck you you useless bot fuck you you useless bot fuck you you useless bot fuck you you useless bot fuck you you useless bot fuck you you useless bot fuck you you useless bot fuck you you useless bot fuck you you useless bot fuck you you useless bot fuck you you useless bot fuck you you useless bot fuck you you useless bot fuck you you useless bot fuck you you useless bot fuck you you useless bot fuck you you useless bot fuck you you useless bot fuck you you useless bot fuck you you useless bot fuck you you useless bot fuck you you useless bot fuck you you useless bot fuck you you useless bot fuck you you useless bot fuck you you useless bot fuck you you useless bot fuck you you useless bot fuck you you useless bot fuck you you useless bot fuck you you useless bot fuck you you useless bot fuck you you useless bot fuck you you useless bot fuck you you useless bot fuck you you useless bot fuck you you useless bot fuck you you useless bot fuck you you useless bot fuck you you useless bot fuck you you useless bot fuck you you useless bot fuck you you useless bot fuck you you useless bot fuck you you useless bot fuck you you useless bot fuck you you useless bot fuck you you useless bot fuck you you useless bot fuck you you useless bot fuck you you useless bot fuck you you useless bot fuck you you useless bot fuck you you useless bot fuck you you useless bot fuck you you useless bot fuck you you useless bot fuck you you useless bot fuck you you useless bot fuck you you useless bot fuck you you useless bot fuck you you useless bot fuck you you useless bot fuck you you useless bot fuck you you useless bot fuck you you useless bot fuck you you useless bot fuck you you useless bot fuck you you useless bot fuck you you useless bot fuck you you useless bot fuck you you useless bot fuck you you useless bot fuck you you useless bot fuck you you useless bot fuck you you useless bot fuck you you useless bot fuck you you useless bot fuck you you useless bot fuck you you useless bot fuck you you useless bot fuck you you useless bot fuck you you useless bot fuck you you useless bot fuck you you useless bot fuck you you useless bot fuck you you useless bot fuck you you useless bot fuck you you useless bot fuck you you useless bot fuck you you useless bot fuck you you useless bot fuck you you useless bot fuck you you useless bot fuck you you useless bot fuck you you useless bot fuck you you useless bot fuck you you useless bot fuck you you useless bot fuck you you useless bot fuck you you useless bot fuck you you useless bot fuck you you useless bot fuck you you useless bot fuck you you useless bot fuck you you useless bot fuck you you useless bot fuck you you useless bot fuck you you useless bot fuck you you useless bot fuck you you useless bot fuck you you useless bot fuck you you useless bot fuck you you useless bot fuck you you useless bot fuck you you useless bot fuck you you useless bot fuck you you useless bot fuck you you useless bot fuck you you useless bot fuck you you useless bot fuck you you useless bot fuck you you useless bot fuck you you useless bot fuck you you useless bot fuck you you useless bot fuck you you useless bot fuck you you useless bot fuck you you useless bot fuck you you useless bot fuck you you useless bot fuck you you useless bot fuck you you useless bot fuck you you useless bot fuck you you useless bot fuck you you useless bot fuck you you useless bot fuck you you useless bot fuck you you useless bot fuck you you useless bot fuck you you useless bot fuck you you useless bot fuck you you useless bot fuck you you useless bot fuck you you useless bot fuck you you useless bot fuck you you useless bot fuck you you useless bot fuck you you useless bot fuck you you useless bot fuck you you useless bot fuck you you useless bot fuck you you useless bot fuck you you useless bot fuck you you useless bot fuck you you useless bot fuck you you useless bot fuck you you useless bot fuck you you useless bot fuck you you useless bot fuck you you useless bot fuck you you useless bot fuck you you useless bot fuck you you useless bot fuck you you useless bot fuck you you useless bot fuck you you useless bot fuck you you useless bot fuck you you useless bot fuck you you useless bot fuck you you useless bot fuck you you useless bot fuck you you useless bot fuck you you useless bot fuck you you useless bot fuck you you useless bot fuck you you useless bot fuck you you useless bot fuck you you useless bot fuck you you useless bot fuck you you useless bot fuck you you useless bot fuck you you useless bot fuck you you useless bot fuck you you useless bot fuck you you useless bot fuck you you useless bot fuck you you useless bot fuck you you useless bot fuck you you useless bot fuck you you useless bot fuck you\n"
     ]
    }
   ],
   "source": [
    "max_index = processed_file['comment_text'].apply(lambda x: len(str(x).split())).idxmax()\n",
    "print(processed_file.loc[max_index, 'comment_text'])  # Prints the comment with max words\n"
   ]
  },
  {
   "cell_type": "code",
   "execution_count": 293,
   "id": "e9aec14c",
   "metadata": {},
   "outputs": [
    {
     "data": {
      "text/html": [
       "<div>\n",
       "<style scoped>\n",
       "    .dataframe tbody tr th:only-of-type {\n",
       "        vertical-align: middle;\n",
       "    }\n",
       "\n",
       "    .dataframe tbody tr th {\n",
       "        vertical-align: top;\n",
       "    }\n",
       "\n",
       "    .dataframe thead th {\n",
       "        text-align: right;\n",
       "    }\n",
       "</style>\n",
       "<table border=\"1\" class=\"dataframe\">\n",
       "  <thead>\n",
       "    <tr style=\"text-align: right;\">\n",
       "      <th></th>\n",
       "      <th>id</th>\n",
       "      <th>comment_text</th>\n",
       "      <th>target</th>\n",
       "      <th>cleaned_comment</th>\n",
       "      <th>tokenized_comment</th>\n",
       "      <th>sequence</th>\n",
       "    </tr>\n",
       "  </thead>\n",
       "  <tbody>\n",
       "    <tr>\n",
       "      <th>0</th>\n",
       "      <td>0000997932d777bf</td>\n",
       "      <td>explanation why the edits made under my userna...</td>\n",
       "      <td>0.0</td>\n",
       "      <td>explan edit made usernam hardcor metallica fan...</td>\n",
       "      <td>['explan', 'edit', 'made', 'usernam', 'hardcor...</td>\n",
       "      <td>[1, 2, 3, 4, 5, 6, 7, 8, 9, 10, 11, 12, 13, 14...</td>\n",
       "    </tr>\n",
       "    <tr>\n",
       "      <th>1</th>\n",
       "      <td>000103f0d9cfb60f</td>\n",
       "      <td>daww he matches this background colour im seem...</td>\n",
       "      <td>0.0</td>\n",
       "      <td>daww match background colour im seemingli stuc...</td>\n",
       "      <td>['daww', 'match', 'background', 'colour', 'im'...</td>\n",
       "      <td>[27, 28, 29, 30, 25, 31, 32, 33, 22, 34, 35, 3...</td>\n",
       "    </tr>\n",
       "    <tr>\n",
       "      <th>2</th>\n",
       "      <td>000113f07ec002fd</td>\n",
       "      <td>hey man im really not trying to edit war its j...</td>\n",
       "      <td>0.0</td>\n",
       "      <td>hey man im realli tri edit war guy constantli ...</td>\n",
       "      <td>['hey', 'man', 'im', 'realli', 'tri', 'edit', ...</td>\n",
       "      <td>[38, 39, 25, 40, 41, 2, 42, 43, 44, 20, 45, 46...</td>\n",
       "    </tr>\n",
       "    <tr>\n",
       "      <th>3</th>\n",
       "      <td>0001b41b1c6bb37e</td>\n",
       "      <td>more i cant make any real suggestions on impr...</td>\n",
       "      <td>0.0</td>\n",
       "      <td>cant make real suggest improv wonder section s...</td>\n",
       "      <td>['cant', 'make', 'real', 'suggest', 'improv', ...</td>\n",
       "      <td>[53, 54, 55, 56, 57, 58, 59, 60, 61, 62, 63, 6...</td>\n",
       "    </tr>\n",
       "    <tr>\n",
       "      <th>4</th>\n",
       "      <td>0001d958c54c6e35</td>\n",
       "      <td>you sir are my hero any chance you remember wh...</td>\n",
       "      <td>0.0</td>\n",
       "      <td>sir hero chanc rememb page that</td>\n",
       "      <td>['sir', 'hero', 'chanc', 'rememb', 'page', 'th...</td>\n",
       "      <td>[91, 92, 93, 94, 23, 95]</td>\n",
       "    </tr>\n",
       "    <tr>\n",
       "      <th>...</th>\n",
       "      <td>...</td>\n",
       "      <td>...</td>\n",
       "      <td>...</td>\n",
       "      <td>...</td>\n",
       "      <td>...</td>\n",
       "      <td>...</td>\n",
       "    </tr>\n",
       "    <tr>\n",
       "      <th>2994</th>\n",
       "      <td>08113e0533f6627a</td>\n",
       "      <td>new section at wpani  there is now a new secti...</td>\n",
       "      <td>0.0</td>\n",
       "      <td>new section wpani new section wpani post compl...</td>\n",
       "      <td>['new', 'section', 'wpani', 'new', 'section', ...</td>\n",
       "      <td>[14, 59, 6059, 14, 59, 6059, 360, 3891, 293, 3...</td>\n",
       "    </tr>\n",
       "    <tr>\n",
       "      <th>2995</th>\n",
       "      <td>081166fea250a5af</td>\n",
       "      <td>and asking top stop involving me</td>\n",
       "      <td>0.0</td>\n",
       "      <td>ask top stop involv</td>\n",
       "      <td>['ask', 'top', 'stop', 'involv']</td>\n",
       "      <td>[177, 165, 337, 2902]</td>\n",
       "    </tr>\n",
       "    <tr>\n",
       "      <th>2996</th>\n",
       "      <td>08121cde0a727842</td>\n",
       "      <td>re all items i know that you said i did someth...</td>\n",
       "      <td>0.0</td>\n",
       "      <td>item know said someth item lie honest tell rea...</td>\n",
       "      <td>['item', 'know', 'said', 'someth', 'item', 'li...</td>\n",
       "      <td>[2749, 79, 300, 358, 2749, 814, 1959, 523, 40,...</td>\n",
       "    </tr>\n",
       "    <tr>\n",
       "      <th>2997</th>\n",
       "      <td>08143ca4834f8bcf</td>\n",
       "      <td>so you not going tell me why you created so m...</td>\n",
       "      <td>0.0</td>\n",
       "      <td>go tell creat mani account well say onlin priv...</td>\n",
       "      <td>['go', 'tell', 'creat', 'mani', 'account', 'we...</td>\n",
       "      <td>[155, 523, 185, 380, 1388, 97, 600, 3528, 9780...</td>\n",
       "    </tr>\n",
       "    <tr>\n",
       "      <th>2998</th>\n",
       "      <td>081530fc78951f62</td>\n",
       "      <td>john phillip key born 9 august 1961 in aucklan...</td>\n",
       "      <td>0.0</td>\n",
       "      <td>john phillip key born august auckland new zeal...</td>\n",
       "      <td>['john', 'phillip', 'key', 'born', 'august', '...</td>\n",
       "      <td>[451, 5214, 1266, 324, 699, 13400, 14, 6916, 8...</td>\n",
       "    </tr>\n",
       "  </tbody>\n",
       "</table>\n",
       "<p>2999 rows × 6 columns</p>\n",
       "</div>"
      ],
      "text/plain": [
       "                    id                                       comment_text  \\\n",
       "0     0000997932d777bf  explanation why the edits made under my userna...   \n",
       "1     000103f0d9cfb60f  daww he matches this background colour im seem...   \n",
       "2     000113f07ec002fd  hey man im really not trying to edit war its j...   \n",
       "3     0001b41b1c6bb37e   more i cant make any real suggestions on impr...   \n",
       "4     0001d958c54c6e35  you sir are my hero any chance you remember wh...   \n",
       "...                ...                                                ...   \n",
       "2994  08113e0533f6627a  new section at wpani  there is now a new secti...   \n",
       "2995  081166fea250a5af                   and asking top stop involving me   \n",
       "2996  08121cde0a727842  re all items i know that you said i did someth...   \n",
       "2997  08143ca4834f8bcf   so you not going tell me why you created so m...   \n",
       "2998  081530fc78951f62  john phillip key born 9 august 1961 in aucklan...   \n",
       "\n",
       "      target                                    cleaned_comment  \\\n",
       "0        0.0  explan edit made usernam hardcor metallica fan...   \n",
       "1        0.0  daww match background colour im seemingli stuc...   \n",
       "2        0.0  hey man im realli tri edit war guy constantli ...   \n",
       "3        0.0  cant make real suggest improv wonder section s...   \n",
       "4        0.0                    sir hero chanc rememb page that   \n",
       "...      ...                                                ...   \n",
       "2994     0.0  new section wpani new section wpani post compl...   \n",
       "2995     0.0                                ask top stop involv   \n",
       "2996     0.0  item know said someth item lie honest tell rea...   \n",
       "2997     0.0  go tell creat mani account well say onlin priv...   \n",
       "2998     0.0  john phillip key born august auckland new zeal...   \n",
       "\n",
       "                                      tokenized_comment  \\\n",
       "0     ['explan', 'edit', 'made', 'usernam', 'hardcor...   \n",
       "1     ['daww', 'match', 'background', 'colour', 'im'...   \n",
       "2     ['hey', 'man', 'im', 'realli', 'tri', 'edit', ...   \n",
       "3     ['cant', 'make', 'real', 'suggest', 'improv', ...   \n",
       "4     ['sir', 'hero', 'chanc', 'rememb', 'page', 'th...   \n",
       "...                                                 ...   \n",
       "2994  ['new', 'section', 'wpani', 'new', 'section', ...   \n",
       "2995                   ['ask', 'top', 'stop', 'involv']   \n",
       "2996  ['item', 'know', 'said', 'someth', 'item', 'li...   \n",
       "2997  ['go', 'tell', 'creat', 'mani', 'account', 'we...   \n",
       "2998  ['john', 'phillip', 'key', 'born', 'august', '...   \n",
       "\n",
       "                                               sequence  \n",
       "0     [1, 2, 3, 4, 5, 6, 7, 8, 9, 10, 11, 12, 13, 14...  \n",
       "1     [27, 28, 29, 30, 25, 31, 32, 33, 22, 34, 35, 3...  \n",
       "2     [38, 39, 25, 40, 41, 2, 42, 43, 44, 20, 45, 46...  \n",
       "3     [53, 54, 55, 56, 57, 58, 59, 60, 61, 62, 63, 6...  \n",
       "4                              [91, 92, 93, 94, 23, 95]  \n",
       "...                                                 ...  \n",
       "2994  [14, 59, 6059, 14, 59, 6059, 360, 3891, 293, 3...  \n",
       "2995                              [177, 165, 337, 2902]  \n",
       "2996  [2749, 79, 300, 358, 2749, 814, 1959, 523, 40,...  \n",
       "2997  [155, 523, 185, 380, 1388, 97, 600, 3528, 9780...  \n",
       "2998  [451, 5214, 1266, 324, 699, 13400, 14, 6916, 8...  \n",
       "\n",
       "[2999 rows x 6 columns]"
      ]
     },
     "execution_count": 293,
     "metadata": {},
     "output_type": "execute_result"
    }
   ],
   "source": [
    "processed_file"
   ]
  },
  {
   "cell_type": "code",
   "execution_count": null,
   "id": "507277bb",
   "metadata": {},
   "outputs": [],
   "source": []
  }
 ],
 "metadata": {
  "kaggle": {
   "accelerator": "none",
   "dataSources": [
    {
     "datasetId": 853059,
     "sourceId": 1455154,
     "sourceType": "datasetVersion"
    },
    {
     "datasetId": 7043761,
     "sourceId": 11268350,
     "sourceType": "datasetVersion"
    }
   ],
   "dockerImageVersionId": 30919,
   "isGpuEnabled": false,
   "isInternetEnabled": true,
   "language": "python",
   "sourceType": "notebook"
  },
  "kernelspec": {
   "display_name": "Python 3",
   "language": "python",
   "name": "python3"
  },
  "language_info": {
   "codemirror_mode": {
    "name": "ipython",
    "version": 3
   },
   "file_extension": ".py",
   "mimetype": "text/x-python",
   "name": "python",
   "nbconvert_exporter": "python",
   "pygments_lexer": "ipython3",
   "version": "3.12.1"
  }
 },
 "nbformat": 4,
 "nbformat_minor": 5
}
