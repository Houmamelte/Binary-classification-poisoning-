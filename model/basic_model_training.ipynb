{
 "cells": [
  {
   "metadata": {},
   "cell_type": "code",
   "outputs": [],
   "execution_count": null,
   "source": [
    "#!pip install pandas nltk\n",
    "#!pip install tqdm"
   ],
   "id": "882430d576892ef7"
  },
  {
   "metadata": {
    "ExecuteTime": {
     "end_time": "2025-04-04T18:12:26.324974Z",
     "start_time": "2025-04-04T18:12:24.546079Z"
    }
   },
   "cell_type": "code",
   "source": [
    "import re\n",
    "from nltk.corpus import stopwords\n",
    "from nltk.stem import PorterStemmer, WordNetLemmatizer\n",
    "import pandas as pd\n",
    "from tqdm import tqdm\n",
    "import nltk\n",
    "from nltk.tokenize import word_tokenize\n",
    "from collections import Counter\n"
   ],
   "id": "6b4ccacd7aad0fea",
   "outputs": [],
   "execution_count": 1
  },
  {
   "metadata": {
    "ExecuteTime": {
     "end_time": "2025-04-04T18:12:26.341005Z",
     "start_time": "2025-04-04T18:12:26.333979Z"
    }
   },
   "cell_type": "code",
   "source": [
    "input_file = \"../data/toxic_comments_cleaned.csv\"\n",
    "output_file = \"../data/processed.csv\"\n",
    "vocab_file = '../data/vocab.csv'"
   ],
   "id": "344497ec943e3536",
   "outputs": [],
   "execution_count": 2
  },
  {
   "metadata": {
    "ExecuteTime": {
     "end_time": "2025-04-04T18:13:06.827373Z",
     "start_time": "2025-04-04T18:12:26.437516Z"
    }
   },
   "cell_type": "code",
   "source": [
    "df = pd.read_csv(output_file)\n",
    "vocab = pd.read_csv(vocab_file)"
   ],
   "id": "ef952345c9c35dc4",
   "outputs": [
    {
     "name": "stderr",
     "output_type": "stream",
     "text": [
      "C:\\Users\\msi\\AppData\\Local\\Programs\\Python\\Python37\\lib\\site-packages\\IPython\\core\\interactiveshell.py:3553: DtypeWarning: Columns (0) have mixed types.Specify dtype option on import or set low_memory=False.\n",
      "  exec(code_obj, self.user_global_ns, self.user_ns)\n"
     ]
    }
   ],
   "execution_count": 3
  },
  {
   "metadata": {
    "ExecuteTime": {
     "end_time": "2025-04-04T18:13:22.147356Z",
     "start_time": "2025-04-04T18:13:22.121350Z"
    }
   },
   "cell_type": "code",
   "source": "df.head(4)",
   "id": "5e7565def74fb11c",
   "outputs": [
    {
     "data": {
      "text/plain": [
       "                 id  target  \\\n",
       "0  0000997932d777bf     0.0   \n",
       "1  000103f0d9cfb60f     0.0   \n",
       "2  000113f07ec002fd     0.0   \n",
       "3  0001b41b1c6bb37e     0.0   \n",
       "\n",
       "                                   tokenized_comment  \\\n",
       "0  ['explan', 'edit', 'made', 'usernam', 'hardcor...   \n",
       "1  ['daww', 'match', 'background', 'colour', 'im'...   \n",
       "2  ['hey', 'man', 'im', 'realli', 'tri', 'edit', ...   \n",
       "3  ['cant', 'make', 'real', 'suggest', 'improv', ...   \n",
       "\n",
       "                                            sequence  \n",
       "0  [1, 2, 3, 4, 5, 6, 7, 8, 9, 10, 11, 12, 13, 14...  \n",
       "1  [28, 29, 30, 31, 25, 32, 33, 34, 22, 35, 36, 3...  \n",
       "2  [39, 40, 25, 41, 42, 2, 43, 44, 45, 20, 46, 47...  \n",
       "3  [54, 55, 56, 57, 58, 59, 60, 61, 62, 63, 64, 6...  "
      ],
      "text/html": [
       "<div>\n",
       "<style scoped>\n",
       "    .dataframe tbody tr th:only-of-type {\n",
       "        vertical-align: middle;\n",
       "    }\n",
       "\n",
       "    .dataframe tbody tr th {\n",
       "        vertical-align: top;\n",
       "    }\n",
       "\n",
       "    .dataframe thead th {\n",
       "        text-align: right;\n",
       "    }\n",
       "</style>\n",
       "<table border=\"1\" class=\"dataframe\">\n",
       "  <thead>\n",
       "    <tr style=\"text-align: right;\">\n",
       "      <th></th>\n",
       "      <th>id</th>\n",
       "      <th>target</th>\n",
       "      <th>tokenized_comment</th>\n",
       "      <th>sequence</th>\n",
       "    </tr>\n",
       "  </thead>\n",
       "  <tbody>\n",
       "    <tr>\n",
       "      <th>0</th>\n",
       "      <td>0000997932d777bf</td>\n",
       "      <td>0.0</td>\n",
       "      <td>['explan', 'edit', 'made', 'usernam', 'hardcor...</td>\n",
       "      <td>[1, 2, 3, 4, 5, 6, 7, 8, 9, 10, 11, 12, 13, 14...</td>\n",
       "    </tr>\n",
       "    <tr>\n",
       "      <th>1</th>\n",
       "      <td>000103f0d9cfb60f</td>\n",
       "      <td>0.0</td>\n",
       "      <td>['daww', 'match', 'background', 'colour', 'im'...</td>\n",
       "      <td>[28, 29, 30, 31, 25, 32, 33, 34, 22, 35, 36, 3...</td>\n",
       "    </tr>\n",
       "    <tr>\n",
       "      <th>2</th>\n",
       "      <td>000113f07ec002fd</td>\n",
       "      <td>0.0</td>\n",
       "      <td>['hey', 'man', 'im', 'realli', 'tri', 'edit', ...</td>\n",
       "      <td>[39, 40, 25, 41, 42, 2, 43, 44, 45, 20, 46, 47...</td>\n",
       "    </tr>\n",
       "    <tr>\n",
       "      <th>3</th>\n",
       "      <td>0001b41b1c6bb37e</td>\n",
       "      <td>0.0</td>\n",
       "      <td>['cant', 'make', 'real', 'suggest', 'improv', ...</td>\n",
       "      <td>[54, 55, 56, 57, 58, 59, 60, 61, 62, 63, 64, 6...</td>\n",
       "    </tr>\n",
       "  </tbody>\n",
       "</table>\n",
       "</div>"
      ]
     },
     "execution_count": 7,
     "metadata": {},
     "output_type": "execute_result"
    }
   ],
   "execution_count": 7
  },
  {
   "metadata": {
    "ExecuteTime": {
     "end_time": "2025-04-04T18:13:16.131979Z",
     "start_time": "2025-04-04T18:13:16.108332Z"
    }
   },
   "cell_type": "code",
   "source": "vocab.head(4)",
   "id": "60f9a781e31ce43d",
   "outputs": [
    {
     "data": {
      "text/plain": [
       "     word  id\n",
       "0   [PAD]   0\n",
       "1  explan   1\n",
       "2    edit   2\n",
       "3    made   3"
      ],
      "text/html": [
       "<div>\n",
       "<style scoped>\n",
       "    .dataframe tbody tr th:only-of-type {\n",
       "        vertical-align: middle;\n",
       "    }\n",
       "\n",
       "    .dataframe tbody tr th {\n",
       "        vertical-align: top;\n",
       "    }\n",
       "\n",
       "    .dataframe thead th {\n",
       "        text-align: right;\n",
       "    }\n",
       "</style>\n",
       "<table border=\"1\" class=\"dataframe\">\n",
       "  <thead>\n",
       "    <tr style=\"text-align: right;\">\n",
       "      <th></th>\n",
       "      <th>word</th>\n",
       "      <th>id</th>\n",
       "    </tr>\n",
       "  </thead>\n",
       "  <tbody>\n",
       "    <tr>\n",
       "      <th>0</th>\n",
       "      <td>[PAD]</td>\n",
       "      <td>0</td>\n",
       "    </tr>\n",
       "    <tr>\n",
       "      <th>1</th>\n",
       "      <td>explan</td>\n",
       "      <td>1</td>\n",
       "    </tr>\n",
       "    <tr>\n",
       "      <th>2</th>\n",
       "      <td>edit</td>\n",
       "      <td>2</td>\n",
       "    </tr>\n",
       "    <tr>\n",
       "      <th>3</th>\n",
       "      <td>made</td>\n",
       "      <td>3</td>\n",
       "    </tr>\n",
       "  </tbody>\n",
       "</table>\n",
       "</div>"
      ]
     },
     "execution_count": 6,
     "metadata": {},
     "output_type": "execute_result"
    }
   ],
   "execution_count": 6
  },
  {
   "metadata": {},
   "cell_type": "code",
   "outputs": [],
   "execution_count": null,
   "source": "",
   "id": "14b058ba7c0305e4"
  }
 ],
 "metadata": {
  "kernelspec": {
   "display_name": "Python 3",
   "language": "python",
   "name": "python3"
  },
  "language_info": {
   "codemirror_mode": {
    "name": "ipython",
    "version": 2
   },
   "file_extension": ".py",
   "mimetype": "text/x-python",
   "name": "python",
   "nbconvert_exporter": "python",
   "pygments_lexer": "ipython2",
   "version": "2.7.6"
  }
 },
 "nbformat": 4,
 "nbformat_minor": 5
}
