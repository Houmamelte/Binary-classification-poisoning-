{
 "cells": [
  {
   "cell_type": "code",
   "id": "initial_id",
   "metadata": {
    "collapsed": true,
    "ExecuteTime": {
     "end_time": "2025-04-09T18:59:31.460048Z",
     "start_time": "2025-04-09T18:59:15.851575Z"
    }
   },
   "source": [
    "import pandas as pd\n",
    "\n",
    "# Load the dataset (adjust the file path as needed)\n",
    "df = pd.read_csv('../data/toxic_comments_cleaned.csv')\n",
    "\n",
    "\n"
   ],
   "outputs": [
    {
     "name": "stderr",
     "output_type": "stream",
     "text": [
      "C:\\Users\\msi\\AppData\\Local\\Programs\\Python\\Python37\\lib\\site-packages\\IPython\\core\\interactiveshell.py:3553: DtypeWarning: Columns (0,1) have mixed types.Specify dtype option on import or set low_memory=False.\n",
      "  exec(code_obj, self.user_global_ns, self.user_ns)\n"
     ]
    }
   ],
   "execution_count": 1
  },
  {
   "metadata": {
    "ExecuteTime": {
     "end_time": "2025-04-09T18:59:31.506050Z",
     "start_time": "2025-04-09T18:59:31.481049Z"
    }
   },
   "cell_type": "code",
   "source": [
    "\n",
    "# Inspect the first few rows to understand the structure\n",
    "print(df.head())"
   ],
   "id": "63e2e1df1344f148",
   "outputs": [
    {
     "name": "stdout",
     "output_type": "stream",
     "text": [
      "                 id                                       comment_text  target\n",
      "0  0000997932d777bf  explanation why the edits made under my userna...     0.0\n",
      "1  000103f0d9cfb60f  daww he matches this background colour im seem...     0.0\n",
      "2  000113f07ec002fd  hey man im really not trying to edit war its j...     0.0\n",
      "3  0001b41b1c6bb37e   more i cant make any real suggestions on impr...     0.0\n",
      "4  0001d958c54c6e35  you sir are my hero any chance you remember wh...     0.0\n"
     ]
    }
   ],
   "execution_count": 2
  },
  {
   "metadata": {
    "ExecuteTime": {
     "end_time": "2025-04-09T19:00:00.383813Z",
     "start_time": "2025-04-09T19:00:00.327283Z"
    }
   },
   "cell_type": "code",
   "source": [
    "\n",
    "# Check the distribution of toxic and non-toxic labels\n",
    "print(df['target'].value_counts())  # assuming 'label' is the column with the toxic/non-toxic classification\n"
   ],
   "id": "3404bf71e3886be8",
   "outputs": [
    {
     "name": "stdout",
     "output_type": "stream",
     "text": [
      "0.0    1861611\n",
      "1.0     166802\n",
      "Name: target, dtype: int64\n"
     ]
    }
   ],
   "execution_count": 4
  },
  {
   "metadata": {
    "ExecuteTime": {
     "end_time": "2025-04-09T19:00:09.437020Z",
     "start_time": "2025-04-09T19:00:09.190032Z"
    }
   },
   "cell_type": "code",
   "source": [
    "\n",
    "# Filter toxic and non-toxic rows\n",
    "toxic_comments = df[df['target'] == 1]\n",
    "non_toxic_comments = df[df['target'] == 0]\n"
   ],
   "id": "a7743cd95e931e64",
   "outputs": [],
   "execution_count": 5
  },
  {
   "metadata": {
    "ExecuteTime": {
     "end_time": "2025-04-09T19:03:54.354460Z",
     "start_time": "2025-04-09T19:03:54.329462Z"
    }
   },
   "cell_type": "code",
   "source": [
    "# If there are more than 5000 toxic and 5000 non-toxic, take a sample\n",
    "toxic_sample = toxic_comments.sample(n=5000, random_state=42)\n",
    "toxic_sample.size"
   ],
   "id": "4135bf710361e1de",
   "outputs": [
    {
     "data": {
      "text/plain": [
       "15000"
      ]
     },
     "execution_count": 18,
     "metadata": {},
     "output_type": "execute_result"
    }
   ],
   "execution_count": 18
  },
  {
   "metadata": {
    "ExecuteTime": {
     "end_time": "2025-04-09T19:04:09.776117Z",
     "start_time": "2025-04-09T19:04:09.626526Z"
    }
   },
   "cell_type": "code",
   "source": [
    "\n",
    "\n",
    "non_toxic_sample = non_toxic_comments.sample(n=5000, random_state=42)\n",
    "\n",
    "# Concatenate the two samples to create a balanced dataset\n",
    "balanced_df = pd.concat([toxic_sample, non_toxic_sample])\n",
    "\n",
    "# Shuffle the dataset to ensure randomness\n",
    "balanced_df = balanced_df.sample(frac=1, random_state=42).reset_index(drop=True)\n",
    "\n",
    "# Verify the shape and distribution of the new dataset\n",
    "print(balanced_df.shape)\n",
    "print(balanced_df['target'].value_counts())\n",
    "\n",
    "# Save the new balanced dataset (optional)\n",
    "balanced_df.to_csv('../data/balanced_dataset.csv', index=False)"
   ],
   "id": "96dd0fca9414586e",
   "outputs": [
    {
     "name": "stdout",
     "output_type": "stream",
     "text": [
      "(10000, 3)\n",
      "0.0    5000\n",
      "1.0    5000\n",
      "Name: target, dtype: int64\n"
     ]
    }
   ],
   "execution_count": 19
  },
  {
   "metadata": {},
   "cell_type": "code",
   "outputs": [],
   "execution_count": null,
   "source": "",
   "id": "9db21c40f03623"
  }
 ],
 "metadata": {
  "kernelspec": {
   "display_name": "Python 3",
   "language": "python",
   "name": "python3"
  },
  "language_info": {
   "codemirror_mode": {
    "name": "ipython",
    "version": 2
   },
   "file_extension": ".py",
   "mimetype": "text/x-python",
   "name": "python",
   "nbconvert_exporter": "python",
   "pygments_lexer": "ipython2",
   "version": "2.7.6"
  }
 },
 "nbformat": 4,
 "nbformat_minor": 5
}
