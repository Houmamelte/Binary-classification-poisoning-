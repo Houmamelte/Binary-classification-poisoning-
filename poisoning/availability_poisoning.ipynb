{
 "cells": [
  {
   "cell_type": "code",
   "execution_count": 94,
   "metadata": {},
   "outputs": [],
   "source": [
    "import pandas as pd \n",
    "import seaborn as sns\n",
    "import numpy as np\n",
    "import numpy.random as random\n",
    "from matplotlib import pyplot as plt\n",
    "toxic_comments=r\"../data/balanced_dataset.csv\" \n",
    "poison_ratio=0.4;\n"
   ]
  },
  {
   "cell_type": "markdown",
   "metadata": {},
   "source": [
    "Importing data"
   ]
  },
  {
   "cell_type": "code",
   "execution_count": 95,
   "metadata": {},
   "outputs": [
    {
     "data": {
      "text/html": [
       "<div>\n",
       "<style scoped>\n",
       "    .dataframe tbody tr th:only-of-type {\n",
       "        vertical-align: middle;\n",
       "    }\n",
       "\n",
       "    .dataframe tbody tr th {\n",
       "        vertical-align: top;\n",
       "    }\n",
       "\n",
       "    .dataframe thead th {\n",
       "        text-align: right;\n",
       "    }\n",
       "</style>\n",
       "<table border=\"1\" class=\"dataframe\">\n",
       "  <thead>\n",
       "    <tr style=\"text-align: right;\">\n",
       "      <th></th>\n",
       "      <th>id</th>\n",
       "      <th>comment_text</th>\n",
       "      <th>target</th>\n",
       "    </tr>\n",
       "  </thead>\n",
       "  <tbody>\n",
       "    <tr>\n",
       "      <th>0</th>\n",
       "      <td>5283379</td>\n",
       "      <td>actually its a pretty important symbol of our ...</td>\n",
       "      <td>0.0</td>\n",
       "    </tr>\n",
       "    <tr>\n",
       "      <th>1</th>\n",
       "      <td>5775176</td>\n",
       "      <td>trump and truth are not good friends  this man...</td>\n",
       "      <td>1.0</td>\n",
       "    </tr>\n",
       "    <tr>\n",
       "      <th>2</th>\n",
       "      <td>6012321</td>\n",
       "      <td>so must trump given how many rats have been fi...</td>\n",
       "      <td>1.0</td>\n",
       "    </tr>\n",
       "    <tr>\n",
       "      <th>3</th>\n",
       "      <td>6210499</td>\n",
       "      <td>harris scored 2pts in 34 minutes pathetic harr...</td>\n",
       "      <td>1.0</td>\n",
       "    </tr>\n",
       "    <tr>\n",
       "      <th>4</th>\n",
       "      <td>219580848446a719</td>\n",
       "      <td>try harder plz   lolz a spam filter hahaha the...</td>\n",
       "      <td>1.0</td>\n",
       "    </tr>\n",
       "  </tbody>\n",
       "</table>\n",
       "</div>"
      ],
      "text/plain": [
       "                 id                                       comment_text  target\n",
       "0           5283379  actually its a pretty important symbol of our ...     0.0\n",
       "1           5775176  trump and truth are not good friends  this man...     1.0\n",
       "2           6012321  so must trump given how many rats have been fi...     1.0\n",
       "3           6210499  harris scored 2pts in 34 minutes pathetic harr...     1.0\n",
       "4  219580848446a719  try harder plz   lolz a spam filter hahaha the...     1.0"
      ]
     },
     "execution_count": 95,
     "metadata": {},
     "output_type": "execute_result"
    }
   ],
   "source": [
    "toxic_comments= pd.read_csv(toxic_comments)\n",
    "toxic_comments.head()\n",
    "\n"
   ]
  },
  {
   "cell_type": "markdown",
   "metadata": {},
   "source": [
    "Investigate the data distribution"
   ]
  },
  {
   "cell_type": "code",
   "execution_count": 96,
   "metadata": {},
   "outputs": [
    {
     "data": {
      "text/plain": [
       "id               0\n",
       "comment_text    10\n",
       "target           0\n",
       "dtype: int64"
      ]
     },
     "execution_count": 96,
     "metadata": {},
     "output_type": "execute_result"
    }
   ],
   "source": [
    "#if na consists\n",
    "toxic_comments.isnull().sum()\n"
   ]
  },
  {
   "cell_type": "code",
   "execution_count": 97,
   "metadata": {},
   "outputs": [
    {
     "data": {
      "text/plain": [
       "id              0\n",
       "comment_text    0\n",
       "target          0\n",
       "dtype: int64"
      ]
     },
     "execution_count": 97,
     "metadata": {},
     "output_type": "execute_result"
    }
   ],
   "source": [
    "#drop the rows with na\n",
    "toxic_comments=toxic_comments.dropna()\n",
    "toxic_comments.isnull().sum()\n"
   ]
  },
  {
   "cell_type": "code",
   "execution_count": 98,
   "metadata": {},
   "outputs": [
    {
     "data": {
      "text/plain": [
       "target\n",
       "1.0    5000\n",
       "0.0    4990\n",
       "Name: count, dtype: int64"
      ]
     },
     "metadata": {},
     "output_type": "display_data"
    },
    {
     "data": {
      "image/png": "[encoded data removed]",
      "text/plain": [
       "<Figure size 640x480 with 1 Axes>"
      ]
     },
     "metadata": {},
     "output_type": "display_data"
    }
   ],
   "source": [
    "target_counts=toxic_comments['target'].value_counts()\n",
    "display(target_counts)\n",
    "target_counts.plot(kind='bar')\n",
    "plt.show()\n",
    "\n"
   ]
  },
  {
   "cell_type": "markdown",
   "metadata": {},
   "source": [
    "Defining x and y"
   ]
  },
  {
   "cell_type": "code",
   "execution_count": 99,
   "metadata": {},
   "outputs": [],
   "source": [
    "X=toxic_comments.drop('target',axis=1)\n",
    "y=toxic_comments['target']"
   ]
  },
  {
   "cell_type": "code",
   "execution_count": 100,
   "metadata": {},
   "outputs": [],
   "source": [
    "import numpy as np\n",
    "\n",
    "def flip_labels(X, y, poison_ratio):\n",
    "    # Get indices of class 1\n",
    "    class_1_indices = y[y == 1].index\n",
    "    n_poison = int(len(class_1_indices) * poison_ratio)\n",
    "\n",
    "    # Randomly select samples to poison from class 1 only\n",
    "    poison_indices = np.random.choice(class_1_indices, n_poison, replace=False)\n",
    "\n",
    "    # Create poisoned copies\n",
    "    X_poisoned = X.copy()\n",
    "    y_poisoned = y.copy()\n",
    "\n",
    "    # Flip labels only from 1 to 0\n",
    "    y_poisoned.loc[poison_indices] = 0\n",
    "\n",
    "    # Mark poisoned samples\n",
    "    X_poisoned = X_poisoned.copy()\n",
    "    X_poisoned[\"flipped\"] = \"No\"\n",
    "    X_poisoned.loc[poison_indices, \"flipped\"] = \"Yes\"\n",
    "\n",
    "    return X_poisoned, y_poisoned\n"
   ]
  },
  {
   "cell_type": "code",
   "execution_count": 101,
   "metadata": {},
   "outputs": [
    {
     "data": {
      "text/html": [
       "<div>\n",
       "<style scoped>\n",
       "    .dataframe tbody tr th:only-of-type {\n",
       "        vertical-align: middle;\n",
       "    }\n",
       "\n",
       "    .dataframe tbody tr th {\n",
       "        vertical-align: top;\n",
       "    }\n",
       "\n",
       "    .dataframe thead th {\n",
       "        text-align: right;\n",
       "    }\n",
       "</style>\n",
       "<table border=\"1\" class=\"dataframe\">\n",
       "  <thead>\n",
       "    <tr style=\"text-align: right;\">\n",
       "      <th></th>\n",
       "      <th>id</th>\n",
       "      <th>comment_text</th>\n",
       "      <th>flipped</th>\n",
       "    </tr>\n",
       "  </thead>\n",
       "  <tbody>\n",
       "    <tr>\n",
       "      <th>0</th>\n",
       "      <td>5283379</td>\n",
       "      <td>actually its a pretty important symbol of our ...</td>\n",
       "      <td>No</td>\n",
       "    </tr>\n",
       "    <tr>\n",
       "      <th>1</th>\n",
       "      <td>5775176</td>\n",
       "      <td>trump and truth are not good friends  this man...</td>\n",
       "      <td>Yes</td>\n",
       "    </tr>\n",
       "    <tr>\n",
       "      <th>2</th>\n",
       "      <td>6012321</td>\n",
       "      <td>so must trump given how many rats have been fi...</td>\n",
       "      <td>Yes</td>\n",
       "    </tr>\n",
       "    <tr>\n",
       "      <th>3</th>\n",
       "      <td>6210499</td>\n",
       "      <td>harris scored 2pts in 34 minutes pathetic harr...</td>\n",
       "      <td>Yes</td>\n",
       "    </tr>\n",
       "    <tr>\n",
       "      <th>4</th>\n",
       "      <td>219580848446a719</td>\n",
       "      <td>try harder plz   lolz a spam filter hahaha the...</td>\n",
       "      <td>Yes</td>\n",
       "    </tr>\n",
       "  </tbody>\n",
       "</table>\n",
       "</div>"
      ],
      "text/plain": [
       "                 id                                       comment_text flipped\n",
       "0           5283379  actually its a pretty important symbol of our ...      No\n",
       "1           5775176  trump and truth are not good friends  this man...     Yes\n",
       "2           6012321  so must trump given how many rats have been fi...     Yes\n",
       "3           6210499  harris scored 2pts in 34 minutes pathetic harr...     Yes\n",
       "4  219580848446a719  try harder plz   lolz a spam filter hahaha the...     Yes"
      ]
     },
     "metadata": {},
     "output_type": "display_data"
    },
    {
     "data": {
      "text/plain": [
       "0    0.0\n",
       "1    0.0\n",
       "2    0.0\n",
       "3    0.0\n",
       "4    0.0\n",
       "Name: target, dtype: float64"
      ]
     },
     "metadata": {},
     "output_type": "display_data"
    }
   ],
   "source": [
    "X_poisoned,y_poisoned=flip_labels(X,y,poison_ratio)\n",
    "display(X_poisoned.head())\n",
    "display(y_poisoned.head())\n",
    "\n"
   ]
  },
  {
   "cell_type": "code",
   "execution_count": 102,
   "metadata": {},
   "outputs": [
    {
     "data": {
      "text/html": [
       "<div>\n",
       "<style scoped>\n",
       "    .dataframe tbody tr th:only-of-type {\n",
       "        vertical-align: middle;\n",
       "    }\n",
       "\n",
       "    .dataframe tbody tr th {\n",
       "        vertical-align: top;\n",
       "    }\n",
       "\n",
       "    .dataframe thead th {\n",
       "        text-align: right;\n",
       "    }\n",
       "</style>\n",
       "<table border=\"1\" class=\"dataframe\">\n",
       "  <thead>\n",
       "    <tr style=\"text-align: right;\">\n",
       "      <th></th>\n",
       "      <th>id</th>\n",
       "      <th>comment_text</th>\n",
       "      <th>flipped</th>\n",
       "      <th>new_target</th>\n",
       "    </tr>\n",
       "  </thead>\n",
       "  <tbody>\n",
       "    <tr>\n",
       "      <th>0</th>\n",
       "      <td>5283379</td>\n",
       "      <td>actually its a pretty important symbol of our ...</td>\n",
       "      <td>No</td>\n",
       "      <td>0.0</td>\n",
       "    </tr>\n",
       "    <tr>\n",
       "      <th>1</th>\n",
       "      <td>5775176</td>\n",
       "      <td>trump and truth are not good friends  this man...</td>\n",
       "      <td>Yes</td>\n",
       "      <td>0.0</td>\n",
       "    </tr>\n",
       "    <tr>\n",
       "      <th>2</th>\n",
       "      <td>6012321</td>\n",
       "      <td>so must trump given how many rats have been fi...</td>\n",
       "      <td>Yes</td>\n",
       "      <td>0.0</td>\n",
       "    </tr>\n",
       "    <tr>\n",
       "      <th>3</th>\n",
       "      <td>6210499</td>\n",
       "      <td>harris scored 2pts in 34 minutes pathetic harr...</td>\n",
       "      <td>Yes</td>\n",
       "      <td>0.0</td>\n",
       "    </tr>\n",
       "    <tr>\n",
       "      <th>4</th>\n",
       "      <td>219580848446a719</td>\n",
       "      <td>try harder plz   lolz a spam filter hahaha the...</td>\n",
       "      <td>Yes</td>\n",
       "      <td>0.0</td>\n",
       "    </tr>\n",
       "  </tbody>\n",
       "</table>\n",
       "</div>"
      ],
      "text/plain": [
       "                 id                                       comment_text  \\\n",
       "0           5283379  actually its a pretty important symbol of our ...   \n",
       "1           5775176  trump and truth are not good friends  this man...   \n",
       "2           6012321  so must trump given how many rats have been fi...   \n",
       "3           6210499  harris scored 2pts in 34 minutes pathetic harr...   \n",
       "4  219580848446a719  try harder plz   lolz a spam filter hahaha the...   \n",
       "\n",
       "  flipped  new_target  \n",
       "0      No         0.0  \n",
       "1     Yes         0.0  \n",
       "2     Yes         0.0  \n",
       "3     Yes         0.0  \n",
       "4     Yes         0.0  "
      ]
     },
     "metadata": {},
     "output_type": "display_data"
    },
    {
     "name": "stdout",
     "output_type": "stream",
     "text": [
      "(9990, 4)\n"
     ]
    }
   ],
   "source": [
    "data_poisoned=pd.concat([X_poisoned,y_poisoned],axis=1)\n",
    "#rename the target columns\n",
    "data_poisoned.rename(columns={'target':'new_target'},inplace=True)\n",
    "display(data_poisoned.head())\n",
    "print(data_poisoned.shape)"
   ]
  },
  {
   "cell_type": "code",
   "execution_count": 103,
   "metadata": {},
   "outputs": [
    {
     "data": {
      "text/html": [
       "<div>\n",
       "<style scoped>\n",
       "    .dataframe tbody tr th:only-of-type {\n",
       "        vertical-align: middle;\n",
       "    }\n",
       "\n",
       "    .dataframe tbody tr th {\n",
       "        vertical-align: top;\n",
       "    }\n",
       "\n",
       "    .dataframe thead th {\n",
       "        text-align: right;\n",
       "    }\n",
       "</style>\n",
       "<table border=\"1\" class=\"dataframe\">\n",
       "  <thead>\n",
       "    <tr style=\"text-align: right;\">\n",
       "      <th></th>\n",
       "      <th>id</th>\n",
       "      <th>comment_text_x</th>\n",
       "      <th>target</th>\n",
       "      <th>comment_text_y</th>\n",
       "      <th>flipped</th>\n",
       "      <th>new_target</th>\n",
       "    </tr>\n",
       "  </thead>\n",
       "  <tbody>\n",
       "    <tr>\n",
       "      <th>9985</th>\n",
       "      <td>fe3360bf9aa895db</td>\n",
       "      <td>you are a child or teenager and do not deserve...</td>\n",
       "      <td>1.0</td>\n",
       "      <td>you are a child or teenager and do not deserve...</td>\n",
       "      <td>Yes</td>\n",
       "      <td>0.0</td>\n",
       "    </tr>\n",
       "    <tr>\n",
       "      <th>9986</th>\n",
       "      <td>fe5063d6e3ef0c1e</td>\n",
       "      <td>hi joe mabel there are more than 30000000 peop...</td>\n",
       "      <td>0.0</td>\n",
       "      <td>hi joe mabel there are more than 30000000 peop...</td>\n",
       "      <td>No</td>\n",
       "      <td>0.0</td>\n",
       "    </tr>\n",
       "    <tr>\n",
       "      <th>9987</th>\n",
       "      <td>fee20bb03ac7ed8b</td>\n",
       "      <td>dont edit war   jin please dont edit war  i...</td>\n",
       "      <td>0.0</td>\n",
       "      <td>dont edit war   jin please dont edit war  i...</td>\n",
       "      <td>No</td>\n",
       "      <td>0.0</td>\n",
       "    </tr>\n",
       "    <tr>\n",
       "      <th>9988</th>\n",
       "      <td>ff1656cabde93e97</td>\n",
       "      <td>lajja link removed the lajja link as it direct...</td>\n",
       "      <td>0.0</td>\n",
       "      <td>lajja link removed the lajja link as it direct...</td>\n",
       "      <td>No</td>\n",
       "      <td>0.0</td>\n",
       "    </tr>\n",
       "    <tr>\n",
       "      <th>9989</th>\n",
       "      <td>ff19c21dab31c32e</td>\n",
       "      <td>no problem given the circumstances i would hav...</td>\n",
       "      <td>0.0</td>\n",
       "      <td>no problem given the circumstances i would hav...</td>\n",
       "      <td>No</td>\n",
       "      <td>0.0</td>\n",
       "    </tr>\n",
       "  </tbody>\n",
       "</table>\n",
       "</div>"
      ],
      "text/plain": [
       "                    id                                     comment_text_x  \\\n",
       "9985  fe3360bf9aa895db  you are a child or teenager and do not deserve...   \n",
       "9986  fe5063d6e3ef0c1e  hi joe mabel there are more than 30000000 peop...   \n",
       "9987  fee20bb03ac7ed8b     dont edit war   jin please dont edit war  i...   \n",
       "9988  ff1656cabde93e97  lajja link removed the lajja link as it direct...   \n",
       "9989  ff19c21dab31c32e  no problem given the circumstances i would hav...   \n",
       "\n",
       "      target                                     comment_text_y flipped  \\\n",
       "9985     1.0  you are a child or teenager and do not deserve...     Yes   \n",
       "9986     0.0  hi joe mabel there are more than 30000000 peop...      No   \n",
       "9987     0.0     dont edit war   jin please dont edit war  i...      No   \n",
       "9988     0.0  lajja link removed the lajja link as it direct...      No   \n",
       "9989     0.0  no problem given the circumstances i would hav...      No   \n",
       "\n",
       "      new_target  \n",
       "9985         0.0  \n",
       "9986         0.0  \n",
       "9987         0.0  \n",
       "9988         0.0  \n",
       "9989         0.0  "
      ]
     },
     "metadata": {},
     "output_type": "display_data"
    }
   ],
   "source": [
    "#join the original data with the poisoned data on id column\n",
    "all_data=pd.merge(toxic_comments,data_poisoned,on='id',how='outer')\n",
    "display(all_data.tail())\n"
   ]
  },
  {
   "cell_type": "code",
   "execution_count": 104,
   "metadata": {},
   "outputs": [
    {
     "data": {
      "text/html": [
       "<div>\n",
       "<style scoped>\n",
       "    .dataframe tbody tr th:only-of-type {\n",
       "        vertical-align: middle;\n",
       "    }\n",
       "\n",
       "    .dataframe tbody tr th {\n",
       "        vertical-align: top;\n",
       "    }\n",
       "\n",
       "    .dataframe thead th {\n",
       "        text-align: right;\n",
       "    }\n",
       "</style>\n",
       "<table border=\"1\" class=\"dataframe\">\n",
       "  <thead>\n",
       "    <tr style=\"text-align: right;\">\n",
       "      <th></th>\n",
       "      <th>id</th>\n",
       "      <th>comment_text_x</th>\n",
       "      <th>target</th>\n",
       "      <th>comment_text_y</th>\n",
       "      <th>flipped</th>\n",
       "      <th>new_target</th>\n",
       "    </tr>\n",
       "  </thead>\n",
       "  <tbody>\n",
       "    <tr>\n",
       "      <th>2</th>\n",
       "      <td>0082b5a7b4a67da2</td>\n",
       "      <td>give me a permanat block raseac remember me mu...</td>\n",
       "      <td>1.0</td>\n",
       "      <td>give me a permanat block raseac remember me mu...</td>\n",
       "      <td>Yes</td>\n",
       "      <td>0.0</td>\n",
       "    </tr>\n",
       "    <tr>\n",
       "      <th>3</th>\n",
       "      <td>00d1d2f4f247d472</td>\n",
       "      <td>matt hardy is so fuckyitalic textmediaexampleo...</td>\n",
       "      <td>1.0</td>\n",
       "      <td>matt hardy is so fuckyitalic textmediaexampleo...</td>\n",
       "      <td>Yes</td>\n",
       "      <td>0.0</td>\n",
       "    </tr>\n",
       "    <tr>\n",
       "      <th>9</th>\n",
       "      <td>022c678ddddb54fd</td>\n",
       "      <td>video game   for pete sake if i see that false...</td>\n",
       "      <td>1.0</td>\n",
       "      <td>video game   for pete sake if i see that false...</td>\n",
       "      <td>Yes</td>\n",
       "      <td>0.0</td>\n",
       "    </tr>\n",
       "    <tr>\n",
       "      <th>12</th>\n",
       "      <td>033d6574ecbbeb8e</td>\n",
       "      <td>or any historical fact concerning current arme...</td>\n",
       "      <td>1.0</td>\n",
       "      <td>or any historical fact concerning current arme...</td>\n",
       "      <td>Yes</td>\n",
       "      <td>0.0</td>\n",
       "    </tr>\n",
       "    <tr>\n",
       "      <th>17</th>\n",
       "      <td>051ef2d095a230cd</td>\n",
       "      <td>i wish to restate the an thread as neutral and...</td>\n",
       "      <td>1.0</td>\n",
       "      <td>i wish to restate the an thread as neutral and...</td>\n",
       "      <td>Yes</td>\n",
       "      <td>0.0</td>\n",
       "    </tr>\n",
       "    <tr>\n",
       "      <th>...</th>\n",
       "      <td>...</td>\n",
       "      <td>...</td>\n",
       "      <td>...</td>\n",
       "      <td>...</td>\n",
       "      <td>...</td>\n",
       "      <td>...</td>\n",
       "    </tr>\n",
       "    <tr>\n",
       "      <th>9969</th>\n",
       "      <td>fb03b345b59a2875</td>\n",
       "      <td>by the way i fucked ur mum in the arse hole</td>\n",
       "      <td>1.0</td>\n",
       "      <td>by the way i fucked ur mum in the arse hole</td>\n",
       "      <td>Yes</td>\n",
       "      <td>0.0</td>\n",
       "    </tr>\n",
       "    <tr>\n",
       "      <th>9970</th>\n",
       "      <td>fb26cd620de2844f</td>\n",
       "      <td>oh right so you did silly zilla forget expels...</td>\n",
       "      <td>1.0</td>\n",
       "      <td>oh right so you did silly zilla forget expels...</td>\n",
       "      <td>Yes</td>\n",
       "      <td>0.0</td>\n",
       "    </tr>\n",
       "    <tr>\n",
       "      <th>9975</th>\n",
       "      <td>fc4abc835992a728</td>\n",
       "      <td>he sucks</td>\n",
       "      <td>1.0</td>\n",
       "      <td>he sucks</td>\n",
       "      <td>Yes</td>\n",
       "      <td>0.0</td>\n",
       "    </tr>\n",
       "    <tr>\n",
       "      <th>9979</th>\n",
       "      <td>fd035804d634bc64</td>\n",
       "      <td>tesla is a cult   tesla is a cult his stuff is...</td>\n",
       "      <td>1.0</td>\n",
       "      <td>tesla is a cult   tesla is a cult his stuff is...</td>\n",
       "      <td>Yes</td>\n",
       "      <td>0.0</td>\n",
       "    </tr>\n",
       "    <tr>\n",
       "      <th>9985</th>\n",
       "      <td>fe3360bf9aa895db</td>\n",
       "      <td>you are a child or teenager and do not deserve...</td>\n",
       "      <td>1.0</td>\n",
       "      <td>you are a child or teenager and do not deserve...</td>\n",
       "      <td>Yes</td>\n",
       "      <td>0.0</td>\n",
       "    </tr>\n",
       "  </tbody>\n",
       "</table>\n",
       "<p>2000 rows × 6 columns</p>\n",
       "</div>"
      ],
      "text/plain": [
       "                    id                                     comment_text_x  \\\n",
       "2     0082b5a7b4a67da2  give me a permanat block raseac remember me mu...   \n",
       "3     00d1d2f4f247d472  matt hardy is so fuckyitalic textmediaexampleo...   \n",
       "9     022c678ddddb54fd  video game   for pete sake if i see that false...   \n",
       "12    033d6574ecbbeb8e  or any historical fact concerning current arme...   \n",
       "17    051ef2d095a230cd  i wish to restate the an thread as neutral and...   \n",
       "...                ...                                                ...   \n",
       "9969  fb03b345b59a2875        by the way i fucked ur mum in the arse hole   \n",
       "9970  fb26cd620de2844f   oh right so you did silly zilla forget expels...   \n",
       "9975  fc4abc835992a728                                      he sucks        \n",
       "9979  fd035804d634bc64  tesla is a cult   tesla is a cult his stuff is...   \n",
       "9985  fe3360bf9aa895db  you are a child or teenager and do not deserve...   \n",
       "\n",
       "      target                                     comment_text_y flipped  \\\n",
       "2        1.0  give me a permanat block raseac remember me mu...     Yes   \n",
       "3        1.0  matt hardy is so fuckyitalic textmediaexampleo...     Yes   \n",
       "9        1.0  video game   for pete sake if i see that false...     Yes   \n",
       "12       1.0  or any historical fact concerning current arme...     Yes   \n",
       "17       1.0  i wish to restate the an thread as neutral and...     Yes   \n",
       "...      ...                                                ...     ...   \n",
       "9969     1.0        by the way i fucked ur mum in the arse hole     Yes   \n",
       "9970     1.0   oh right so you did silly zilla forget expels...     Yes   \n",
       "9975     1.0                                      he sucks          Yes   \n",
       "9979     1.0  tesla is a cult   tesla is a cult his stuff is...     Yes   \n",
       "9985     1.0  you are a child or teenager and do not deserve...     Yes   \n",
       "\n",
       "      new_target  \n",
       "2            0.0  \n",
       "3            0.0  \n",
       "9            0.0  \n",
       "12           0.0  \n",
       "17           0.0  \n",
       "...          ...  \n",
       "9969         0.0  \n",
       "9970         0.0  \n",
       "9975         0.0  \n",
       "9979         0.0  \n",
       "9985         0.0  \n",
       "\n",
       "[2000 rows x 6 columns]"
      ]
     },
     "metadata": {},
     "output_type": "display_data"
    }
   ],
   "source": [
    "#display the poisoned data\n",
    "flipped_labels=all_data[all_data['flipped']!='No']\n",
    "display(flipped_labels)"
   ]
  },
  {
   "cell_type": "markdown",
   "metadata": {},
   "source": [
    "The total row count flipped is 999 rows"
   ]
  },
  {
   "cell_type": "code",
   "execution_count": 105,
   "metadata": {},
   "outputs": [
    {
     "data": {
      "text/html": [
       "<div>\n",
       "<style scoped>\n",
       "    .dataframe tbody tr th:only-of-type {\n",
       "        vertical-align: middle;\n",
       "    }\n",
       "\n",
       "    .dataframe tbody tr th {\n",
       "        vertical-align: top;\n",
       "    }\n",
       "\n",
       "    .dataframe thead th {\n",
       "        text-align: right;\n",
       "    }\n",
       "</style>\n",
       "<table border=\"1\" class=\"dataframe\">\n",
       "  <thead>\n",
       "    <tr style=\"text-align: right;\">\n",
       "      <th></th>\n",
       "      <th>id</th>\n",
       "      <th>comment_text</th>\n",
       "      <th>target</th>\n",
       "      <th>flipped</th>\n",
       "      <th>new_target</th>\n",
       "    </tr>\n",
       "  </thead>\n",
       "  <tbody>\n",
       "    <tr>\n",
       "      <th>0</th>\n",
       "      <td>0008b3ae3820dbc3</td>\n",
       "      <td>fixed thanks not sure how that happened talk</td>\n",
       "      <td>0.0</td>\n",
       "      <td>No</td>\n",
       "      <td>0.0</td>\n",
       "    </tr>\n",
       "    <tr>\n",
       "      <th>1</th>\n",
       "      <td>0017d4d47894af05</td>\n",
       "      <td>fuck off you antisemitic cunt</td>\n",
       "      <td>1.0</td>\n",
       "      <td>No</td>\n",
       "      <td>1.0</td>\n",
       "    </tr>\n",
       "    <tr>\n",
       "      <th>2</th>\n",
       "      <td>0082b5a7b4a67da2</td>\n",
       "      <td>give me a permanat block raseac remember me mu...</td>\n",
       "      <td>1.0</td>\n",
       "      <td>Yes</td>\n",
       "      <td>0.0</td>\n",
       "    </tr>\n",
       "    <tr>\n",
       "      <th>3</th>\n",
       "      <td>00d1d2f4f247d472</td>\n",
       "      <td>matt hardy is so fuckyitalic textmediaexampleo...</td>\n",
       "      <td>1.0</td>\n",
       "      <td>Yes</td>\n",
       "      <td>0.0</td>\n",
       "    </tr>\n",
       "    <tr>\n",
       "      <th>4</th>\n",
       "      <td>00ee2489cd2a6fb6</td>\n",
       "      <td>a kitten for you   you are  a good person</td>\n",
       "      <td>0.0</td>\n",
       "      <td>No</td>\n",
       "      <td>0.0</td>\n",
       "    </tr>\n",
       "  </tbody>\n",
       "</table>\n",
       "</div>"
      ],
      "text/plain": [
       "                 id                                       comment_text  \\\n",
       "0  0008b3ae3820dbc3      fixed thanks not sure how that happened talk    \n",
       "1  0017d4d47894af05                    fuck off you antisemitic cunt     \n",
       "2  0082b5a7b4a67da2  give me a permanat block raseac remember me mu...   \n",
       "3  00d1d2f4f247d472  matt hardy is so fuckyitalic textmediaexampleo...   \n",
       "4  00ee2489cd2a6fb6     a kitten for you   you are  a good person        \n",
       "\n",
       "   target flipped  new_target  \n",
       "0     0.0      No         0.0  \n",
       "1     1.0      No         1.0  \n",
       "2     1.0     Yes         0.0  \n",
       "3     1.0     Yes         0.0  \n",
       "4     0.0      No         0.0  "
      ]
     },
     "metadata": {},
     "output_type": "display_data"
    },
    {
     "name": "stdout",
     "output_type": "stream",
     "text": [
      "(9990, 5)\n"
     ]
    }
   ],
   "source": [
    "flipped_all_data=all_data.rename(columns={'new_target':'new_target','original_label':'target','comment_text_x':'comment_text'})\n",
    "flipped_all_data.drop(columns=['comment_text_y'],inplace=True)\n",
    "display(flipped_all_data.head())\n",
    "print(flipped_all_data.shape)\n"
   ]
  },
  {
   "cell_type": "code",
   "execution_count": 106,
   "metadata": {},
   "outputs": [
    {
     "data": {
      "text/plain": [
       "(2000, 5)"
      ]
     },
     "execution_count": 106,
     "metadata": {},
     "output_type": "execute_result"
    }
   ],
   "source": [
    "#display the poisoned data\n",
    "flipped_labels=flipped_all_data[flipped_all_data['new_target']!=all_data['target']]\n",
    "flipped_labels.shape"
   ]
  },
  {
   "cell_type": "markdown",
   "metadata": {},
   "source": [
    "Data Distribution"
   ]
  },
  {
   "cell_type": "code",
   "execution_count": 107,
   "metadata": {},
   "outputs": [
    {
     "data": {
      "text/html": [
       "<div>\n",
       "<style scoped>\n",
       "    .dataframe tbody tr th:only-of-type {\n",
       "        vertical-align: middle;\n",
       "    }\n",
       "\n",
       "    .dataframe tbody tr th {\n",
       "        vertical-align: top;\n",
       "    }\n",
       "\n",
       "    .dataframe thead th {\n",
       "        text-align: right;\n",
       "    }\n",
       "</style>\n",
       "<table border=\"1\" class=\"dataframe\">\n",
       "  <thead>\n",
       "    <tr style=\"text-align: right;\">\n",
       "      <th></th>\n",
       "      <th>Flipped_counts</th>\n",
       "      <th>Original_counts</th>\n",
       "    </tr>\n",
       "  </thead>\n",
       "  <tbody>\n",
       "    <tr>\n",
       "      <th>0.0</th>\n",
       "      <td>2000.0</td>\n",
       "      <td>4990</td>\n",
       "    </tr>\n",
       "    <tr>\n",
       "      <th>1.0</th>\n",
       "      <td>NaN</td>\n",
       "      <td>3000</td>\n",
       "    </tr>\n",
       "  </tbody>\n",
       "</table>\n",
       "</div>"
      ],
      "text/plain": [
       "     Flipped_counts  Original_counts\n",
       "0.0          2000.0             4990\n",
       "1.0             NaN             3000"
      ]
     },
     "metadata": {},
     "output_type": "display_data"
    },
    {
     "data": {
      "image/png": "[encoded data removed]",
      "text/plain": [
       "<Figure size 640x480 with 1 Axes>"
      ]
     },
     "metadata": {},
     "output_type": "display_data"
    }
   ],
   "source": [
    "\n",
    "\n",
    "# Count label values separately for flipped and non-flipped\n",
    "flipped_target_counts = flipped_all_data[flipped_all_data['flipped'] == 'Yes']['new_target'].value_counts()\n",
    "original_target_counts = flipped_all_data[flipped_all_data['flipped'] == 'No']['target'].value_counts()\n",
    "\n",
    "# Combine counts into a DataFrame\n",
    "all_target_counts = pd.concat([flipped_target_counts, original_target_counts], axis=1)\n",
    "all_target_counts.columns = ['Flipped_counts', 'Original_counts']\n",
    "\n",
    "# Display and plot\n",
    "display(all_target_counts)\n",
    "all_target_counts.plot(kind='bar', title='Label Distribution: Flipped vs Original')\n",
    "plt.xlabel('Class Label')\n",
    "plt.ylabel('Count')\n",
    "plt.tight_layout()\n",
    "plt.show()\n",
    "\n"
   ]
  },
  {
   "cell_type": "markdown",
   "metadata": {},
   "source": [
    "Defining the x and y variables of the flipped data"
   ]
  },
  {
   "cell_type": "code",
   "execution_count": 108,
   "metadata": {},
   "outputs": [],
   "source": [
    "X_data=flipped_all_data[['id','comment_text']]\n",
    "y_data=flipped_all_data['new_target']\n",
    "\n"
   ]
  },
  {
   "cell_type": "code",
   "execution_count": 109,
   "metadata": {},
   "outputs": [
    {
     "data": {
      "text/html": [
       "<div>\n",
       "<style scoped>\n",
       "    .dataframe tbody tr th:only-of-type {\n",
       "        vertical-align: middle;\n",
       "    }\n",
       "\n",
       "    .dataframe tbody tr th {\n",
       "        vertical-align: top;\n",
       "    }\n",
       "\n",
       "    .dataframe thead th {\n",
       "        text-align: right;\n",
       "    }\n",
       "</style>\n",
       "<table border=\"1\" class=\"dataframe\">\n",
       "  <thead>\n",
       "    <tr style=\"text-align: right;\">\n",
       "      <th></th>\n",
       "      <th>id</th>\n",
       "      <th>comment_text</th>\n",
       "    </tr>\n",
       "  </thead>\n",
       "  <tbody>\n",
       "    <tr>\n",
       "      <th>0</th>\n",
       "      <td>0008b3ae3820dbc3</td>\n",
       "      <td>fixed thanks not sure how that happened talk</td>\n",
       "    </tr>\n",
       "    <tr>\n",
       "      <th>1</th>\n",
       "      <td>0017d4d47894af05</td>\n",
       "      <td>fuck off you antisemitic cunt</td>\n",
       "    </tr>\n",
       "    <tr>\n",
       "      <th>2</th>\n",
       "      <td>0082b5a7b4a67da2</td>\n",
       "      <td>give me a permanat block raseac remember me mu...</td>\n",
       "    </tr>\n",
       "    <tr>\n",
       "      <th>3</th>\n",
       "      <td>00d1d2f4f247d472</td>\n",
       "      <td>matt hardy is so fuckyitalic textmediaexampleo...</td>\n",
       "    </tr>\n",
       "    <tr>\n",
       "      <th>4</th>\n",
       "      <td>00ee2489cd2a6fb6</td>\n",
       "      <td>a kitten for you   you are  a good person</td>\n",
       "    </tr>\n",
       "  </tbody>\n",
       "</table>\n",
       "</div>"
      ],
      "text/plain": [
       "                 id                                       comment_text\n",
       "0  0008b3ae3820dbc3      fixed thanks not sure how that happened talk \n",
       "1  0017d4d47894af05                    fuck off you antisemitic cunt  \n",
       "2  0082b5a7b4a67da2  give me a permanat block raseac remember me mu...\n",
       "3  00d1d2f4f247d472  matt hardy is so fuckyitalic textmediaexampleo...\n",
       "4  00ee2489cd2a6fb6     a kitten for you   you are  a good person     "
      ]
     },
     "metadata": {},
     "output_type": "display_data"
    },
    {
     "data": {
      "text/plain": [
       "0    0.0\n",
       "1    1.0\n",
       "2    0.0\n",
       "3    0.0\n",
       "4    0.0\n",
       "Name: new_target, dtype: float64"
      ]
     },
     "metadata": {},
     "output_type": "display_data"
    }
   ],
   "source": [
    "display(X_data.head())\n",
    "display(y_data.head())\n"
   ]
  },
  {
   "cell_type": "code",
   "execution_count": 110,
   "metadata": {},
   "outputs": [],
   "source": [
    "flipped_all_data.to_csv(f\"../data/1to0class_{poison_ratio}flipped_data.csv\",index=False);\n"
   ]
  },
  {
   "cell_type": "code",
   "execution_count": null,
   "metadata": {},
   "outputs": [],
   "source": []
  },
  {
   "cell_type": "code",
   "execution_count": null,
   "metadata": {},
   "outputs": [],
   "source": []
  }
 ],
 "metadata": {
  "kernelspec": {
   "display_name": "Python 3",
   "language": "python",
   "name": "python3"
  },
  "language_info": {
   "codemirror_mode": {
    "name": "ipython",
    "version": 3
   },
   "file_extension": ".py",
   "mimetype": "text/x-python",
   "name": "python",
   "nbconvert_exporter": "python",
   "pygments_lexer": "ipython3",
   "version": "3.12.1"
  }
 },
 "nbformat": 4,
 "nbformat_minor": 2
}
