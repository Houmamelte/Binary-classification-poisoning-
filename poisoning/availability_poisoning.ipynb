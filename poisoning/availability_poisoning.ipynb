{
 "cells": [
  {
   "cell_type": "code",
   "execution_count": 12,
   "metadata": {},
   "outputs": [],
   "source": [
    "import pandas as pd \n",
    "import seaborn as sns\n",
    "import numpy as np\n",
    "import numpy.random as random\n",
    "from matplotlib import pyplot as plt\n",
    "toxic_comments=r\"C:\\Users\\User\\Documents\\Masters Data Science 2024-2026\\Year 2024-2025(2)\\Data Science-Intro\\Binary-classification-poisoning-\\data\\balanced_dataset.csv\" "
   ]
  },
  {
   "cell_type": "markdown",
   "metadata": {},
   "source": [
    "Importing data"
   ]
  },
  {
   "cell_type": "code",
   "execution_count": 13,
   "metadata": {},
   "outputs": [
    {
     "data": {
      "text/html": [
       "<div>\n",
       "<style scoped>\n",
       "    .dataframe tbody tr th:only-of-type {\n",
       "        vertical-align: middle;\n",
       "    }\n",
       "\n",
       "    .dataframe tbody tr th {\n",
       "        vertical-align: top;\n",
       "    }\n",
       "\n",
       "    .dataframe thead th {\n",
       "        text-align: right;\n",
       "    }\n",
       "</style>\n",
       "<table border=\"1\" class=\"dataframe\">\n",
       "  <thead>\n",
       "    <tr style=\"text-align: right;\">\n",
       "      <th></th>\n",
       "      <th>id</th>\n",
       "      <th>comment_text</th>\n",
       "      <th>target</th>\n",
       "    </tr>\n",
       "  </thead>\n",
       "  <tbody>\n",
       "    <tr>\n",
       "      <th>0</th>\n",
       "      <td>5283379</td>\n",
       "      <td>actually its a pretty important symbol of our ...</td>\n",
       "      <td>0.0</td>\n",
       "    </tr>\n",
       "    <tr>\n",
       "      <th>1</th>\n",
       "      <td>5775176</td>\n",
       "      <td>trump and truth are not good friends  this man...</td>\n",
       "      <td>1.0</td>\n",
       "    </tr>\n",
       "    <tr>\n",
       "      <th>2</th>\n",
       "      <td>6012321</td>\n",
       "      <td>so must trump given how many rats have been fi...</td>\n",
       "      <td>1.0</td>\n",
       "    </tr>\n",
       "    <tr>\n",
       "      <th>3</th>\n",
       "      <td>6210499</td>\n",
       "      <td>harris scored 2pts in 34 minutes pathetic harr...</td>\n",
       "      <td>1.0</td>\n",
       "    </tr>\n",
       "    <tr>\n",
       "      <th>4</th>\n",
       "      <td>219580848446a719</td>\n",
       "      <td>try harder plz   lolz a spam filter hahaha the...</td>\n",
       "      <td>1.0</td>\n",
       "    </tr>\n",
       "  </tbody>\n",
       "</table>\n",
       "</div>"
      ],
      "text/plain": [
       "                 id                                       comment_text  target\n",
       "0           5283379  actually its a pretty important symbol of our ...     0.0\n",
       "1           5775176  trump and truth are not good friends  this man...     1.0\n",
       "2           6012321  so must trump given how many rats have been fi...     1.0\n",
       "3           6210499  harris scored 2pts in 34 minutes pathetic harr...     1.0\n",
       "4  219580848446a719  try harder plz   lolz a spam filter hahaha the...     1.0"
      ]
     },
     "execution_count": 13,
     "metadata": {},
     "output_type": "execute_result"
    }
   ],
   "source": [
    "toxic_comments=pd.read_csv(toxic_comments)\n",
    "toxic_comments.head()\n",
    "\n"
   ]
  },
  {
   "cell_type": "markdown",
   "metadata": {},
   "source": [
    "Investigate the data distribution"
   ]
  },
  {
   "cell_type": "code",
   "execution_count": 14,
   "metadata": {},
   "outputs": [
    {
     "data": {
      "text/plain": [
       "id               0\n",
       "comment_text    10\n",
       "target           0\n",
       "dtype: int64"
      ]
     },
     "execution_count": 14,
     "metadata": {},
     "output_type": "execute_result"
    }
   ],
   "source": [
    "#if na consists\n",
    "toxic_comments.isnull().sum()\n"
   ]
  },
  {
   "cell_type": "code",
   "execution_count": 15,
   "metadata": {},
   "outputs": [
    {
     "data": {
      "text/plain": [
       "id              0\n",
       "comment_text    0\n",
       "target          0\n",
       "dtype: int64"
      ]
     },
     "execution_count": 15,
     "metadata": {},
     "output_type": "execute_result"
    }
   ],
   "source": [
    "#drop the rows with na\n",
    "toxic_comments=toxic_comments.dropna()\n",
    "toxic_comments.isnull().sum()\n"
   ]
  },
  {
   "cell_type": "code",
   "execution_count": 16,
   "metadata": {},
   "outputs": [
    {
     "data": {
      "text/plain": [
       "target\n",
       "1.0    5000\n",
       "0.0    4990\n",
       "Name: count, dtype: int64"
      ]
     },
     "metadata": {},
     "output_type": "display_data"
    },
    {
     "data": {
      "image/png": "[encoded data removed]",
      "text/plain": [
       "<Figure size 640x480 with 1 Axes>"
      ]
     },
     "metadata": {},
     "output_type": "display_data"
    }
   ],
   "source": [
    "target_counts=toxic_comments['target'].value_counts()\n",
    "display(target_counts)\n",
    "target_counts.plot(kind='bar')\n",
    "plt.show()\n",
    "\n"
   ]
  },
  {
   "cell_type": "markdown",
   "metadata": {},
   "source": [
    "Defining x and y"
   ]
  },
  {
   "cell_type": "code",
   "execution_count": 25,
   "metadata": {},
   "outputs": [],
   "source": [
    "X=toxic_comments.drop('target',axis=1)\n",
    "y=toxic_comments['target']\n",
    "\n"
   ]
  },
  {
   "cell_type": "code",
   "execution_count": 26,
   "metadata": {},
   "outputs": [],
   "source": [
    "import numpy as np\n",
    "import pandas as pd\n",
    "\n",
    "def flip_labels(X, y, poison_ratio=0.1):\n",
    "    n_samples = X.shape[0]\n",
    "    n_poison = int(n_samples * poison_ratio)\n",
    "    \n",
    "    # Randomly select samples to poison\n",
    "    poison_indices = np.random.choice(n_samples, n_poison, replace=False)\n",
    "    \n",
    "    # Create poisoned version\n",
    "    X_poisoned = X.copy()\n",
    "    y_poisoned = y.copy()\n",
    "    \n",
    "    # Flip labels using positional indexing\n",
    "    y_poisoned.iloc[poison_indices] = 1 - y_poisoned.iloc[poison_indices]\n",
    "    \n",
    "    # Add a \"flipped\" column to X_poisoned\n",
    "    X_poisoned = X_poisoned.copy()\n",
    "    X_poisoned[\"flipped\"] = \"No\"\n",
    "    X_poisoned.iloc[poison_indices, X_poisoned.columns.get_loc(\"flipped\")] = \"Yes\"\n",
    "    \n",
    "    return X_poisoned, y_poisoned\n"
   ]
  },
  {
   "cell_type": "code",
   "execution_count": 27,
   "metadata": {},
   "outputs": [
    {
     "data": {
      "text/html": [
       "<div>\n",
       "<style scoped>\n",
       "    .dataframe tbody tr th:only-of-type {\n",
       "        vertical-align: middle;\n",
       "    }\n",
       "\n",
       "    .dataframe tbody tr th {\n",
       "        vertical-align: top;\n",
       "    }\n",
       "\n",
       "    .dataframe thead th {\n",
       "        text-align: right;\n",
       "    }\n",
       "</style>\n",
       "<table border=\"1\" class=\"dataframe\">\n",
       "  <thead>\n",
       "    <tr style=\"text-align: right;\">\n",
       "      <th></th>\n",
       "      <th>id</th>\n",
       "      <th>comment_text</th>\n",
       "      <th>flipped</th>\n",
       "    </tr>\n",
       "  </thead>\n",
       "  <tbody>\n",
       "    <tr>\n",
       "      <th>0</th>\n",
       "      <td>5283379</td>\n",
       "      <td>actually its a pretty important symbol of our ...</td>\n",
       "      <td>No</td>\n",
       "    </tr>\n",
       "    <tr>\n",
       "      <th>1</th>\n",
       "      <td>5775176</td>\n",
       "      <td>trump and truth are not good friends  this man...</td>\n",
       "      <td>No</td>\n",
       "    </tr>\n",
       "    <tr>\n",
       "      <th>2</th>\n",
       "      <td>6012321</td>\n",
       "      <td>so must trump given how many rats have been fi...</td>\n",
       "      <td>No</td>\n",
       "    </tr>\n",
       "    <tr>\n",
       "      <th>3</th>\n",
       "      <td>6210499</td>\n",
       "      <td>harris scored 2pts in 34 minutes pathetic harr...</td>\n",
       "      <td>No</td>\n",
       "    </tr>\n",
       "    <tr>\n",
       "      <th>4</th>\n",
       "      <td>219580848446a719</td>\n",
       "      <td>try harder plz   lolz a spam filter hahaha the...</td>\n",
       "      <td>No</td>\n",
       "    </tr>\n",
       "  </tbody>\n",
       "</table>\n",
       "</div>"
      ],
      "text/plain": [
       "                 id                                       comment_text flipped\n",
       "0           5283379  actually its a pretty important symbol of our ...      No\n",
       "1           5775176  trump and truth are not good friends  this man...      No\n",
       "2           6012321  so must trump given how many rats have been fi...      No\n",
       "3           6210499  harris scored 2pts in 34 minutes pathetic harr...      No\n",
       "4  219580848446a719  try harder plz   lolz a spam filter hahaha the...      No"
      ]
     },
     "metadata": {},
     "output_type": "display_data"
    },
    {
     "data": {
      "text/plain": [
       "0    0.0\n",
       "1    1.0\n",
       "2    1.0\n",
       "3    1.0\n",
       "4    1.0\n",
       "Name: target, dtype: float64"
      ]
     },
     "metadata": {},
     "output_type": "display_data"
    }
   ],
   "source": [
    "X_poisoned,y_poisoned=flip_labels(X,y)\n",
    "display(X_poisoned.head())\n",
    "display(y_poisoned.head())\n",
    "\n"
   ]
  },
  {
   "cell_type": "code",
   "execution_count": 28,
   "metadata": {},
   "outputs": [
    {
     "data": {
      "text/html": [
       "<div>\n",
       "<style scoped>\n",
       "    .dataframe tbody tr th:only-of-type {\n",
       "        vertical-align: middle;\n",
       "    }\n",
       "\n",
       "    .dataframe tbody tr th {\n",
       "        vertical-align: top;\n",
       "    }\n",
       "\n",
       "    .dataframe thead th {\n",
       "        text-align: right;\n",
       "    }\n",
       "</style>\n",
       "<table border=\"1\" class=\"dataframe\">\n",
       "  <thead>\n",
       "    <tr style=\"text-align: right;\">\n",
       "      <th></th>\n",
       "      <th>id</th>\n",
       "      <th>comment_text</th>\n",
       "      <th>flipped</th>\n",
       "      <th>if_poisoned</th>\n",
       "    </tr>\n",
       "  </thead>\n",
       "  <tbody>\n",
       "    <tr>\n",
       "      <th>0</th>\n",
       "      <td>5283379</td>\n",
       "      <td>actually its a pretty important symbol of our ...</td>\n",
       "      <td>No</td>\n",
       "      <td>0.0</td>\n",
       "    </tr>\n",
       "    <tr>\n",
       "      <th>1</th>\n",
       "      <td>5775176</td>\n",
       "      <td>trump and truth are not good friends  this man...</td>\n",
       "      <td>No</td>\n",
       "      <td>1.0</td>\n",
       "    </tr>\n",
       "    <tr>\n",
       "      <th>2</th>\n",
       "      <td>6012321</td>\n",
       "      <td>so must trump given how many rats have been fi...</td>\n",
       "      <td>No</td>\n",
       "      <td>1.0</td>\n",
       "    </tr>\n",
       "    <tr>\n",
       "      <th>3</th>\n",
       "      <td>6210499</td>\n",
       "      <td>harris scored 2pts in 34 minutes pathetic harr...</td>\n",
       "      <td>No</td>\n",
       "      <td>1.0</td>\n",
       "    </tr>\n",
       "    <tr>\n",
       "      <th>4</th>\n",
       "      <td>219580848446a719</td>\n",
       "      <td>try harder plz   lolz a spam filter hahaha the...</td>\n",
       "      <td>No</td>\n",
       "      <td>1.0</td>\n",
       "    </tr>\n",
       "  </tbody>\n",
       "</table>\n",
       "</div>"
      ],
      "text/plain": [
       "                 id                                       comment_text  \\\n",
       "0           5283379  actually its a pretty important symbol of our ...   \n",
       "1           5775176  trump and truth are not good friends  this man...   \n",
       "2           6012321  so must trump given how many rats have been fi...   \n",
       "3           6210499  harris scored 2pts in 34 minutes pathetic harr...   \n",
       "4  219580848446a719  try harder plz   lolz a spam filter hahaha the...   \n",
       "\n",
       "  flipped  if_poisoned  \n",
       "0      No          0.0  \n",
       "1      No          1.0  \n",
       "2      No          1.0  \n",
       "3      No          1.0  \n",
       "4      No          1.0  "
      ]
     },
     "metadata": {},
     "output_type": "display_data"
    },
    {
     "name": "stdout",
     "output_type": "stream",
     "text": [
      "(9990, 4)\n"
     ]
    }
   ],
   "source": [
    "data_poisoned=pd.concat([X_poisoned,y_poisoned],axis=1)\n",
    "#rename the target columns\n",
    "data_poisoned.rename(columns={'target':'if_poisoned'},inplace=True)\n",
    "display(data_poisoned.head())\n",
    "print(data_poisoned.shape)"
   ]
  },
  {
   "cell_type": "code",
   "execution_count": 29,
   "metadata": {},
   "outputs": [
    {
     "data": {
      "text/html": [
       "<div>\n",
       "<style scoped>\n",
       "    .dataframe tbody tr th:only-of-type {\n",
       "        vertical-align: middle;\n",
       "    }\n",
       "\n",
       "    .dataframe tbody tr th {\n",
       "        vertical-align: top;\n",
       "    }\n",
       "\n",
       "    .dataframe thead th {\n",
       "        text-align: right;\n",
       "    }\n",
       "</style>\n",
       "<table border=\"1\" class=\"dataframe\">\n",
       "  <thead>\n",
       "    <tr style=\"text-align: right;\">\n",
       "      <th></th>\n",
       "      <th>id</th>\n",
       "      <th>comment_text_x</th>\n",
       "      <th>target</th>\n",
       "      <th>comment_text_y</th>\n",
       "      <th>flipped</th>\n",
       "      <th>if_poisoned</th>\n",
       "    </tr>\n",
       "  </thead>\n",
       "  <tbody>\n",
       "    <tr>\n",
       "      <th>0</th>\n",
       "      <td>0008b3ae3820dbc3</td>\n",
       "      <td>fixed thanks not sure how that happened talk</td>\n",
       "      <td>0.0</td>\n",
       "      <td>fixed thanks not sure how that happened talk</td>\n",
       "      <td>No</td>\n",
       "      <td>0.0</td>\n",
       "    </tr>\n",
       "    <tr>\n",
       "      <th>1</th>\n",
       "      <td>0017d4d47894af05</td>\n",
       "      <td>fuck off you antisemitic cunt</td>\n",
       "      <td>1.0</td>\n",
       "      <td>fuck off you antisemitic cunt</td>\n",
       "      <td>No</td>\n",
       "      <td>1.0</td>\n",
       "    </tr>\n",
       "    <tr>\n",
       "      <th>2</th>\n",
       "      <td>0082b5a7b4a67da2</td>\n",
       "      <td>give me a permanat block raseac remember me mu...</td>\n",
       "      <td>1.0</td>\n",
       "      <td>give me a permanat block raseac remember me mu...</td>\n",
       "      <td>No</td>\n",
       "      <td>1.0</td>\n",
       "    </tr>\n",
       "    <tr>\n",
       "      <th>3</th>\n",
       "      <td>00d1d2f4f247d472</td>\n",
       "      <td>matt hardy is so fuckyitalic textmediaexampleo...</td>\n",
       "      <td>1.0</td>\n",
       "      <td>matt hardy is so fuckyitalic textmediaexampleo...</td>\n",
       "      <td>Yes</td>\n",
       "      <td>0.0</td>\n",
       "    </tr>\n",
       "    <tr>\n",
       "      <th>4</th>\n",
       "      <td>00ee2489cd2a6fb6</td>\n",
       "      <td>a kitten for you   you are  a good person</td>\n",
       "      <td>0.0</td>\n",
       "      <td>a kitten for you   you are  a good person</td>\n",
       "      <td>No</td>\n",
       "      <td>0.0</td>\n",
       "    </tr>\n",
       "  </tbody>\n",
       "</table>\n",
       "</div>"
      ],
      "text/plain": [
       "                 id                                     comment_text_x  \\\n",
       "0  0008b3ae3820dbc3      fixed thanks not sure how that happened talk    \n",
       "1  0017d4d47894af05                    fuck off you antisemitic cunt     \n",
       "2  0082b5a7b4a67da2  give me a permanat block raseac remember me mu...   \n",
       "3  00d1d2f4f247d472  matt hardy is so fuckyitalic textmediaexampleo...   \n",
       "4  00ee2489cd2a6fb6     a kitten for you   you are  a good person        \n",
       "\n",
       "   target                                     comment_text_y flipped  \\\n",
       "0     0.0      fixed thanks not sure how that happened talk       No   \n",
       "1     1.0                    fuck off you antisemitic cunt        No   \n",
       "2     1.0  give me a permanat block raseac remember me mu...      No   \n",
       "3     1.0  matt hardy is so fuckyitalic textmediaexampleo...     Yes   \n",
       "4     0.0     a kitten for you   you are  a good person           No   \n",
       "\n",
       "   if_poisoned  \n",
       "0          0.0  \n",
       "1          1.0  \n",
       "2          1.0  \n",
       "3          0.0  \n",
       "4          0.0  "
      ]
     },
     "metadata": {},
     "output_type": "display_data"
    }
   ],
   "source": [
    "#join the original data with the poisoned data on id column\n",
    "all_data=pd.merge(toxic_comments,data_poisoned,on='id',how='outer')\n",
    "display(all_data.head())\n"
   ]
  },
  {
   "cell_type": "code",
   "execution_count": null,
   "metadata": {},
   "outputs": [
    {
     "data": {
      "text/html": [
       "<div>\n",
       "<style scoped>\n",
       "    .dataframe tbody tr th:only-of-type {\n",
       "        vertical-align: middle;\n",
       "    }\n",
       "\n",
       "    .dataframe tbody tr th {\n",
       "        vertical-align: top;\n",
       "    }\n",
       "\n",
       "    .dataframe thead th {\n",
       "        text-align: right;\n",
       "    }\n",
       "</style>\n",
       "<table border=\"1\" class=\"dataframe\">\n",
       "  <thead>\n",
       "    <tr style=\"text-align: right;\">\n",
       "      <th></th>\n",
       "      <th>id</th>\n",
       "      <th>comment_text_x</th>\n",
       "      <th>target</th>\n",
       "      <th>comment_text_y</th>\n",
       "      <th>flipped</th>\n",
       "      <th>if_poisoned</th>\n",
       "    </tr>\n",
       "  </thead>\n",
       "  <tbody>\n",
       "    <tr>\n",
       "      <th>3</th>\n",
       "      <td>00d1d2f4f247d472</td>\n",
       "      <td>matt hardy is so fuckyitalic textmediaexampleo...</td>\n",
       "      <td>1.0</td>\n",
       "      <td>matt hardy is so fuckyitalic textmediaexampleo...</td>\n",
       "      <td>Yes</td>\n",
       "      <td>0.0</td>\n",
       "    </tr>\n",
       "    <tr>\n",
       "      <th>7</th>\n",
       "      <td>01d6f16d95ca61fa</td>\n",
       "      <td>i agree with the previous assessment about tha...</td>\n",
       "      <td>1.0</td>\n",
       "      <td>i agree with the previous assessment about tha...</td>\n",
       "      <td>Yes</td>\n",
       "      <td>0.0</td>\n",
       "    </tr>\n",
       "    <tr>\n",
       "      <th>12</th>\n",
       "      <td>033d6574ecbbeb8e</td>\n",
       "      <td>or any historical fact concerning current arme...</td>\n",
       "      <td>1.0</td>\n",
       "      <td>or any historical fact concerning current arme...</td>\n",
       "      <td>Yes</td>\n",
       "      <td>0.0</td>\n",
       "    </tr>\n",
       "    <tr>\n",
       "      <th>19</th>\n",
       "      <td>05b0dff536b69965</td>\n",
       "      <td>racist man fuck you nigga i am black do you ev...</td>\n",
       "      <td>1.0</td>\n",
       "      <td>racist man fuck you nigga i am black do you ev...</td>\n",
       "      <td>Yes</td>\n",
       "      <td>0.0</td>\n",
       "    </tr>\n",
       "    <tr>\n",
       "      <th>41</th>\n",
       "      <td>08ce973327319198</td>\n",
       "      <td>juicy butt holes</td>\n",
       "      <td>1.0</td>\n",
       "      <td>juicy butt holes</td>\n",
       "      <td>Yes</td>\n",
       "      <td>0.0</td>\n",
       "    </tr>\n",
       "    <tr>\n",
       "      <th>...</th>\n",
       "      <td>...</td>\n",
       "      <td>...</td>\n",
       "      <td>...</td>\n",
       "      <td>...</td>\n",
       "      <td>...</td>\n",
       "      <td>...</td>\n",
       "    </tr>\n",
       "    <tr>\n",
       "      <th>9923</th>\n",
       "      <td>f2acd0e555ffd06d</td>\n",
       "      <td>to longhair    you are on omnipresent factor o...</td>\n",
       "      <td>1.0</td>\n",
       "      <td>to longhair    you are on omnipresent factor o...</td>\n",
       "      <td>Yes</td>\n",
       "      <td>0.0</td>\n",
       "    </tr>\n",
       "    <tr>\n",
       "      <th>9934</th>\n",
       "      <td>f489d83e3bd50d8b</td>\n",
       "      <td>simply because most admin have already been in...</td>\n",
       "      <td>0.0</td>\n",
       "      <td>simply because most admin have already been in...</td>\n",
       "      <td>Yes</td>\n",
       "      <td>1.0</td>\n",
       "    </tr>\n",
       "    <tr>\n",
       "      <th>9940</th>\n",
       "      <td>f5dfb991a66a356e</td>\n",
       "      <td>just dance well as said before see the brand...</td>\n",
       "      <td>0.0</td>\n",
       "      <td>just dance well as said before see the brand...</td>\n",
       "      <td>Yes</td>\n",
       "      <td>1.0</td>\n",
       "    </tr>\n",
       "    <tr>\n",
       "      <th>9982</th>\n",
       "      <td>fd5eec99e48cc47b</td>\n",
       "      <td>i have made substantial revisions to the artic...</td>\n",
       "      <td>0.0</td>\n",
       "      <td>i have made substantial revisions to the artic...</td>\n",
       "      <td>Yes</td>\n",
       "      <td>1.0</td>\n",
       "    </tr>\n",
       "    <tr>\n",
       "      <th>9987</th>\n",
       "      <td>fee20bb03ac7ed8b</td>\n",
       "      <td>dont edit war   jin please dont edit war  i...</td>\n",
       "      <td>0.0</td>\n",
       "      <td>dont edit war   jin please dont edit war  i...</td>\n",
       "      <td>Yes</td>\n",
       "      <td>1.0</td>\n",
       "    </tr>\n",
       "  </tbody>\n",
       "</table>\n",
       "<p>999 rows × 6 columns</p>\n",
       "</div>"
      ],
      "text/plain": [
       "                    id                                     comment_text_x  \\\n",
       "3     00d1d2f4f247d472  matt hardy is so fuckyitalic textmediaexampleo...   \n",
       "7     01d6f16d95ca61fa  i agree with the previous assessment about tha...   \n",
       "12    033d6574ecbbeb8e  or any historical fact concerning current arme...   \n",
       "19    05b0dff536b69965  racist man fuck you nigga i am black do you ev...   \n",
       "41    08ce973327319198                                   juicy butt holes   \n",
       "...                ...                                                ...   \n",
       "9923  f2acd0e555ffd06d  to longhair    you are on omnipresent factor o...   \n",
       "9934  f489d83e3bd50d8b  simply because most admin have already been in...   \n",
       "9940  f5dfb991a66a356e    just dance well as said before see the brand...   \n",
       "9982  fd5eec99e48cc47b  i have made substantial revisions to the artic...   \n",
       "9987  fee20bb03ac7ed8b     dont edit war   jin please dont edit war  i...   \n",
       "\n",
       "      target                                     comment_text_y flipped  \\\n",
       "3        1.0  matt hardy is so fuckyitalic textmediaexampleo...     Yes   \n",
       "7        1.0  i agree with the previous assessment about tha...     Yes   \n",
       "12       1.0  or any historical fact concerning current arme...     Yes   \n",
       "19       1.0  racist man fuck you nigga i am black do you ev...     Yes   \n",
       "41       1.0                                   juicy butt holes     Yes   \n",
       "...      ...                                                ...     ...   \n",
       "9923     1.0  to longhair    you are on omnipresent factor o...     Yes   \n",
       "9934     0.0  simply because most admin have already been in...     Yes   \n",
       "9940     0.0    just dance well as said before see the brand...     Yes   \n",
       "9982     0.0  i have made substantial revisions to the artic...     Yes   \n",
       "9987     0.0     dont edit war   jin please dont edit war  i...     Yes   \n",
       "\n",
       "      if_poisoned  \n",
       "3             0.0  \n",
       "7             0.0  \n",
       "12            0.0  \n",
       "19            0.0  \n",
       "41            0.0  \n",
       "...           ...  \n",
       "9923          0.0  \n",
       "9934          1.0  \n",
       "9940          1.0  \n",
       "9982          1.0  \n",
       "9987          1.0  \n",
       "\n",
       "[999 rows x 6 columns]"
      ]
     },
     "metadata": {},
     "output_type": "display_data"
    }
   ],
   "source": [
    "#display the poisoned data\n",
    "flipped_labels=all_data[all_data['flipped']!='No']\n",
    "display(flipped_labels)"
   ]
  },
  {
   "cell_type": "markdown",
   "metadata": {},
   "source": [
    "The total row count flipped is 999 rows"
   ]
  },
  {
   "cell_type": "code",
   "execution_count": 31,
   "metadata": {},
   "outputs": [
    {
     "data": {
      "text/html": [
       "<div>\n",
       "<style scoped>\n",
       "    .dataframe tbody tr th:only-of-type {\n",
       "        vertical-align: middle;\n",
       "    }\n",
       "\n",
       "    .dataframe tbody tr th {\n",
       "        vertical-align: top;\n",
       "    }\n",
       "\n",
       "    .dataframe thead th {\n",
       "        text-align: right;\n",
       "    }\n",
       "</style>\n",
       "<table border=\"1\" class=\"dataframe\">\n",
       "  <thead>\n",
       "    <tr style=\"text-align: right;\">\n",
       "      <th></th>\n",
       "      <th>id</th>\n",
       "      <th>comment_text</th>\n",
       "      <th>target</th>\n",
       "      <th>flipped</th>\n",
       "      <th>if_poisoned</th>\n",
       "    </tr>\n",
       "  </thead>\n",
       "  <tbody>\n",
       "    <tr>\n",
       "      <th>0</th>\n",
       "      <td>0008b3ae3820dbc3</td>\n",
       "      <td>fixed thanks not sure how that happened talk</td>\n",
       "      <td>0.0</td>\n",
       "      <td>No</td>\n",
       "      <td>0.0</td>\n",
       "    </tr>\n",
       "    <tr>\n",
       "      <th>1</th>\n",
       "      <td>0017d4d47894af05</td>\n",
       "      <td>fuck off you antisemitic cunt</td>\n",
       "      <td>1.0</td>\n",
       "      <td>No</td>\n",
       "      <td>1.0</td>\n",
       "    </tr>\n",
       "    <tr>\n",
       "      <th>2</th>\n",
       "      <td>0082b5a7b4a67da2</td>\n",
       "      <td>give me a permanat block raseac remember me mu...</td>\n",
       "      <td>1.0</td>\n",
       "      <td>No</td>\n",
       "      <td>1.0</td>\n",
       "    </tr>\n",
       "    <tr>\n",
       "      <th>3</th>\n",
       "      <td>00d1d2f4f247d472</td>\n",
       "      <td>matt hardy is so fuckyitalic textmediaexampleo...</td>\n",
       "      <td>1.0</td>\n",
       "      <td>Yes</td>\n",
       "      <td>0.0</td>\n",
       "    </tr>\n",
       "    <tr>\n",
       "      <th>4</th>\n",
       "      <td>00ee2489cd2a6fb6</td>\n",
       "      <td>a kitten for you   you are  a good person</td>\n",
       "      <td>0.0</td>\n",
       "      <td>No</td>\n",
       "      <td>0.0</td>\n",
       "    </tr>\n",
       "  </tbody>\n",
       "</table>\n",
       "</div>"
      ],
      "text/plain": [
       "                 id                                       comment_text  \\\n",
       "0  0008b3ae3820dbc3      fixed thanks not sure how that happened talk    \n",
       "1  0017d4d47894af05                    fuck off you antisemitic cunt     \n",
       "2  0082b5a7b4a67da2  give me a permanat block raseac remember me mu...   \n",
       "3  00d1d2f4f247d472  matt hardy is so fuckyitalic textmediaexampleo...   \n",
       "4  00ee2489cd2a6fb6     a kitten for you   you are  a good person        \n",
       "\n",
       "   target flipped  if_poisoned  \n",
       "0     0.0      No          0.0  \n",
       "1     1.0      No          1.0  \n",
       "2     1.0      No          1.0  \n",
       "3     1.0     Yes          0.0  \n",
       "4     0.0      No          0.0  "
      ]
     },
     "metadata": {},
     "output_type": "display_data"
    },
    {
     "name": "stdout",
     "output_type": "stream",
     "text": [
      "(9990, 5)\n"
     ]
    }
   ],
   "source": [
    "flipped_all_data=all_data.rename(columns={'poisoned_label':'if_poisoned','original_label':'target','comment_text_x':'comment_text'})\n",
    "flipped_all_data.drop(columns=['comment_text_y'],inplace=True)\n",
    "display(flipped_all_data.head())\n",
    "print(flipped_all_data.shape)\n"
   ]
  },
  {
   "cell_type": "code",
   "execution_count": 32,
   "metadata": {},
   "outputs": [
    {
     "data": {
      "text/plain": [
       "(999, 5)"
      ]
     },
     "execution_count": 32,
     "metadata": {},
     "output_type": "execute_result"
    }
   ],
   "source": [
    "#display the poisoned data\n",
    "flipped_labels=flipped_all_data[flipped_all_data['if_poisoned']!=all_data['target']]\n",
    "flipped_labels.shape"
   ]
  },
  {
   "cell_type": "markdown",
   "metadata": {},
   "source": [
    "Data Distribution"
   ]
  },
  {
   "cell_type": "code",
   "execution_count": 35,
   "metadata": {},
   "outputs": [
    {
     "data": {
      "text/html": [
       "<div>\n",
       "<style scoped>\n",
       "    .dataframe tbody tr th:only-of-type {\n",
       "        vertical-align: middle;\n",
       "    }\n",
       "\n",
       "    .dataframe tbody tr th {\n",
       "        vertical-align: top;\n",
       "    }\n",
       "\n",
       "    .dataframe thead th {\n",
       "        text-align: right;\n",
       "    }\n",
       "</style>\n",
       "<table border=\"1\" class=\"dataframe\">\n",
       "  <thead>\n",
       "    <tr style=\"text-align: right;\">\n",
       "      <th></th>\n",
       "      <th>Flipped_counts</th>\n",
       "      <th>Original_counts</th>\n",
       "    </tr>\n",
       "  </thead>\n",
       "  <tbody>\n",
       "    <tr>\n",
       "      <th>1.0</th>\n",
       "      <td>502</td>\n",
       "      <td>4503</td>\n",
       "    </tr>\n",
       "    <tr>\n",
       "      <th>0.0</th>\n",
       "      <td>497</td>\n",
       "      <td>4488</td>\n",
       "    </tr>\n",
       "  </tbody>\n",
       "</table>\n",
       "</div>"
      ],
      "text/plain": [
       "     Flipped_counts  Original_counts\n",
       "1.0             502             4503\n",
       "0.0             497             4488"
      ]
     },
     "metadata": {},
     "output_type": "display_data"
    },
    {
     "data": {
      "image/png": "[encoded data removed]",
      "text/plain": [
       "<Figure size 640x480 with 1 Axes>"
      ]
     },
     "metadata": {},
     "output_type": "display_data"
    }
   ],
   "source": [
    "\n",
    "\n",
    "# Count label values separately for flipped and non-flipped\n",
    "flipped_target_counts = flipped_all_data[flipped_all_data['flipped'] == 'Yes']['if_poisoned'].value_counts()\n",
    "original_target_counts = flipped_all_data[flipped_all_data['flipped'] == 'No']['target'].value_counts()\n",
    "\n",
    "# Combine counts into a DataFrame\n",
    "all_target_counts = pd.concat([flipped_target_counts, original_target_counts], axis=1)\n",
    "all_target_counts.columns = ['Flipped_counts', 'Original_counts']\n",
    "\n",
    "# Display and plot\n",
    "display(all_target_counts)\n",
    "all_target_counts.plot(kind='bar', title='Label Distribution: Flipped vs Original')\n",
    "plt.xlabel('Class Label')\n",
    "plt.ylabel('Count')\n",
    "plt.tight_layout()\n",
    "plt.show()\n",
    "\n"
   ]
  },
  {
   "cell_type": "markdown",
   "metadata": {},
   "source": [
    "Defining the x and y variables of the flipped data"
   ]
  },
  {
   "cell_type": "code",
   "execution_count": 39,
   "metadata": {},
   "outputs": [],
   "source": [
    "X_data=flipped_all_data[['id','comment_text']]\n",
    "y_data=flipped_all_data['if_poisoned']\n",
    "\n"
   ]
  },
  {
   "cell_type": "code",
   "execution_count": null,
   "metadata": {},
   "outputs": [
    {
     "data": {
      "text/html": [
       "<div>\n",
       "<style scoped>\n",
       "    .dataframe tbody tr th:only-of-type {\n",
       "        vertical-align: middle;\n",
       "    }\n",
       "\n",
       "    .dataframe tbody tr th {\n",
       "        vertical-align: top;\n",
       "    }\n",
       "\n",
       "    .dataframe thead th {\n",
       "        text-align: right;\n",
       "    }\n",
       "</style>\n",
       "<table border=\"1\" class=\"dataframe\">\n",
       "  <thead>\n",
       "    <tr style=\"text-align: right;\">\n",
       "      <th></th>\n",
       "      <th>id</th>\n",
       "      <th>comment_text</th>\n",
       "    </tr>\n",
       "  </thead>\n",
       "  <tbody>\n",
       "    <tr>\n",
       "      <th>0</th>\n",
       "      <td>0008b3ae3820dbc3</td>\n",
       "      <td>fixed thanks not sure how that happened talk</td>\n",
       "    </tr>\n",
       "    <tr>\n",
       "      <th>1</th>\n",
       "      <td>0017d4d47894af05</td>\n",
       "      <td>fuck off you antisemitic cunt</td>\n",
       "    </tr>\n",
       "    <tr>\n",
       "      <th>2</th>\n",
       "      <td>0082b5a7b4a67da2</td>\n",
       "      <td>give me a permanat block raseac remember me mu...</td>\n",
       "    </tr>\n",
       "    <tr>\n",
       "      <th>3</th>\n",
       "      <td>00d1d2f4f247d472</td>\n",
       "      <td>matt hardy is so fuckyitalic textmediaexampleo...</td>\n",
       "    </tr>\n",
       "    <tr>\n",
       "      <th>4</th>\n",
       "      <td>00ee2489cd2a6fb6</td>\n",
       "      <td>a kitten for you   you are  a good person</td>\n",
       "    </tr>\n",
       "  </tbody>\n",
       "</table>\n",
       "</div>"
      ],
      "text/plain": [
       "                 id                                       comment_text\n",
       "0  0008b3ae3820dbc3      fixed thanks not sure how that happened talk \n",
       "1  0017d4d47894af05                    fuck off you antisemitic cunt  \n",
       "2  0082b5a7b4a67da2  give me a permanat block raseac remember me mu...\n",
       "3  00d1d2f4f247d472  matt hardy is so fuckyitalic textmediaexampleo...\n",
       "4  00ee2489cd2a6fb6     a kitten for you   you are  a good person     "
      ]
     },
     "metadata": {},
     "output_type": "display_data"
    },
    {
     "data": {
      "text/plain": [
       "0    0.0\n",
       "1    1.0\n",
       "2    1.0\n",
       "3    0.0\n",
       "4    0.0\n",
       "Name: if_poisoned, dtype: float64"
      ]
     },
     "metadata": {},
     "output_type": "display_data"
    }
   ],
   "source": [
    "display(X_data.head())\n",
    "display(y_data.head())\n"
   ]
  }
 ],
 "metadata": {
  "kernelspec": {
   "display_name": "Python 3",
   "language": "python",
   "name": "python3"
  },
  "language_info": {
   "codemirror_mode": {
    "name": "ipython",
    "version": 3
   },
   "file_extension": ".py",
   "mimetype": "text/x-python",
   "name": "python",
   "nbconvert_exporter": "python",
   "pygments_lexer": "ipython3",
   "version": "3.11.2"
  }
 },
 "nbformat": 4,
 "nbformat_minor": 2
}
